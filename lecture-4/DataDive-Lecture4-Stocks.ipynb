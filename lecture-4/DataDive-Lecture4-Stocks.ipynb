{
 "cells": [
  {
   "cell_type": "markdown",
   "metadata": {},
   "source": [
    "# Data Dive: Exploring Stock Returns\n",
    "\n",
    "The today's exercise takes a look at stock data from [Alpha Vantage](https://www.alphavantage.co/documentation/). Stock returns can translate to enormous swings of wealth, and thus have long been the subject of statistical analysis. Today we'll take a look at just a handful of properties of stock returns. The bulk of our exercise will look at data for six stocks: AT&T (`T`), Apple (`AAPL`), Facebook (`FB`), General Electric (`GE`), IBM (`IBM`), and Microsoft (`MSFT`) and a fund that tracks the broader market: the [Vanguard S&P 500 ETF]() (`VOO`).  \n",
    "\n",
    "![TP](https://media.giphy.com/media/NyCWiCGZpoLLO/source.gif)\n",
    "\n",
    "\n",
    "#### Note: You'll Need an API Key for this exercise, and there are limits.\n",
    " * You can sign up for an API key [here](https://www.alphavantage.co/support/#api-key). \n",
    " * The service is limited to 5 calls per minute, which is enough for us to do some light analysis, if we think carefully about how we use it. "
   ]
  },
  {
   "cell_type": "code",
   "execution_count": null,
   "metadata": {},
   "outputs": [],
   "source": [
    "import requests\n",
    "import time\n",
    "import pandas as pd\n",
    "import matplotlib.pyplot as plt\n",
    "import numpy as np\n",
    "\n",
    "%matplotlib inline"
   ]
  },
  {
   "cell_type": "markdown",
   "metadata": {},
   "source": [
    "#### Read in list of stocks and stock tickers\n",
    "\n",
    "In order to be able to easily look up stock tickers, we can load a dictionary of all of the members of the S&P 500, a set of the largest 500 publicly traded stocks in the U.S."
   ]
  },
  {
   "cell_type": "code",
   "execution_count": null,
   "metadata": {},
   "outputs": [],
   "source": [
    "tickers = pd.read_csv(\n",
    "    'https://datahub.io/core/s-and-p-500-companies/r/constituents.csv', \n",
    "    index_col=1\n",
    ").to_dict()['Symbol']\n",
    "\n",
    "companies = dict([(value, key) for key, value in tickers.items()]) "
   ]
  },
  {
   "cell_type": "code",
   "execution_count": null,
   "metadata": {},
   "outputs": [],
   "source": [
    "tickers['AT&T Inc.']\n"
   ]
  },
  {
   "cell_type": "markdown",
   "metadata": {},
   "source": [
    "### Build a function to retrieve stock prices for a given portfolio. \n",
    "\n",
    "We'll tap the Alpha Vantage through a custom function we build on our own. The customization in the function here makes the rest of the exercise easy. "
   ]
  },
  {
   "cell_type": "code",
   "execution_count": null,
   "metadata": {},
   "outputs": [],
   "source": [
    "def get_stock_prices(\n",
    "    portfolio=['T', 'FB', 'IBM', 'GE', 'AAPL', 'MSFT', 'VOO'],\n",
    "    start_year=2013,\n",
    "    go_slow=True\n",
    "):\n",
    "\n",
    "    price_df = pd.DataFrame()\n",
    "\n",
    "    for ticker in portfolio:\n",
    "\n",
    "        # set parameter values for Alpha Vantage API\n",
    "        params = {\n",
    "            'function' : 'TIME_SERIES_DAILY_ADJUSTED',\n",
    "            'symbol' : ticker,\n",
    "            'outputsize' : 'full',\n",
    "            'apikey' : 'xxxx'\n",
    "        }\n",
    "\n",
    "        # send request for single ticker\n",
    "        r = requests.get(\n",
    "            url='https://www.alphavantage.co/query?function=https://www.alphavantage.co/query?',\n",
    "            params = params\n",
    "        )\n",
    "\n",
    "        # ensure value comes back as expected\n",
    "        try:\n",
    "            raw_df = pd.DataFrame(r.json()['Time Series (Daily)']).transpose()\n",
    "\n",
    "            price_df = price_df.join(\n",
    "                pd.DataFrame(\n",
    "                    raw_df['5. adjusted close'].astype(float)\n",
    "                ).rename(\n",
    "                    columns={'5. adjusted close' : ticker}\n",
    "                ), \n",
    "                how='outer'\n",
    "            )\n",
    "\n",
    "        # except our known error where we submit more than 5 calls per minute\n",
    "        except KeyError:\n",
    "            print(r.json()['Note'])\n",
    "            break\n",
    "\n",
    "        # slow our process to make sure we don't break the api limits\n",
    "        if go_slow:\n",
    "            time.sleep(12)\n",
    "\n",
    "    # Cast our index as a \n",
    "    price_df.index = pd.to_datetime(price_df.index)\n",
    "\n",
    "    price_df = price_df.loc[price_df.index.year>=start_year]\n",
    "    \n",
    "    return price_df\n"
   ]
  },
  {
   "cell_type": "markdown",
   "metadata": {},
   "source": [
    "#### Use Function to Pull Data"
   ]
  },
  {
   "cell_type": "code",
   "execution_count": null,
   "metadata": {},
   "outputs": [],
   "source": [
    "price_df = get_stock_prices()\n",
    "    \n",
    "price_df.tail()"
   ]
  },
  {
   "cell_type": "markdown",
   "metadata": {},
   "source": [
    "##### Plot the price history for all of the stocks. Which has returned the most?"
   ]
  },
  {
   "cell_type": "code",
   "execution_count": null,
   "metadata": {},
   "outputs": [],
   "source": []
  },
  {
   "cell_type": "code",
   "execution_count": null,
   "metadata": {},
   "outputs": [],
   "source": []
  },
  {
   "cell_type": "code",
   "execution_count": null,
   "metadata": {},
   "outputs": [],
   "source": []
  },
  {
   "cell_type": "markdown",
   "metadata": {},
   "source": [
    "#### Transform Prices to Returns"
   ]
  },
  {
   "cell_type": "code",
   "execution_count": null,
   "metadata": {},
   "outputs": [],
   "source": [
    "return_df = price_df.pct_change(periods=1).dropna(axis=0)\n",
    "return_df.tail(10)"
   ]
  },
  {
   "cell_type": "markdown",
   "metadata": {},
   "source": [
    "### Part I: Visualize Returns\n",
    "\n",
    "Look at the Build histograms for the returns for each of the stocks. What do the distributions of these stocks look like?"
   ]
  },
  {
   "cell_type": "code",
   "execution_count": null,
   "metadata": {},
   "outputs": [],
   "source": [
    "stocks = ['GE', 'AAPL', 'IBM', 'FB', 'T', 'MSFT']\n",
    "return_df[stocks].hist(bins=50, figsize=(10,15))"
   ]
  },
  {
   "cell_type": "code",
   "execution_count": null,
   "metadata": {},
   "outputs": [],
   "source": []
  },
  {
   "cell_type": "markdown",
   "metadata": {},
   "source": [
    "#### Which is has the highest average return? Which is the most volatile?\n",
    "\n",
    "1. Identify and plot the summary statistics to answer each of these \n",
    "2. Are there other plots that might also be useful in illustrating these concepts?"
   ]
  },
  {
   "cell_type": "code",
   "execution_count": null,
   "metadata": {},
   "outputs": [],
   "source": []
  },
  {
   "cell_type": "code",
   "execution_count": null,
   "metadata": {},
   "outputs": [],
   "source": []
  },
  {
   "cell_type": "markdown",
   "metadata": {},
   "source": [
    "### Part II: Confidence Intervals\n",
    "\n",
    "Based on this data, find the most you would lose on a \\$10,000 investment with 95 percent and 99 percent confidence.\n",
    "* Is it fair to call this a confidence interval?\n",
    "* How else might you calculate such as confidence interval?\n"
   ]
  },
  {
   "cell_type": "code",
   "execution_count": null,
   "metadata": {},
   "outputs": [],
   "source": []
  },
  {
   "cell_type": "code",
   "execution_count": null,
   "metadata": {},
   "outputs": [],
   "source": []
  },
  {
   "cell_type": "code",
   "execution_count": null,
   "metadata": {},
   "outputs": [],
   "source": []
  },
  {
   "cell_type": "markdown",
   "metadata": {},
   "source": [
    "### Part III: Correlation\n",
    "\n",
    "For each of the six stocks, which are most correlated with each other?\n",
    "* Why might this be the case?\n",
    "* Can we visualize these correlations?\n",
    "\n",
    "For each of the six stocks, which are most correlated with the broader market index?\n",
    "* How might we use the data?\n",
    "* If we regress these returns against the market which has the biggest slope and intercept?"
   ]
  },
  {
   "cell_type": "code",
   "execution_count": null,
   "metadata": {},
   "outputs": [],
   "source": []
  },
  {
   "cell_type": "code",
   "execution_count": null,
   "metadata": {},
   "outputs": [],
   "source": []
  },
  {
   "cell_type": "code",
   "execution_count": null,
   "metadata": {},
   "outputs": [],
   "source": []
  },
  {
   "cell_type": "code",
   "execution_count": null,
   "metadata": {},
   "outputs": [],
   "source": []
  },
  {
   "cell_type": "code",
   "execution_count": null,
   "metadata": {},
   "outputs": [],
   "source": []
  },
  {
   "cell_type": "code",
   "execution_count": null,
   "metadata": {},
   "outputs": [],
   "source": []
  },
  {
   "cell_type": "markdown",
   "metadata": {},
   "source": [
    "# Can you beat a randomly selected stock?\n",
    "\n",
    "Lots of stocks have gone up over the past five years - the entire market has. The important question when evaluating the performance of a so-called expert is whether they can beat the market. If not, there's a decent chance that [a monkey picking stocks at random](https://www.forbes.com/sites/rickferri/2012/12/20/any-monkey-can-beat-the-market/#70a62eb0630a) can do better. \n",
    "\n",
    "![monkey](https://media.giphy.com/media/ARrQFpc6km5eU/giphy.gif)"
   ]
  },
  {
   "cell_type": "code",
   "execution_count": null,
   "metadata": {},
   "outputs": [],
   "source": [
    "your_pick = tickers['Amazon.com Inc.']\n"
   ]
  },
  {
   "cell_type": "code",
   "execution_count": null,
   "metadata": {},
   "outputs": [],
   "source": [
    "random_pick = np.random.choice(list(tickers.values()))\n",
    "choice_df = get_stock_prices([your_pick, random_pick, 'VOO'], start_year=2018)\n",
    "\n",
    "choice_df = choice_df.rename(\n",
    "    columns={\n",
    "        your_pick : companies[your_pick],\n",
    "        random_pick : companies[random_pick],\n",
    "        'VOO' : 'S&P 500'\n",
    "    }\n",
    ")\n",
    "choice_df = choice_df / choice_df.iloc[0]\n",
    "choice_df.plot()"
   ]
  },
  {
   "cell_type": "code",
   "execution_count": null,
   "metadata": {},
   "outputs": [],
   "source": []
  },
  {
   "cell_type": "code",
   "execution_count": null,
   "metadata": {},
   "outputs": [],
   "source": []
  },
  {
   "cell_type": "markdown",
   "metadata": {},
   "source": [
    "# Google Trends\n",
    "\n",
    "![TP](data:image/png;base64,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)\n",
    "\n",
    "Movements in stock can reflect a lot of what happens in the world, but not all of it. To get a broader picture of what moves markets, we can also look at internet activity, particularly Google Trends. \n",
    "\n",
    "[Google Trends](https://trends.google.com/trends/?geo=US) is a platform by Google that analyzes the popularity of top search queries in Google Search across various regions and languages. \n",
    "\n",
    "## What Drives Price Movements?\n",
    "\n",
    "Stocks prices move up and down for any number of reasons, particularly as unexpected news about them comes up. To learn more about how news interacts with stock prices, we can look plot [Google Trends] against stock prices themselves. \n",
    "\n",
    "Below is some code to help with that which builds on [`pytrends`](https://github.com/GeneralMills/pytrends), a package created and made freely available by the engineering team at [General Mills](https://www.generalmills.com/en/Brands). \n",
    "\n"
   ]
  },
  {
   "cell_type": "markdown",
   "metadata": {},
   "source": [
    "##### First, import (and install if necessary) `pytrends`"
   ]
  },
  {
   "cell_type": "code",
   "execution_count": null,
   "metadata": {},
   "outputs": [],
   "source": [
    "try:\n",
    "    from pytrends.request import TrendReq\n",
    "except ModuleNotFoundError:\n",
    "    !pip install pytrends\n",
    "    from pytrends.request import TrendReq\n"
   ]
  },
  {
   "cell_type": "code",
   "execution_count": null,
   "metadata": {},
   "outputs": [],
   "source": [
    "def plot_trends(terms=None, ticker=None):\n",
    "    \n",
    "    pytrends = TrendReq(hl='en-US', tz=360)\n",
    "    if type(terms)==str:\n",
    "        kw_list = [terms]\n",
    "    else: \n",
    "        kw_list = terms\n",
    "    pytrends.build_payload(kw_list, cat=0, timeframe='today 5-y', geo='', gprop='')\n",
    "    ts_df = pytrends.interest_over_time()\n",
    "    ts_df.index = ts_df.index + pd.DateOffset(-2)\n",
    "    \n",
    "    stock_df = get_stock_prices(ticker)\n",
    "    \n",
    "    plot_df = pd.DataFrame(ts_df[terms]).join(price_df[ticker], how='inner')\n",
    "    plot_df.plot(figsize=(15, 7))\n",
    "    \n",
    "    print(plot_df.corr())\n",
    "    \n",
    "plot_trends(['Mark Zuckerberg', 'Cambridge Analytica'], 'FB')"
   ]
  },
  {
   "cell_type": "code",
   "execution_count": null,
   "metadata": {},
   "outputs": [],
   "source": []
  },
  {
   "cell_type": "code",
   "execution_count": null,
   "metadata": {},
   "outputs": [],
   "source": []
  }
 ],
 "metadata": {
  "anaconda-cloud": {},
  "kernelspec": {
   "display_name": "Python 3",
   "language": "python",
   "name": "python3"
  },
  "language_info": {
   "codemirror_mode": {
    "name": "ipython",
    "version": 3
   },
   "file_extension": ".py",
   "mimetype": "text/x-python",
   "name": "python",
   "nbconvert_exporter": "python",
   "pygments_lexer": "ipython3",
   "version": "3.6.7"
  }
 },
 "nbformat": 4,
 "nbformat_minor": 1
}
