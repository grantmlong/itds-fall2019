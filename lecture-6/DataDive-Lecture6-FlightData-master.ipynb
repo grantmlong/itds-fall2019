{
 "cells": [
  {
   "cell_type": "markdown",
   "metadata": {
    "colab_type": "text",
    "id": "gpQ0tepM2f5c"
   },
   "source": [
    "# Data Dive Week 6: Logistic Regression \n",
    "\n",
    "This week we take a look at *logistic regression*, the first classification model we'll be covering in class. We'll be using `scikit-learn` in today's exercise. \n",
    "\n",
    "\n",
    "***\n",
    "\n",
    "As we discussed last week, logisitic regression is a *classification model* - meaning that it is designed to idenfity the likelihood that a given observed data point belongs to set class, or category. Today we'll be looking at a real world application of logistic regression using July 2019 flight data from the U.S. Department of Transportation's [Bureau of Transportation Statistics](https://www.transtats.bts.gov/DL_SelectFields.asp?Table_ID=236). \n",
    "***\n",
    "\n",
    "![flights](https://media.giphy.com/media/Btn42lfKKrOzS/source.gif)\n"
   ]
  },
  {
   "cell_type": "code",
   "execution_count": 1,
   "metadata": {
    "colab": {},
    "colab_type": "code",
    "id": "QrNbUl1S2f5h"
   },
   "outputs": [],
   "source": [
    "%matplotlib inline\n",
    "\n",
    "import pandas as pd\n",
    "import numpy as np\n",
    "import statsmodels.api as sm\n",
    "from sklearn.linear_model import LogisticRegression\n"
   ]
  },
  {
   "cell_type": "code",
   "execution_count": 2,
   "metadata": {
    "colab": {
     "base_uri": "https://localhost:8080/",
     "height": 1000
    },
    "colab_type": "code",
    "executionInfo": {
     "elapsed": 11313,
     "status": "ok",
     "timestamp": 1571267825266,
     "user": {
      "displayName": "",
      "photoUrl": "",
      "userId": ""
     },
     "user_tz": 240
    },
    "id": "iVLbhe1Q2f5q",
    "outputId": "b26cadf8-5aa2-47e7-9b0a-ac3b192f0a11"
   },
   "outputs": [
    {
     "name": "stdout",
     "output_type": "stream",
     "text": [
      "(659029, 56)\n",
      "['YEAR', 'QUARTER', 'MONTH', 'DAY_OF_MONTH', 'DAY_OF_WEEK', 'FL_DATE', 'OP_UNIQUE_CARRIER', 'OP_CARRIER', 'TAIL_NUM', 'OP_CARRIER_FL_NUM', 'ORIGIN_AIRPORT_ID', 'ORIGIN_AIRPORT_SEQ_ID', 'ORIGIN_CITY_MARKET_ID', 'ORIGIN', 'ORIGIN_CITY_NAME', 'ORIGIN_STATE_ABR', 'ORIGIN_STATE_FIPS', 'ORIGIN_STATE_NM', 'ORIGIN_WAC', 'DEST_AIRPORT_ID', 'DEST_AIRPORT_SEQ_ID', 'DEST_CITY_MARKET_ID', 'DEST', 'DEST_CITY_NAME', 'DEST_STATE_ABR', 'DEST_STATE_FIPS', 'DEST_STATE_NM', 'DEST_WAC', 'CRS_DEP_TIME', 'DEP_TIME', 'DEP_DELAY', 'DEP_DELAY_NEW', 'DEP_DEL15', 'TAXI_OUT', 'WHEELS_OFF', 'WHEELS_ON', 'TAXI_IN', 'CRS_ARR_TIME', 'ARR_TIME', 'ARR_DELAY', 'ARR_DELAY_NEW', 'ARR_DEL15', 'CANCELLED', 'CANCELLATION_CODE', 'DIVERTED', 'CRS_ELAPSED_TIME', 'ACTUAL_ELAPSED_TIME', 'AIR_TIME', 'DISTANCE', 'DISTANCE_GROUP', 'CARRIER_DELAY', 'WEATHER_DELAY', 'NAS_DELAY', 'SECURITY_DELAY', 'LATE_AIRCRAFT_DELAY', 'Unnamed: 55']\n"
     ]
    },
    {
     "data": {
      "text/html": [
       "<div>\n",
       "<style scoped>\n",
       "    .dataframe tbody tr th:only-of-type {\n",
       "        vertical-align: middle;\n",
       "    }\n",
       "\n",
       "    .dataframe tbody tr th {\n",
       "        vertical-align: top;\n",
       "    }\n",
       "\n",
       "    .dataframe thead th {\n",
       "        text-align: right;\n",
       "    }\n",
       "</style>\n",
       "<table border=\"1\" class=\"dataframe\">\n",
       "  <thead>\n",
       "    <tr style=\"text-align: right;\">\n",
       "      <th></th>\n",
       "      <th>367517</th>\n",
       "      <th>178773</th>\n",
       "      <th>407814</th>\n",
       "      <th>324888</th>\n",
       "      <th>590717</th>\n",
       "    </tr>\n",
       "  </thead>\n",
       "  <tbody>\n",
       "    <tr>\n",
       "      <td>YEAR</td>\n",
       "      <td>2019</td>\n",
       "      <td>2019</td>\n",
       "      <td>2019</td>\n",
       "      <td>2019</td>\n",
       "      <td>2019</td>\n",
       "    </tr>\n",
       "    <tr>\n",
       "      <td>QUARTER</td>\n",
       "      <td>3</td>\n",
       "      <td>3</td>\n",
       "      <td>3</td>\n",
       "      <td>3</td>\n",
       "      <td>3</td>\n",
       "    </tr>\n",
       "    <tr>\n",
       "      <td>MONTH</td>\n",
       "      <td>7</td>\n",
       "      <td>7</td>\n",
       "      <td>7</td>\n",
       "      <td>7</td>\n",
       "      <td>7</td>\n",
       "    </tr>\n",
       "    <tr>\n",
       "      <td>DAY_OF_MONTH</td>\n",
       "      <td>19</td>\n",
       "      <td>4</td>\n",
       "      <td>7</td>\n",
       "      <td>28</td>\n",
       "      <td>1</td>\n",
       "    </tr>\n",
       "    <tr>\n",
       "      <td>DAY_OF_WEEK</td>\n",
       "      <td>5</td>\n",
       "      <td>4</td>\n",
       "      <td>7</td>\n",
       "      <td>7</td>\n",
       "      <td>1</td>\n",
       "    </tr>\n",
       "    <tr>\n",
       "      <td>FL_DATE</td>\n",
       "      <td>2019-07-19</td>\n",
       "      <td>2019-07-04</td>\n",
       "      <td>2019-07-07</td>\n",
       "      <td>2019-07-28</td>\n",
       "      <td>2019-07-01</td>\n",
       "    </tr>\n",
       "    <tr>\n",
       "      <td>OP_UNIQUE_CARRIER</td>\n",
       "      <td>WN</td>\n",
       "      <td>OO</td>\n",
       "      <td>WN</td>\n",
       "      <td>AA</td>\n",
       "      <td>OO</td>\n",
       "    </tr>\n",
       "    <tr>\n",
       "      <td>OP_CARRIER</td>\n",
       "      <td>WN</td>\n",
       "      <td>OO</td>\n",
       "      <td>WN</td>\n",
       "      <td>AA</td>\n",
       "      <td>OO</td>\n",
       "    </tr>\n",
       "    <tr>\n",
       "      <td>TAIL_NUM</td>\n",
       "      <td>N437WN</td>\n",
       "      <td>N297SY</td>\n",
       "      <td>N745SW</td>\n",
       "      <td>N903AN</td>\n",
       "      <td>N132SY</td>\n",
       "    </tr>\n",
       "    <tr>\n",
       "      <td>OP_CARRIER_FL_NUM</td>\n",
       "      <td>5527</td>\n",
       "      <td>3502</td>\n",
       "      <td>3608</td>\n",
       "      <td>1113</td>\n",
       "      <td>5561</td>\n",
       "    </tr>\n",
       "    <tr>\n",
       "      <td>ORIGIN_AIRPORT_ID</td>\n",
       "      <td>12191</td>\n",
       "      <td>13796</td>\n",
       "      <td>11292</td>\n",
       "      <td>14831</td>\n",
       "      <td>12441</td>\n",
       "    </tr>\n",
       "    <tr>\n",
       "      <td>ORIGIN_AIRPORT_SEQ_ID</td>\n",
       "      <td>1219102</td>\n",
       "      <td>1379608</td>\n",
       "      <td>1129202</td>\n",
       "      <td>1483106</td>\n",
       "      <td>1244102</td>\n",
       "    </tr>\n",
       "    <tr>\n",
       "      <td>ORIGIN_CITY_MARKET_ID</td>\n",
       "      <td>31453</td>\n",
       "      <td>32457</td>\n",
       "      <td>30325</td>\n",
       "      <td>32457</td>\n",
       "      <td>32441</td>\n",
       "    </tr>\n",
       "    <tr>\n",
       "      <td>ORIGIN</td>\n",
       "      <td>HOU</td>\n",
       "      <td>OAK</td>\n",
       "      <td>DEN</td>\n",
       "      <td>SJC</td>\n",
       "      <td>JAC</td>\n",
       "    </tr>\n",
       "    <tr>\n",
       "      <td>ORIGIN_CITY_NAME</td>\n",
       "      <td>Houston, TX</td>\n",
       "      <td>Oakland, CA</td>\n",
       "      <td>Denver, CO</td>\n",
       "      <td>San Jose, CA</td>\n",
       "      <td>Jackson, WY</td>\n",
       "    </tr>\n",
       "    <tr>\n",
       "      <td>ORIGIN_STATE_ABR</td>\n",
       "      <td>TX</td>\n",
       "      <td>CA</td>\n",
       "      <td>CO</td>\n",
       "      <td>CA</td>\n",
       "      <td>WY</td>\n",
       "    </tr>\n",
       "    <tr>\n",
       "      <td>ORIGIN_STATE_FIPS</td>\n",
       "      <td>48</td>\n",
       "      <td>6</td>\n",
       "      <td>8</td>\n",
       "      <td>6</td>\n",
       "      <td>56</td>\n",
       "    </tr>\n",
       "    <tr>\n",
       "      <td>ORIGIN_STATE_NM</td>\n",
       "      <td>Texas</td>\n",
       "      <td>California</td>\n",
       "      <td>Colorado</td>\n",
       "      <td>California</td>\n",
       "      <td>Wyoming</td>\n",
       "    </tr>\n",
       "    <tr>\n",
       "      <td>ORIGIN_WAC</td>\n",
       "      <td>74</td>\n",
       "      <td>91</td>\n",
       "      <td>82</td>\n",
       "      <td>91</td>\n",
       "      <td>88</td>\n",
       "    </tr>\n",
       "    <tr>\n",
       "      <td>DEST_AIRPORT_ID</td>\n",
       "      <td>10423</td>\n",
       "      <td>14869</td>\n",
       "      <td>12953</td>\n",
       "      <td>11298</td>\n",
       "      <td>12892</td>\n",
       "    </tr>\n",
       "    <tr>\n",
       "      <td>DEST_AIRPORT_SEQ_ID</td>\n",
       "      <td>1042302</td>\n",
       "      <td>1486903</td>\n",
       "      <td>1295304</td>\n",
       "      <td>1129806</td>\n",
       "      <td>1289208</td>\n",
       "    </tr>\n",
       "    <tr>\n",
       "      <td>DEST_CITY_MARKET_ID</td>\n",
       "      <td>30423</td>\n",
       "      <td>34614</td>\n",
       "      <td>31703</td>\n",
       "      <td>30194</td>\n",
       "      <td>32575</td>\n",
       "    </tr>\n",
       "    <tr>\n",
       "      <td>DEST</td>\n",
       "      <td>AUS</td>\n",
       "      <td>SLC</td>\n",
       "      <td>LGA</td>\n",
       "      <td>DFW</td>\n",
       "      <td>LAX</td>\n",
       "    </tr>\n",
       "    <tr>\n",
       "      <td>DEST_CITY_NAME</td>\n",
       "      <td>Austin, TX</td>\n",
       "      <td>Salt Lake City, UT</td>\n",
       "      <td>New York, NY</td>\n",
       "      <td>Dallas/Fort Worth, TX</td>\n",
       "      <td>Los Angeles, CA</td>\n",
       "    </tr>\n",
       "    <tr>\n",
       "      <td>DEST_STATE_ABR</td>\n",
       "      <td>TX</td>\n",
       "      <td>UT</td>\n",
       "      <td>NY</td>\n",
       "      <td>TX</td>\n",
       "      <td>CA</td>\n",
       "    </tr>\n",
       "    <tr>\n",
       "      <td>DEST_STATE_FIPS</td>\n",
       "      <td>48</td>\n",
       "      <td>49</td>\n",
       "      <td>36</td>\n",
       "      <td>48</td>\n",
       "      <td>6</td>\n",
       "    </tr>\n",
       "    <tr>\n",
       "      <td>DEST_STATE_NM</td>\n",
       "      <td>Texas</td>\n",
       "      <td>Utah</td>\n",
       "      <td>New York</td>\n",
       "      <td>Texas</td>\n",
       "      <td>California</td>\n",
       "    </tr>\n",
       "    <tr>\n",
       "      <td>DEST_WAC</td>\n",
       "      <td>74</td>\n",
       "      <td>87</td>\n",
       "      <td>22</td>\n",
       "      <td>74</td>\n",
       "      <td>91</td>\n",
       "    </tr>\n",
       "    <tr>\n",
       "      <td>CRS_DEP_TIME</td>\n",
       "      <td>2245</td>\n",
       "      <td>1005</td>\n",
       "      <td>1735</td>\n",
       "      <td>1148</td>\n",
       "      <td>725</td>\n",
       "    </tr>\n",
       "    <tr>\n",
       "      <td>DEP_TIME</td>\n",
       "      <td>2302</td>\n",
       "      <td>959</td>\n",
       "      <td>1830</td>\n",
       "      <td>1151</td>\n",
       "      <td>716</td>\n",
       "    </tr>\n",
       "    <tr>\n",
       "      <td>DEP_DELAY</td>\n",
       "      <td>17</td>\n",
       "      <td>-6</td>\n",
       "      <td>55</td>\n",
       "      <td>3</td>\n",
       "      <td>-9</td>\n",
       "    </tr>\n",
       "    <tr>\n",
       "      <td>DEP_DELAY_NEW</td>\n",
       "      <td>17</td>\n",
       "      <td>0</td>\n",
       "      <td>55</td>\n",
       "      <td>3</td>\n",
       "      <td>0</td>\n",
       "    </tr>\n",
       "    <tr>\n",
       "      <td>DEP_DEL15</td>\n",
       "      <td>1</td>\n",
       "      <td>0</td>\n",
       "      <td>1</td>\n",
       "      <td>0</td>\n",
       "      <td>0</td>\n",
       "    </tr>\n",
       "    <tr>\n",
       "      <td>TAXI_OUT</td>\n",
       "      <td>8</td>\n",
       "      <td>11</td>\n",
       "      <td>18</td>\n",
       "      <td>13</td>\n",
       "      <td>19</td>\n",
       "    </tr>\n",
       "    <tr>\n",
       "      <td>WHEELS_OFF</td>\n",
       "      <td>2310</td>\n",
       "      <td>1010</td>\n",
       "      <td>1848</td>\n",
       "      <td>1204</td>\n",
       "      <td>735</td>\n",
       "    </tr>\n",
       "    <tr>\n",
       "      <td>WHEELS_ON</td>\n",
       "      <td>2338</td>\n",
       "      <td>1237</td>\n",
       "      <td>2355</td>\n",
       "      <td>1704</td>\n",
       "      <td>831</td>\n",
       "    </tr>\n",
       "    <tr>\n",
       "      <td>TAXI_IN</td>\n",
       "      <td>3</td>\n",
       "      <td>7</td>\n",
       "      <td>36</td>\n",
       "      <td>13</td>\n",
       "      <td>15</td>\n",
       "    </tr>\n",
       "    <tr>\n",
       "      <td>CRS_ARR_TIME</td>\n",
       "      <td>2335</td>\n",
       "      <td>1254</td>\n",
       "      <td>2320</td>\n",
       "      <td>1725</td>\n",
       "      <td>859</td>\n",
       "    </tr>\n",
       "    <tr>\n",
       "      <td>ARR_TIME</td>\n",
       "      <td>2341</td>\n",
       "      <td>1244</td>\n",
       "      <td>31</td>\n",
       "      <td>1717</td>\n",
       "      <td>846</td>\n",
       "    </tr>\n",
       "    <tr>\n",
       "      <td>ARR_DELAY</td>\n",
       "      <td>6</td>\n",
       "      <td>-10</td>\n",
       "      <td>71</td>\n",
       "      <td>-8</td>\n",
       "      <td>-13</td>\n",
       "    </tr>\n",
       "    <tr>\n",
       "      <td>ARR_DELAY_NEW</td>\n",
       "      <td>6</td>\n",
       "      <td>0</td>\n",
       "      <td>71</td>\n",
       "      <td>0</td>\n",
       "      <td>0</td>\n",
       "    </tr>\n",
       "    <tr>\n",
       "      <td>ARR_DEL15</td>\n",
       "      <td>0</td>\n",
       "      <td>0</td>\n",
       "      <td>1</td>\n",
       "      <td>0</td>\n",
       "      <td>0</td>\n",
       "    </tr>\n",
       "    <tr>\n",
       "      <td>CANCELLED</td>\n",
       "      <td>0</td>\n",
       "      <td>0</td>\n",
       "      <td>0</td>\n",
       "      <td>0</td>\n",
       "      <td>0</td>\n",
       "    </tr>\n",
       "    <tr>\n",
       "      <td>CANCELLATION_CODE</td>\n",
       "      <td>NaN</td>\n",
       "      <td>NaN</td>\n",
       "      <td>NaN</td>\n",
       "      <td>NaN</td>\n",
       "      <td>NaN</td>\n",
       "    </tr>\n",
       "    <tr>\n",
       "      <td>DIVERTED</td>\n",
       "      <td>0</td>\n",
       "      <td>0</td>\n",
       "      <td>0</td>\n",
       "      <td>0</td>\n",
       "      <td>0</td>\n",
       "    </tr>\n",
       "    <tr>\n",
       "      <td>CRS_ELAPSED_TIME</td>\n",
       "      <td>50</td>\n",
       "      <td>109</td>\n",
       "      <td>225</td>\n",
       "      <td>217</td>\n",
       "      <td>154</td>\n",
       "    </tr>\n",
       "    <tr>\n",
       "      <td>ACTUAL_ELAPSED_TIME</td>\n",
       "      <td>39</td>\n",
       "      <td>105</td>\n",
       "      <td>241</td>\n",
       "      <td>206</td>\n",
       "      <td>150</td>\n",
       "    </tr>\n",
       "    <tr>\n",
       "      <td>AIR_TIME</td>\n",
       "      <td>28</td>\n",
       "      <td>87</td>\n",
       "      <td>187</td>\n",
       "      <td>180</td>\n",
       "      <td>116</td>\n",
       "    </tr>\n",
       "    <tr>\n",
       "      <td>DISTANCE</td>\n",
       "      <td>148</td>\n",
       "      <td>588</td>\n",
       "      <td>1620</td>\n",
       "      <td>1438</td>\n",
       "      <td>784</td>\n",
       "    </tr>\n",
       "    <tr>\n",
       "      <td>DISTANCE_GROUP</td>\n",
       "      <td>1</td>\n",
       "      <td>3</td>\n",
       "      <td>7</td>\n",
       "      <td>6</td>\n",
       "      <td>4</td>\n",
       "    </tr>\n",
       "    <tr>\n",
       "      <td>CARRIER_DELAY</td>\n",
       "      <td>NaN</td>\n",
       "      <td>NaN</td>\n",
       "      <td>6</td>\n",
       "      <td>NaN</td>\n",
       "      <td>NaN</td>\n",
       "    </tr>\n",
       "    <tr>\n",
       "      <td>WEATHER_DELAY</td>\n",
       "      <td>NaN</td>\n",
       "      <td>NaN</td>\n",
       "      <td>0</td>\n",
       "      <td>NaN</td>\n",
       "      <td>NaN</td>\n",
       "    </tr>\n",
       "    <tr>\n",
       "      <td>NAS_DELAY</td>\n",
       "      <td>NaN</td>\n",
       "      <td>NaN</td>\n",
       "      <td>16</td>\n",
       "      <td>NaN</td>\n",
       "      <td>NaN</td>\n",
       "    </tr>\n",
       "    <tr>\n",
       "      <td>SECURITY_DELAY</td>\n",
       "      <td>NaN</td>\n",
       "      <td>NaN</td>\n",
       "      <td>0</td>\n",
       "      <td>NaN</td>\n",
       "      <td>NaN</td>\n",
       "    </tr>\n",
       "    <tr>\n",
       "      <td>LATE_AIRCRAFT_DELAY</td>\n",
       "      <td>NaN</td>\n",
       "      <td>NaN</td>\n",
       "      <td>49</td>\n",
       "      <td>NaN</td>\n",
       "      <td>NaN</td>\n",
       "    </tr>\n",
       "    <tr>\n",
       "      <td>Unnamed: 55</td>\n",
       "      <td>NaN</td>\n",
       "      <td>NaN</td>\n",
       "      <td>NaN</td>\n",
       "      <td>NaN</td>\n",
       "      <td>NaN</td>\n",
       "    </tr>\n",
       "  </tbody>\n",
       "</table>\n",
       "</div>"
      ],
      "text/plain": [
       "                            367517              178773        407814  \\\n",
       "YEAR                          2019                2019          2019   \n",
       "QUARTER                          3                   3             3   \n",
       "MONTH                            7                   7             7   \n",
       "DAY_OF_MONTH                    19                   4             7   \n",
       "DAY_OF_WEEK                      5                   4             7   \n",
       "FL_DATE                 2019-07-19          2019-07-04    2019-07-07   \n",
       "OP_UNIQUE_CARRIER               WN                  OO            WN   \n",
       "OP_CARRIER                      WN                  OO            WN   \n",
       "TAIL_NUM                    N437WN              N297SY        N745SW   \n",
       "OP_CARRIER_FL_NUM             5527                3502          3608   \n",
       "ORIGIN_AIRPORT_ID            12191               13796         11292   \n",
       "ORIGIN_AIRPORT_SEQ_ID      1219102             1379608       1129202   \n",
       "ORIGIN_CITY_MARKET_ID        31453               32457         30325   \n",
       "ORIGIN                         HOU                 OAK           DEN   \n",
       "ORIGIN_CITY_NAME       Houston, TX         Oakland, CA    Denver, CO   \n",
       "ORIGIN_STATE_ABR                TX                  CA            CO   \n",
       "ORIGIN_STATE_FIPS               48                   6             8   \n",
       "ORIGIN_STATE_NM              Texas          California      Colorado   \n",
       "ORIGIN_WAC                      74                  91            82   \n",
       "DEST_AIRPORT_ID              10423               14869         12953   \n",
       "DEST_AIRPORT_SEQ_ID        1042302             1486903       1295304   \n",
       "DEST_CITY_MARKET_ID          30423               34614         31703   \n",
       "DEST                           AUS                 SLC           LGA   \n",
       "DEST_CITY_NAME          Austin, TX  Salt Lake City, UT  New York, NY   \n",
       "DEST_STATE_ABR                  TX                  UT            NY   \n",
       "DEST_STATE_FIPS                 48                  49            36   \n",
       "DEST_STATE_NM                Texas                Utah      New York   \n",
       "DEST_WAC                        74                  87            22   \n",
       "CRS_DEP_TIME                  2245                1005          1735   \n",
       "DEP_TIME                      2302                 959          1830   \n",
       "DEP_DELAY                       17                  -6            55   \n",
       "DEP_DELAY_NEW                   17                   0            55   \n",
       "DEP_DEL15                        1                   0             1   \n",
       "TAXI_OUT                         8                  11            18   \n",
       "WHEELS_OFF                    2310                1010          1848   \n",
       "WHEELS_ON                     2338                1237          2355   \n",
       "TAXI_IN                          3                   7            36   \n",
       "CRS_ARR_TIME                  2335                1254          2320   \n",
       "ARR_TIME                      2341                1244            31   \n",
       "ARR_DELAY                        6                 -10            71   \n",
       "ARR_DELAY_NEW                    6                   0            71   \n",
       "ARR_DEL15                        0                   0             1   \n",
       "CANCELLED                        0                   0             0   \n",
       "CANCELLATION_CODE              NaN                 NaN           NaN   \n",
       "DIVERTED                         0                   0             0   \n",
       "CRS_ELAPSED_TIME                50                 109           225   \n",
       "ACTUAL_ELAPSED_TIME             39                 105           241   \n",
       "AIR_TIME                        28                  87           187   \n",
       "DISTANCE                       148                 588          1620   \n",
       "DISTANCE_GROUP                   1                   3             7   \n",
       "CARRIER_DELAY                  NaN                 NaN             6   \n",
       "WEATHER_DELAY                  NaN                 NaN             0   \n",
       "NAS_DELAY                      NaN                 NaN            16   \n",
       "SECURITY_DELAY                 NaN                 NaN             0   \n",
       "LATE_AIRCRAFT_DELAY            NaN                 NaN            49   \n",
       "Unnamed: 55                    NaN                 NaN           NaN   \n",
       "\n",
       "                                      324888           590717  \n",
       "YEAR                                    2019             2019  \n",
       "QUARTER                                    3                3  \n",
       "MONTH                                      7                7  \n",
       "DAY_OF_MONTH                              28                1  \n",
       "DAY_OF_WEEK                                7                1  \n",
       "FL_DATE                           2019-07-28       2019-07-01  \n",
       "OP_UNIQUE_CARRIER                         AA               OO  \n",
       "OP_CARRIER                                AA               OO  \n",
       "TAIL_NUM                              N903AN           N132SY  \n",
       "OP_CARRIER_FL_NUM                       1113             5561  \n",
       "ORIGIN_AIRPORT_ID                      14831            12441  \n",
       "ORIGIN_AIRPORT_SEQ_ID                1483106          1244102  \n",
       "ORIGIN_CITY_MARKET_ID                  32457            32441  \n",
       "ORIGIN                                   SJC              JAC  \n",
       "ORIGIN_CITY_NAME                San Jose, CA      Jackson, WY  \n",
       "ORIGIN_STATE_ABR                          CA               WY  \n",
       "ORIGIN_STATE_FIPS                          6               56  \n",
       "ORIGIN_STATE_NM                   California          Wyoming  \n",
       "ORIGIN_WAC                                91               88  \n",
       "DEST_AIRPORT_ID                        11298            12892  \n",
       "DEST_AIRPORT_SEQ_ID                  1129806          1289208  \n",
       "DEST_CITY_MARKET_ID                    30194            32575  \n",
       "DEST                                     DFW              LAX  \n",
       "DEST_CITY_NAME         Dallas/Fort Worth, TX  Los Angeles, CA  \n",
       "DEST_STATE_ABR                            TX               CA  \n",
       "DEST_STATE_FIPS                           48                6  \n",
       "DEST_STATE_NM                          Texas       California  \n",
       "DEST_WAC                                  74               91  \n",
       "CRS_DEP_TIME                            1148              725  \n",
       "DEP_TIME                                1151              716  \n",
       "DEP_DELAY                                  3               -9  \n",
       "DEP_DELAY_NEW                              3                0  \n",
       "DEP_DEL15                                  0                0  \n",
       "TAXI_OUT                                  13               19  \n",
       "WHEELS_OFF                              1204              735  \n",
       "WHEELS_ON                               1704              831  \n",
       "TAXI_IN                                   13               15  \n",
       "CRS_ARR_TIME                            1725              859  \n",
       "ARR_TIME                                1717              846  \n",
       "ARR_DELAY                                 -8              -13  \n",
       "ARR_DELAY_NEW                              0                0  \n",
       "ARR_DEL15                                  0                0  \n",
       "CANCELLED                                  0                0  \n",
       "CANCELLATION_CODE                        NaN              NaN  \n",
       "DIVERTED                                   0                0  \n",
       "CRS_ELAPSED_TIME                         217              154  \n",
       "ACTUAL_ELAPSED_TIME                      206              150  \n",
       "AIR_TIME                                 180              116  \n",
       "DISTANCE                                1438              784  \n",
       "DISTANCE_GROUP                             6                4  \n",
       "CARRIER_DELAY                            NaN              NaN  \n",
       "WEATHER_DELAY                            NaN              NaN  \n",
       "NAS_DELAY                                NaN              NaN  \n",
       "SECURITY_DELAY                           NaN              NaN  \n",
       "LATE_AIRCRAFT_DELAY                      NaN              NaN  \n",
       "Unnamed: 55                              NaN              NaN  "
      ]
     },
     "execution_count": 2,
     "metadata": {},
     "output_type": "execute_result"
    }
   ],
   "source": [
    "df = pd.read_csv('https://grantmlong.com/data/Flights-July2019.csv')\n",
    "print(df.shape)\n",
    "print(list(df))\n",
    "df.sample(5).transpose()"
   ]
  },
  {
   "cell_type": "code",
   "execution_count": null,
   "metadata": {
    "colab": {},
    "colab_type": "code",
    "id": "ntVL85kI2f5t"
   },
   "outputs": [],
   "source": []
  },
  {
   "cell_type": "markdown",
   "metadata": {
    "colab_type": "text",
    "id": "7Ne-vOeR2f5w"
   },
   "source": [
    "# Identifying a Target\n",
    "\n",
    "If you're a traveler, which variable might make the most to predict? How about if you are a travel booking site?\n",
    "\n",
    "Create and/or summarize the variable that you think makes the most sense to model. What percentage of flights fall into this category?\n"
   ]
  },
  {
   "cell_type": "code",
   "execution_count": 3,
   "metadata": {
    "colab": {
     "base_uri": "https://localhost:8080/",
     "height": 34
    },
    "colab_type": "code",
    "executionInfo": {
     "elapsed": 848,
     "status": "ok",
     "timestamp": 1571268639820,
     "user": {
      "displayName": "",
      "photoUrl": "",
      "userId": ""
     },
     "user_tz": 240
    },
    "id": "RS68JDcU2f5x",
    "outputId": "ed6694e1-8613-43fb-db02-96358bec4135"
   },
   "outputs": [
    {
     "data": {
      "text/plain": [
       "0.019616739172327775"
      ]
     },
     "execution_count": 3,
     "metadata": {},
     "output_type": "execute_result"
    }
   ],
   "source": [
    "df['CANCELLED'].mean()"
   ]
  },
  {
   "cell_type": "code",
   "execution_count": 4,
   "metadata": {
    "colab": {
     "base_uri": "https://localhost:8080/",
     "height": 34
    },
    "colab_type": "code",
    "executionInfo": {
     "elapsed": 848,
     "status": "ok",
     "timestamp": 1571268665796,
     "user": {
      "displayName": "",
      "photoUrl": "",
      "userId": ""
     },
     "user_tz": 240
    },
    "id": "ThBVzqKQ2f51",
    "outputId": "84873586-e173-4150-8aa0-5b6284534ee4"
   },
   "outputs": [
    {
     "data": {
      "text/plain": [
       "0.003520330668301395"
      ]
     },
     "execution_count": 4,
     "metadata": {},
     "output_type": "execute_result"
    }
   ],
   "source": [
    "df['DIVERTED'].mean()"
   ]
  },
  {
   "cell_type": "code",
   "execution_count": 5,
   "metadata": {
    "colab": {
     "base_uri": "https://localhost:8080/",
     "height": 34
    },
    "colab_type": "code",
    "executionInfo": {
     "elapsed": 873,
     "status": "ok",
     "timestamp": 1571268719892,
     "user": {
      "displayName": "",
      "photoUrl": "",
      "userId": ""
     },
     "user_tz": 240
    },
    "id": "Hy8j1zfC2f5_",
    "outputId": "24a1d028-f784-48ae-c0fc-543faba7b18f"
   },
   "outputs": [
    {
     "data": {
      "text/plain": [
       "0.14077984428606327"
      ]
     },
     "execution_count": 5,
     "metadata": {},
     "output_type": "execute_result"
    }
   ],
   "source": [
    "(df['ARR_DELAY']>=30).mean()"
   ]
  },
  {
   "cell_type": "code",
   "execution_count": 6,
   "metadata": {
    "colab": {},
    "colab_type": "code",
    "id": "L8TLRu3r2f6B"
   },
   "outputs": [],
   "source": [
    "df['bad'] = df['DIVERTED'] + df['CANCELLED'] + (df['ARR_DELAY']>=30)"
   ]
  },
  {
   "cell_type": "code",
   "execution_count": 7,
   "metadata": {
    "colab": {
     "base_uri": "https://localhost:8080/",
     "height": 34
    },
    "colab_type": "code",
    "executionInfo": {
     "elapsed": 450,
     "status": "ok",
     "timestamp": 1571269741868,
     "user": {
      "displayName": "",
      "photoUrl": "",
      "userId": ""
     },
     "user_tz": 240
    },
    "id": "Wx-YT2nC2f6F",
    "outputId": "f8998e7b-7742-442b-8028-95bbfb687686"
   },
   "outputs": [
    {
     "data": {
      "text/plain": [
       "0.16391691412669246"
      ]
     },
     "execution_count": 7,
     "metadata": {},
     "output_type": "execute_result"
    }
   ],
   "source": [
    "df['bad'].mean()"
   ]
  },
  {
   "cell_type": "code",
   "execution_count": 8,
   "metadata": {
    "colab": {
     "base_uri": "https://localhost:8080/",
     "height": 67
    },
    "colab_type": "code",
    "executionInfo": {
     "elapsed": 895,
     "status": "ok",
     "timestamp": 1571269956471,
     "user": {
      "displayName": "",
      "photoUrl": "",
      "userId": ""
     },
     "user_tz": 240
    },
    "id": "fhLUGIGL98UN",
    "outputId": "d352e773-9ce2-471c-ff2c-d66cac5e52ae"
   },
   "outputs": [
    {
     "data": {
      "text/plain": [
       "0.0    551003\n",
       "1.0    108026\n",
       "Name: bad, dtype: int64"
      ]
     },
     "execution_count": 8,
     "metadata": {},
     "output_type": "execute_result"
    }
   ],
   "source": [
    "df['bad'].value_counts()"
   ]
  },
  {
   "cell_type": "code",
   "execution_count": 9,
   "metadata": {
    "colab": {
     "base_uri": "https://localhost:8080/",
     "height": 34
    },
    "colab_type": "code",
    "executionInfo": {
     "elapsed": 848,
     "status": "ok",
     "timestamp": 1571268872136,
     "user": {
      "displayName": "",
      "photoUrl": "",
      "userId": ""
     },
     "user_tz": 240
    },
    "id": "nZPnH43O6_SO",
    "outputId": "c79c7aae-018d-48ff-d672-3ce5f64efc13"
   },
   "outputs": [
    {
     "data": {
      "text/plain": [
       "0"
      ]
     },
     "execution_count": 9,
     "metadata": {},
     "output_type": "execute_result"
    }
   ],
   "source": [
    "df['bad'].isnull().sum()"
   ]
  },
  {
   "cell_type": "markdown",
   "metadata": {
    "colab_type": "text",
    "id": "pOr47cPF2f6I"
   },
   "source": [
    "### Ensuring our target has valid values\n",
    "\n",
    "We need to ensure that all of our target observations have valid values in order to ensure our model will run properly. "
   ]
  },
  {
   "cell_type": "code",
   "execution_count": 10,
   "metadata": {
    "colab": {},
    "colab_type": "code",
    "id": "7hy8KDIS2f6M"
   },
   "outputs": [],
   "source": [
    "target = 'bad'\n",
    "df = df.loc[df[target].notna()] \n"
   ]
  },
  {
   "cell_type": "markdown",
   "metadata": {
    "colab_type": "text",
    "id": "7gMZyXcx2f6P"
   },
   "source": [
    "# Exploring Our Data\n",
    "\n",
    "As we start to put together a model, we'll want to think about the features that might make sense to use in our model. Ideally, these should be:\n",
    " 1. Available in advance.\n",
    " 2. Sensibly related to our target.\n",
    " 3. Capable of being encoded into a model. \n",
    " \n",
    "Let's summarize some potential features, and look at the ways in which they correlate with our target."
   ]
  },
  {
   "cell_type": "markdown",
   "metadata": {
    "colab_type": "text",
    "id": "ipVu7hTz2f6g"
   },
   "source": [
    "### Categorical Data\n",
    "\n",
    "To examine how well some potential categorical variables might work, we can summarize our target by each of the categorical values."
   ]
  },
  {
   "cell_type": "code",
   "execution_count": 11,
   "metadata": {
    "colab": {
     "base_uri": "https://localhost:8080/",
     "height": 185
    },
    "colab_type": "code",
    "executionInfo": {
     "elapsed": 413,
     "status": "ok",
     "timestamp": 1571271084524,
     "user": {
      "displayName": "",
      "photoUrl": "",
      "userId": ""
     },
     "user_tz": 240
    },
    "id": "Ju0d3cOd2f6h",
    "outputId": "30690076-6931-488a-dcb3-405f84c77d26"
   },
   "outputs": [
    {
     "name": "stdout",
     "output_type": "stream",
     "text": [
      "                  bad        \n",
      "                 mean   count\n",
      "DAY_OF_WEEK                  \n",
      "4            0.195863   83834\n",
      "1            0.169959  110015\n",
      "7            0.164262   86703\n",
      "3            0.161162  108512\n",
      "6            0.160105   76556\n",
      "5            0.151609   85272\n",
      "2            0.147896  108137\n"
     ]
    }
   ],
   "source": [
    "potential_feature = 'DAY_OF_WEEK'\n",
    "\n",
    "if df[potential_feature].nunique()<=20:\n",
    "\n",
    "    print(\n",
    "        df[[potential_feature, target]]\n",
    "        .groupby(potential_feature)\n",
    "        .agg(['mean', 'count'])\n",
    "        .sort_values(by=(target, 'mean'), ascending=False)\n",
    "    )\n",
    "\n",
    "else:\n",
    "\n",
    "    print(\n",
    "        df[[potential_feature, target]]\n",
    "        .groupby(potential_feature)\n",
    "        .agg(['mean', 'count'])\n",
    "        .sort_values(by=(target, 'mean'), ascending=False).head(40)\n",
    "    )\n",
    "\n",
    "    print()\n",
    "\n",
    "    print(\n",
    "        df[[potential_feature, target]]\n",
    "        .groupby(potential_feature)\n",
    "        .agg(['mean', 'count'])\n",
    "        .sort_values(by=(target, 'mean'), ascending=False).tail(40)\n",
    "    )"
   ]
  },
  {
   "cell_type": "markdown",
   "metadata": {
    "colab_type": "text",
    "id": "oqhSihfo2f6j"
   },
   "source": [
    "### Continuous Variables \n",
    "\n",
    "For continuous features, evaluating their predictive potential is slightly more straightforward. We can look at the distribution of the potential features by each class to gauge their relationship to the target."
   ]
  },
  {
   "cell_type": "code",
   "execution_count": 12,
   "metadata": {
    "colab": {
     "base_uri": "https://localhost:8080/",
     "height": 286
    },
    "colab_type": "code",
    "executionInfo": {
     "elapsed": 1118,
     "status": "ok",
     "timestamp": 1571271717040,
     "user": {
      "displayName": "",
      "photoUrl": "",
      "userId": ""
     },
     "user_tz": 240
    },
    "id": "k96Kdo7V2f6u",
    "outputId": "3dc327c4-2be8-4b85-fd8f-6f1e93bc2c95"
   },
   "outputs": [
    {
     "data": {
      "text/plain": [
       "<matplotlib.axes._subplots.AxesSubplot at 0x1c2463ad30>"
      ]
     },
     "execution_count": 12,
     "metadata": {},
     "output_type": "execute_result"
    },
    {
     "data": {
      "image/png": "[encoded data removed]",
      "text/plain": [
       "<Figure size 432x288 with 1 Axes>"
      ]
     },
     "metadata": {
      "needs_background": "light"
     },
     "output_type": "display_data"
    }
   ],
   "source": [
    "potential_feature = 'CRS_ELAPSED_TIME'\n",
    "\n",
    "df.loc[(df[target]==0), potential_feature].hist(bins=20, alpha=.5, density=True, color='blue')\n",
    "df.loc[(df[target]==1), potential_feature].hist(bins=20, alpha=.5, density=True, color='red')"
   ]
  },
  {
   "cell_type": "code",
   "execution_count": 13,
   "metadata": {
    "colab": {},
    "colab_type": "code",
    "id": "mhpa9SNn2f69"
   },
   "outputs": [
    {
     "data": {
      "text/plain": [
       "<matplotlib.axes._subplots.AxesSubplot at 0x1c24997240>"
      ]
     },
     "execution_count": 13,
     "metadata": {},
     "output_type": "execute_result"
    },
    {
     "data": {
      "image/png": "[encoded data removed]",
      "text/plain": [
       "<Figure size 432x288 with 1 Axes>"
      ]
     },
     "metadata": {
      "needs_background": "light"
     },
     "output_type": "display_data"
    }
   ],
   "source": [
    "potential_feature = 'CRS_DEP_TIME'\n",
    "\n",
    "df.loc[(df[target]==0), potential_feature].hist(bins=20, alpha=.5, density=True, color='blue')\n",
    "df.loc[(df[target]==1), potential_feature].hist(bins=20, alpha=.5, density=True, color='red')"
   ]
  },
  {
   "cell_type": "code",
   "execution_count": null,
   "metadata": {
    "colab": {},
    "colab_type": "code",
    "id": "I_x5it-t2f6_"
   },
   "outputs": [],
   "source": []
  },
  {
   "cell_type": "markdown",
   "metadata": {
    "colab_type": "text",
    "id": "nLjxD1AM2f7C"
   },
   "source": [
    "# Building Feature Sets\n",
    "\n",
    "For each of the categorical features we'd like to include, we'll have to break each category - or a combination of categories - into a series of binary features. For continuous features, we'll have to ensure each row we'd like to include has a valid value. "
   ]
  },
  {
   "cell_type": "code",
   "execution_count": 14,
   "metadata": {
    "colab": {
     "base_uri": "https://localhost:8080/",
     "height": 1000
    },
    "colab_type": "code",
    "executionInfo": {
     "elapsed": 3263,
     "status": "ok",
     "timestamp": 1571272492011,
     "user": {
      "displayName": "",
      "photoUrl": "",
      "userId": ""
     },
     "user_tz": 240
    },
    "id": "SjYD9a_22f7D",
    "outputId": "cd3e4089-f3dc-422a-a592-9d002e9cb092"
   },
   "outputs": [
    {
     "data": {
      "text/html": [
       "<div>\n",
       "<style scoped>\n",
       "    .dataframe tbody tr th:only-of-type {\n",
       "        vertical-align: middle;\n",
       "    }\n",
       "\n",
       "    .dataframe tbody tr th {\n",
       "        vertical-align: top;\n",
       "    }\n",
       "\n",
       "    .dataframe thead th {\n",
       "        text-align: right;\n",
       "    }\n",
       "</style>\n",
       "<table border=\"1\" class=\"dataframe\">\n",
       "  <thead>\n",
       "    <tr style=\"text-align: right;\">\n",
       "      <th></th>\n",
       "      <th>count</th>\n",
       "      <th>mean</th>\n",
       "      <th>std</th>\n",
       "      <th>min</th>\n",
       "      <th>25%</th>\n",
       "      <th>50%</th>\n",
       "      <th>75%</th>\n",
       "      <th>max</th>\n",
       "    </tr>\n",
       "  </thead>\n",
       "  <tbody>\n",
       "    <tr>\n",
       "      <td>OP_CARRIER=WN</td>\n",
       "      <td>659029.0</td>\n",
       "      <td>0.181088</td>\n",
       "      <td>0.385091</td>\n",
       "      <td>0.0</td>\n",
       "      <td>0.0</td>\n",
       "      <td>0.0</td>\n",
       "      <td>0.0</td>\n",
       "      <td>1.0</td>\n",
       "    </tr>\n",
       "    <tr>\n",
       "      <td>OP_CARRIER=DL</td>\n",
       "      <td>659029.0</td>\n",
       "      <td>0.137797</td>\n",
       "      <td>0.344687</td>\n",
       "      <td>0.0</td>\n",
       "      <td>0.0</td>\n",
       "      <td>0.0</td>\n",
       "      <td>0.0</td>\n",
       "      <td>1.0</td>\n",
       "    </tr>\n",
       "    <tr>\n",
       "      <td>OP_CARRIER=AA</td>\n",
       "      <td>659029.0</td>\n",
       "      <td>0.124124</td>\n",
       "      <td>0.329723</td>\n",
       "      <td>0.0</td>\n",
       "      <td>0.0</td>\n",
       "      <td>0.0</td>\n",
       "      <td>0.0</td>\n",
       "      <td>1.0</td>\n",
       "    </tr>\n",
       "    <tr>\n",
       "      <td>OP_CARRIER=OO</td>\n",
       "      <td>659029.0</td>\n",
       "      <td>0.111895</td>\n",
       "      <td>0.315237</td>\n",
       "      <td>0.0</td>\n",
       "      <td>0.0</td>\n",
       "      <td>0.0</td>\n",
       "      <td>0.0</td>\n",
       "      <td>1.0</td>\n",
       "    </tr>\n",
       "    <tr>\n",
       "      <td>OP_CARRIER=UA</td>\n",
       "      <td>659029.0</td>\n",
       "      <td>0.085134</td>\n",
       "      <td>0.279082</td>\n",
       "      <td>0.0</td>\n",
       "      <td>0.0</td>\n",
       "      <td>0.0</td>\n",
       "      <td>0.0</td>\n",
       "      <td>1.0</td>\n",
       "    </tr>\n",
       "    <tr>\n",
       "      <td>OP_CARRIER=MQ</td>\n",
       "      <td>659029.0</td>\n",
       "      <td>0.044861</td>\n",
       "      <td>0.207000</td>\n",
       "      <td>0.0</td>\n",
       "      <td>0.0</td>\n",
       "      <td>0.0</td>\n",
       "      <td>0.0</td>\n",
       "      <td>1.0</td>\n",
       "    </tr>\n",
       "    <tr>\n",
       "      <td>OP_CARRIER=YX</td>\n",
       "      <td>659029.0</td>\n",
       "      <td>0.042726</td>\n",
       "      <td>0.202240</td>\n",
       "      <td>0.0</td>\n",
       "      <td>0.0</td>\n",
       "      <td>0.0</td>\n",
       "      <td>0.0</td>\n",
       "      <td>1.0</td>\n",
       "    </tr>\n",
       "    <tr>\n",
       "      <td>OP_CARRIER=B6</td>\n",
       "      <td>659029.0</td>\n",
       "      <td>0.038762</td>\n",
       "      <td>0.193026</td>\n",
       "      <td>0.0</td>\n",
       "      <td>0.0</td>\n",
       "      <td>0.0</td>\n",
       "      <td>0.0</td>\n",
       "      <td>1.0</td>\n",
       "    </tr>\n",
       "    <tr>\n",
       "      <td>OP_CARRIER=OH</td>\n",
       "      <td>659029.0</td>\n",
       "      <td>0.038312</td>\n",
       "      <td>0.191950</td>\n",
       "      <td>0.0</td>\n",
       "      <td>0.0</td>\n",
       "      <td>0.0</td>\n",
       "      <td>0.0</td>\n",
       "      <td>1.0</td>\n",
       "    </tr>\n",
       "    <tr>\n",
       "      <td>OP_CARRIER=AS</td>\n",
       "      <td>659029.0</td>\n",
       "      <td>0.037317</td>\n",
       "      <td>0.189538</td>\n",
       "      <td>0.0</td>\n",
       "      <td>0.0</td>\n",
       "      <td>0.0</td>\n",
       "      <td>0.0</td>\n",
       "      <td>1.0</td>\n",
       "    </tr>\n",
       "    <tr>\n",
       "      <td>DEST=ATL</td>\n",
       "      <td>659029.0</td>\n",
       "      <td>0.053658</td>\n",
       "      <td>0.225341</td>\n",
       "      <td>0.0</td>\n",
       "      <td>0.0</td>\n",
       "      <td>0.0</td>\n",
       "      <td>0.0</td>\n",
       "      <td>1.0</td>\n",
       "    </tr>\n",
       "    <tr>\n",
       "      <td>DEST=ORD</td>\n",
       "      <td>659029.0</td>\n",
       "      <td>0.046298</td>\n",
       "      <td>0.210131</td>\n",
       "      <td>0.0</td>\n",
       "      <td>0.0</td>\n",
       "      <td>0.0</td>\n",
       "      <td>0.0</td>\n",
       "      <td>1.0</td>\n",
       "    </tr>\n",
       "    <tr>\n",
       "      <td>DEST=DFW</td>\n",
       "      <td>659029.0</td>\n",
       "      <td>0.041466</td>\n",
       "      <td>0.199365</td>\n",
       "      <td>0.0</td>\n",
       "      <td>0.0</td>\n",
       "      <td>0.0</td>\n",
       "      <td>0.0</td>\n",
       "      <td>1.0</td>\n",
       "    </tr>\n",
       "    <tr>\n",
       "      <td>DEST=DEN</td>\n",
       "      <td>659029.0</td>\n",
       "      <td>0.036038</td>\n",
       "      <td>0.186385</td>\n",
       "      <td>0.0</td>\n",
       "      <td>0.0</td>\n",
       "      <td>0.0</td>\n",
       "      <td>0.0</td>\n",
       "      <td>1.0</td>\n",
       "    </tr>\n",
       "    <tr>\n",
       "      <td>DEST=CLT</td>\n",
       "      <td>659029.0</td>\n",
       "      <td>0.030293</td>\n",
       "      <td>0.171393</td>\n",
       "      <td>0.0</td>\n",
       "      <td>0.0</td>\n",
       "      <td>0.0</td>\n",
       "      <td>0.0</td>\n",
       "      <td>1.0</td>\n",
       "    </tr>\n",
       "    <tr>\n",
       "      <td>DEST=LAX</td>\n",
       "      <td>659029.0</td>\n",
       "      <td>0.030181</td>\n",
       "      <td>0.171085</td>\n",
       "      <td>0.0</td>\n",
       "      <td>0.0</td>\n",
       "      <td>0.0</td>\n",
       "      <td>0.0</td>\n",
       "      <td>1.0</td>\n",
       "    </tr>\n",
       "    <tr>\n",
       "      <td>DEST=SFO</td>\n",
       "      <td>659029.0</td>\n",
       "      <td>0.023566</td>\n",
       "      <td>0.151694</td>\n",
       "      <td>0.0</td>\n",
       "      <td>0.0</td>\n",
       "      <td>0.0</td>\n",
       "      <td>0.0</td>\n",
       "      <td>1.0</td>\n",
       "    </tr>\n",
       "    <tr>\n",
       "      <td>DEST=IAH</td>\n",
       "      <td>659029.0</td>\n",
       "      <td>0.023266</td>\n",
       "      <td>0.150747</td>\n",
       "      <td>0.0</td>\n",
       "      <td>0.0</td>\n",
       "      <td>0.0</td>\n",
       "      <td>0.0</td>\n",
       "      <td>1.0</td>\n",
       "    </tr>\n",
       "    <tr>\n",
       "      <td>DEST=MSP</td>\n",
       "      <td>659029.0</td>\n",
       "      <td>0.022815</td>\n",
       "      <td>0.149315</td>\n",
       "      <td>0.0</td>\n",
       "      <td>0.0</td>\n",
       "      <td>0.0</td>\n",
       "      <td>0.0</td>\n",
       "      <td>1.0</td>\n",
       "    </tr>\n",
       "    <tr>\n",
       "      <td>DEST=LGA</td>\n",
       "      <td>659029.0</td>\n",
       "      <td>0.022322</td>\n",
       "      <td>0.147729</td>\n",
       "      <td>0.0</td>\n",
       "      <td>0.0</td>\n",
       "      <td>0.0</td>\n",
       "      <td>0.0</td>\n",
       "      <td>1.0</td>\n",
       "    </tr>\n",
       "    <tr>\n",
       "      <td>ORIGIN=ATL</td>\n",
       "      <td>659029.0</td>\n",
       "      <td>0.053661</td>\n",
       "      <td>0.225347</td>\n",
       "      <td>0.0</td>\n",
       "      <td>0.0</td>\n",
       "      <td>0.0</td>\n",
       "      <td>0.0</td>\n",
       "      <td>1.0</td>\n",
       "    </tr>\n",
       "    <tr>\n",
       "      <td>ORIGIN=ORD</td>\n",
       "      <td>659029.0</td>\n",
       "      <td>0.046301</td>\n",
       "      <td>0.210137</td>\n",
       "      <td>0.0</td>\n",
       "      <td>0.0</td>\n",
       "      <td>0.0</td>\n",
       "      <td>0.0</td>\n",
       "      <td>1.0</td>\n",
       "    </tr>\n",
       "    <tr>\n",
       "      <td>ORIGIN=DFW</td>\n",
       "      <td>659029.0</td>\n",
       "      <td>0.041461</td>\n",
       "      <td>0.199354</td>\n",
       "      <td>0.0</td>\n",
       "      <td>0.0</td>\n",
       "      <td>0.0</td>\n",
       "      <td>0.0</td>\n",
       "      <td>1.0</td>\n",
       "    </tr>\n",
       "    <tr>\n",
       "      <td>ORIGIN=DEN</td>\n",
       "      <td>659029.0</td>\n",
       "      <td>0.036033</td>\n",
       "      <td>0.186373</td>\n",
       "      <td>0.0</td>\n",
       "      <td>0.0</td>\n",
       "      <td>0.0</td>\n",
       "      <td>0.0</td>\n",
       "      <td>1.0</td>\n",
       "    </tr>\n",
       "    <tr>\n",
       "      <td>ORIGIN=CLT</td>\n",
       "      <td>659029.0</td>\n",
       "      <td>0.030292</td>\n",
       "      <td>0.171388</td>\n",
       "      <td>0.0</td>\n",
       "      <td>0.0</td>\n",
       "      <td>0.0</td>\n",
       "      <td>0.0</td>\n",
       "      <td>1.0</td>\n",
       "    </tr>\n",
       "    <tr>\n",
       "      <td>ORIGIN=LAX</td>\n",
       "      <td>659029.0</td>\n",
       "      <td>0.030182</td>\n",
       "      <td>0.171089</td>\n",
       "      <td>0.0</td>\n",
       "      <td>0.0</td>\n",
       "      <td>0.0</td>\n",
       "      <td>0.0</td>\n",
       "      <td>1.0</td>\n",
       "    </tr>\n",
       "    <tr>\n",
       "      <td>ORIGIN=SFO</td>\n",
       "      <td>659029.0</td>\n",
       "      <td>0.023568</td>\n",
       "      <td>0.151699</td>\n",
       "      <td>0.0</td>\n",
       "      <td>0.0</td>\n",
       "      <td>0.0</td>\n",
       "      <td>0.0</td>\n",
       "      <td>1.0</td>\n",
       "    </tr>\n",
       "    <tr>\n",
       "      <td>ORIGIN=IAH</td>\n",
       "      <td>659029.0</td>\n",
       "      <td>0.023277</td>\n",
       "      <td>0.150781</td>\n",
       "      <td>0.0</td>\n",
       "      <td>0.0</td>\n",
       "      <td>0.0</td>\n",
       "      <td>0.0</td>\n",
       "      <td>1.0</td>\n",
       "    </tr>\n",
       "    <tr>\n",
       "      <td>ORIGIN=MSP</td>\n",
       "      <td>659029.0</td>\n",
       "      <td>0.022823</td>\n",
       "      <td>0.149339</td>\n",
       "      <td>0.0</td>\n",
       "      <td>0.0</td>\n",
       "      <td>0.0</td>\n",
       "      <td>0.0</td>\n",
       "      <td>1.0</td>\n",
       "    </tr>\n",
       "    <tr>\n",
       "      <td>ORIGIN=LGA</td>\n",
       "      <td>659029.0</td>\n",
       "      <td>0.022322</td>\n",
       "      <td>0.147729</td>\n",
       "      <td>0.0</td>\n",
       "      <td>0.0</td>\n",
       "      <td>0.0</td>\n",
       "      <td>0.0</td>\n",
       "      <td>1.0</td>\n",
       "    </tr>\n",
       "    <tr>\n",
       "      <td>DAY_OF_WEEK=1</td>\n",
       "      <td>659029.0</td>\n",
       "      <td>0.166935</td>\n",
       "      <td>0.372918</td>\n",
       "      <td>0.0</td>\n",
       "      <td>0.0</td>\n",
       "      <td>0.0</td>\n",
       "      <td>0.0</td>\n",
       "      <td>1.0</td>\n",
       "    </tr>\n",
       "    <tr>\n",
       "      <td>DAY_OF_WEEK=3</td>\n",
       "      <td>659029.0</td>\n",
       "      <td>0.164654</td>\n",
       "      <td>0.370869</td>\n",
       "      <td>0.0</td>\n",
       "      <td>0.0</td>\n",
       "      <td>0.0</td>\n",
       "      <td>0.0</td>\n",
       "      <td>1.0</td>\n",
       "    </tr>\n",
       "    <tr>\n",
       "      <td>DAY_OF_WEEK=2</td>\n",
       "      <td>659029.0</td>\n",
       "      <td>0.164085</td>\n",
       "      <td>0.370353</td>\n",
       "      <td>0.0</td>\n",
       "      <td>0.0</td>\n",
       "      <td>0.0</td>\n",
       "      <td>0.0</td>\n",
       "      <td>1.0</td>\n",
       "    </tr>\n",
       "    <tr>\n",
       "      <td>DAY_OF_WEEK=7</td>\n",
       "      <td>659029.0</td>\n",
       "      <td>0.131562</td>\n",
       "      <td>0.338014</td>\n",
       "      <td>0.0</td>\n",
       "      <td>0.0</td>\n",
       "      <td>0.0</td>\n",
       "      <td>0.0</td>\n",
       "      <td>1.0</td>\n",
       "    </tr>\n",
       "    <tr>\n",
       "      <td>DAY_OF_WEEK=5</td>\n",
       "      <td>659029.0</td>\n",
       "      <td>0.129390</td>\n",
       "      <td>0.335632</td>\n",
       "      <td>0.0</td>\n",
       "      <td>0.0</td>\n",
       "      <td>0.0</td>\n",
       "      <td>0.0</td>\n",
       "      <td>1.0</td>\n",
       "    </tr>\n",
       "    <tr>\n",
       "      <td>DAY_OF_WEEK=4</td>\n",
       "      <td>659029.0</td>\n",
       "      <td>0.127208</td>\n",
       "      <td>0.333206</td>\n",
       "      <td>0.0</td>\n",
       "      <td>0.0</td>\n",
       "      <td>0.0</td>\n",
       "      <td>0.0</td>\n",
       "      <td>1.0</td>\n",
       "    </tr>\n",
       "    <tr>\n",
       "      <td>DAY_OF_WEEK=6</td>\n",
       "      <td>659029.0</td>\n",
       "      <td>0.116165</td>\n",
       "      <td>0.320423</td>\n",
       "      <td>0.0</td>\n",
       "      <td>0.0</td>\n",
       "      <td>0.0</td>\n",
       "      <td>0.0</td>\n",
       "      <td>1.0</td>\n",
       "    </tr>\n",
       "    <tr>\n",
       "      <td>DISTANCE</td>\n",
       "      <td>659029.0</td>\n",
       "      <td>812.616100</td>\n",
       "      <td>605.341787</td>\n",
       "      <td>31.0</td>\n",
       "      <td>370.0</td>\n",
       "      <td>644.0</td>\n",
       "      <td>1041.0</td>\n",
       "      <td>5095.0</td>\n",
       "    </tr>\n",
       "    <tr>\n",
       "      <td>CRS_ELAPSED_TIME</td>\n",
       "      <td>659029.0</td>\n",
       "      <td>141.973344</td>\n",
       "      <td>73.021938</td>\n",
       "      <td>20.0</td>\n",
       "      <td>90.0</td>\n",
       "      <td>124.0</td>\n",
       "      <td>170.0</td>\n",
       "      <td>665.0</td>\n",
       "    </tr>\n",
       "    <tr>\n",
       "      <td>MORNING</td>\n",
       "      <td>659029.0</td>\n",
       "      <td>0.294190</td>\n",
       "      <td>0.455678</td>\n",
       "      <td>0.0</td>\n",
       "      <td>0.0</td>\n",
       "      <td>0.0</td>\n",
       "      <td>1.0</td>\n",
       "      <td>1.0</td>\n",
       "    </tr>\n",
       "    <tr>\n",
       "      <td>AFTERNOON</td>\n",
       "      <td>659029.0</td>\n",
       "      <td>0.298448</td>\n",
       "      <td>0.457578</td>\n",
       "      <td>0.0</td>\n",
       "      <td>0.0</td>\n",
       "      <td>0.0</td>\n",
       "      <td>1.0</td>\n",
       "      <td>1.0</td>\n",
       "    </tr>\n",
       "    <tr>\n",
       "      <td>EVENING</td>\n",
       "      <td>659029.0</td>\n",
       "      <td>0.407361</td>\n",
       "      <td>0.491344</td>\n",
       "      <td>0.0</td>\n",
       "      <td>0.0</td>\n",
       "      <td>0.0</td>\n",
       "      <td>1.0</td>\n",
       "      <td>1.0</td>\n",
       "    </tr>\n",
       "    <tr>\n",
       "      <td>constant</td>\n",
       "      <td>659029.0</td>\n",
       "      <td>1.000000</td>\n",
       "      <td>0.000000</td>\n",
       "      <td>1.0</td>\n",
       "      <td>1.0</td>\n",
       "      <td>1.0</td>\n",
       "      <td>1.0</td>\n",
       "      <td>1.0</td>\n",
       "    </tr>\n",
       "  </tbody>\n",
       "</table>\n",
       "</div>"
      ],
      "text/plain": [
       "                     count        mean         std   min    25%    50%  \\\n",
       "OP_CARRIER=WN     659029.0    0.181088    0.385091   0.0    0.0    0.0   \n",
       "OP_CARRIER=DL     659029.0    0.137797    0.344687   0.0    0.0    0.0   \n",
       "OP_CARRIER=AA     659029.0    0.124124    0.329723   0.0    0.0    0.0   \n",
       "OP_CARRIER=OO     659029.0    0.111895    0.315237   0.0    0.0    0.0   \n",
       "OP_CARRIER=UA     659029.0    0.085134    0.279082   0.0    0.0    0.0   \n",
       "OP_CARRIER=MQ     659029.0    0.044861    0.207000   0.0    0.0    0.0   \n",
       "OP_CARRIER=YX     659029.0    0.042726    0.202240   0.0    0.0    0.0   \n",
       "OP_CARRIER=B6     659029.0    0.038762    0.193026   0.0    0.0    0.0   \n",
       "OP_CARRIER=OH     659029.0    0.038312    0.191950   0.0    0.0    0.0   \n",
       "OP_CARRIER=AS     659029.0    0.037317    0.189538   0.0    0.0    0.0   \n",
       "DEST=ATL          659029.0    0.053658    0.225341   0.0    0.0    0.0   \n",
       "DEST=ORD          659029.0    0.046298    0.210131   0.0    0.0    0.0   \n",
       "DEST=DFW          659029.0    0.041466    0.199365   0.0    0.0    0.0   \n",
       "DEST=DEN          659029.0    0.036038    0.186385   0.0    0.0    0.0   \n",
       "DEST=CLT          659029.0    0.030293    0.171393   0.0    0.0    0.0   \n",
       "DEST=LAX          659029.0    0.030181    0.171085   0.0    0.0    0.0   \n",
       "DEST=SFO          659029.0    0.023566    0.151694   0.0    0.0    0.0   \n",
       "DEST=IAH          659029.0    0.023266    0.150747   0.0    0.0    0.0   \n",
       "DEST=MSP          659029.0    0.022815    0.149315   0.0    0.0    0.0   \n",
       "DEST=LGA          659029.0    0.022322    0.147729   0.0    0.0    0.0   \n",
       "ORIGIN=ATL        659029.0    0.053661    0.225347   0.0    0.0    0.0   \n",
       "ORIGIN=ORD        659029.0    0.046301    0.210137   0.0    0.0    0.0   \n",
       "ORIGIN=DFW        659029.0    0.041461    0.199354   0.0    0.0    0.0   \n",
       "ORIGIN=DEN        659029.0    0.036033    0.186373   0.0    0.0    0.0   \n",
       "ORIGIN=CLT        659029.0    0.030292    0.171388   0.0    0.0    0.0   \n",
       "ORIGIN=LAX        659029.0    0.030182    0.171089   0.0    0.0    0.0   \n",
       "ORIGIN=SFO        659029.0    0.023568    0.151699   0.0    0.0    0.0   \n",
       "ORIGIN=IAH        659029.0    0.023277    0.150781   0.0    0.0    0.0   \n",
       "ORIGIN=MSP        659029.0    0.022823    0.149339   0.0    0.0    0.0   \n",
       "ORIGIN=LGA        659029.0    0.022322    0.147729   0.0    0.0    0.0   \n",
       "DAY_OF_WEEK=1     659029.0    0.166935    0.372918   0.0    0.0    0.0   \n",
       "DAY_OF_WEEK=3     659029.0    0.164654    0.370869   0.0    0.0    0.0   \n",
       "DAY_OF_WEEK=2     659029.0    0.164085    0.370353   0.0    0.0    0.0   \n",
       "DAY_OF_WEEK=7     659029.0    0.131562    0.338014   0.0    0.0    0.0   \n",
       "DAY_OF_WEEK=5     659029.0    0.129390    0.335632   0.0    0.0    0.0   \n",
       "DAY_OF_WEEK=4     659029.0    0.127208    0.333206   0.0    0.0    0.0   \n",
       "DAY_OF_WEEK=6     659029.0    0.116165    0.320423   0.0    0.0    0.0   \n",
       "DISTANCE          659029.0  812.616100  605.341787  31.0  370.0  644.0   \n",
       "CRS_ELAPSED_TIME  659029.0  141.973344   73.021938  20.0   90.0  124.0   \n",
       "MORNING           659029.0    0.294190    0.455678   0.0    0.0    0.0   \n",
       "AFTERNOON         659029.0    0.298448    0.457578   0.0    0.0    0.0   \n",
       "EVENING           659029.0    0.407361    0.491344   0.0    0.0    0.0   \n",
       "constant          659029.0    1.000000    0.000000   1.0    1.0    1.0   \n",
       "\n",
       "                     75%     max  \n",
       "OP_CARRIER=WN        0.0     1.0  \n",
       "OP_CARRIER=DL        0.0     1.0  \n",
       "OP_CARRIER=AA        0.0     1.0  \n",
       "OP_CARRIER=OO        0.0     1.0  \n",
       "OP_CARRIER=UA        0.0     1.0  \n",
       "OP_CARRIER=MQ        0.0     1.0  \n",
       "OP_CARRIER=YX        0.0     1.0  \n",
       "OP_CARRIER=B6        0.0     1.0  \n",
       "OP_CARRIER=OH        0.0     1.0  \n",
       "OP_CARRIER=AS        0.0     1.0  \n",
       "DEST=ATL             0.0     1.0  \n",
       "DEST=ORD             0.0     1.0  \n",
       "DEST=DFW             0.0     1.0  \n",
       "DEST=DEN             0.0     1.0  \n",
       "DEST=CLT             0.0     1.0  \n",
       "DEST=LAX             0.0     1.0  \n",
       "DEST=SFO             0.0     1.0  \n",
       "DEST=IAH             0.0     1.0  \n",
       "DEST=MSP             0.0     1.0  \n",
       "DEST=LGA             0.0     1.0  \n",
       "ORIGIN=ATL           0.0     1.0  \n",
       "ORIGIN=ORD           0.0     1.0  \n",
       "ORIGIN=DFW           0.0     1.0  \n",
       "ORIGIN=DEN           0.0     1.0  \n",
       "ORIGIN=CLT           0.0     1.0  \n",
       "ORIGIN=LAX           0.0     1.0  \n",
       "ORIGIN=SFO           0.0     1.0  \n",
       "ORIGIN=IAH           0.0     1.0  \n",
       "ORIGIN=MSP           0.0     1.0  \n",
       "ORIGIN=LGA           0.0     1.0  \n",
       "DAY_OF_WEEK=1        0.0     1.0  \n",
       "DAY_OF_WEEK=3        0.0     1.0  \n",
       "DAY_OF_WEEK=2        0.0     1.0  \n",
       "DAY_OF_WEEK=7        0.0     1.0  \n",
       "DAY_OF_WEEK=5        0.0     1.0  \n",
       "DAY_OF_WEEK=4        0.0     1.0  \n",
       "DAY_OF_WEEK=6        0.0     1.0  \n",
       "DISTANCE          1041.0  5095.0  \n",
       "CRS_ELAPSED_TIME   170.0   665.0  \n",
       "MORNING              1.0     1.0  \n",
       "AFTERNOON            1.0     1.0  \n",
       "EVENING              1.0     1.0  \n",
       "constant             1.0     1.0  "
      ]
     },
     "execution_count": 14,
     "metadata": {},
     "output_type": "execute_result"
    }
   ],
   "source": [
    "####################################################################        \n",
    "# Categorical features\n",
    "\n",
    "all_features = []\n",
    "categorical_features = ['OP_CARRIER', 'DEST', 'ORIGIN', 'DAY_OF_WEEK']\n",
    "top = 10\n",
    "\n",
    "for each_feature in categorical_features:\n",
    "    for f in df[each_feature].value_counts().index[:top].to_list():\n",
    "        df[each_feature+'='+str(f)] = (df[each_feature]==f)*1\n",
    "        all_features.append(each_feature+'='+str(f))\n",
    "\n",
    "        \n",
    "####################################################################        \n",
    "# Continuous features\n",
    "\n",
    "continuous_features = ['DISTANCE', 'CRS_ELAPSED_TIME']\n",
    "df.loc[df.CRS_ELAPSED_TIME.isna(), 'CRS_ELAPSED_TIME'] = 180\n",
    "\n",
    "for each_feature in continuous_features:\n",
    "    all_features.append(each_feature)\n",
    "\n",
    "        \n",
    "####################################################################        \n",
    "# Grouped Categorical features\n",
    "\n",
    "df['MORNING'] = (df['CRS_DEP_TIME']<1000)*1\n",
    "df['AFTERNOON'] = ((df['CRS_DEP_TIME']>=1000) & (df['CRS_DEP_TIME']<=1500))*1\n",
    "df['EVENING'] = (df['CRS_DEP_TIME']>1500)*1\n",
    "        \n",
    "all_features = all_features + ['MORNING', 'AFTERNOON', 'EVENING']\n",
    "      \n",
    "####################################################################        \n",
    "# Adding a constant\n",
    "df['constant'] = 1\n",
    "all_features.append('constant')\n",
    "    \n",
    "    \n",
    "df[all_features].describe().transpose()"
   ]
  },
  {
   "cell_type": "code",
   "execution_count": null,
   "metadata": {
    "colab": {},
    "colab_type": "code",
    "id": "Bpk226C42f7H"
   },
   "outputs": [],
   "source": []
  },
  {
   "cell_type": "markdown",
   "metadata": {
    "colab_type": "text",
    "id": "legJ_nGt2f7K"
   },
   "source": [
    "# Training A Model in `statsmodels`\n",
    "\n",
    "As we saw last week, `statsmodels` can be helpful if we want to visualize the summary statistics of our output. Just like linear regression, it only takes a few lines of code to use `statsmodels` to fit the model and print the result. "
   ]
  },
  {
   "cell_type": "code",
   "execution_count": 15,
   "metadata": {
    "colab": {
     "base_uri": "https://localhost:8080/",
     "height": 1000
    },
    "colab_type": "code",
    "executionInfo": {
     "elapsed": 8768,
     "status": "ok",
     "timestamp": 1571272554163,
     "user": {
      "displayName": "",
      "photoUrl": "",
      "userId": ""
     },
     "user_tz": 240
    },
    "id": "hv_3hEKR2f7O",
    "outputId": "46da00bf-d274-49e3-eacd-6d22873c986e"
   },
   "outputs": [
    {
     "name": "stdout",
     "output_type": "stream",
     "text": [
      "Warning: Maximum number of iterations has been exceeded.\n",
      "         Current function value: 0.417373\n",
      "         Iterations: 35\n"
     ]
    },
    {
     "name": "stderr",
     "output_type": "stream",
     "text": [
      "/Users/grant/anaconda3/lib/python3.6/site-packages/statsmodels/base/model.py:508: ConvergenceWarning: Maximum Likelihood optimization failed to converge. Check mle_retvals\n",
      "  \"Check mle_retvals\", ConvergenceWarning)\n"
     ]
    },
    {
     "name": "stdout",
     "output_type": "stream",
     "text": [
      "                           Logit Regression Results                           \n",
      "==============================================================================\n",
      "Dep. Variable:                    bad   No. Observations:               659029\n",
      "Model:                          Logit   Df Residuals:                   658988\n",
      "Method:                           MLE   Df Model:                           40\n",
      "Date:                Sun, 20 Oct 2019   Pseudo R-squ.:                 0.06441\n",
      "Time:                        11:51:56   Log-Likelihood:            -2.7506e+05\n",
      "converged:                      False   LL-Null:                   -2.9400e+05\n",
      "                                        LLR p-value:                     0.000\n",
      "====================================================================================\n",
      "                       coef    std err          z      P>|z|      [0.025      0.975]\n",
      "------------------------------------------------------------------------------------\n",
      "OP_CARRIER=WN       -0.3416      0.013    -27.091      0.000      -0.366      -0.317\n",
      "OP_CARRIER=DL       -0.3295      0.015    -22.706      0.000      -0.358      -0.301\n",
      "OP_CARRIER=AA        0.0746      0.014      5.428      0.000       0.048       0.102\n",
      "OP_CARRIER=OO       -0.2820      0.014    -20.344      0.000      -0.309      -0.255\n",
      "OP_CARRIER=UA       -0.0936      0.015     -6.221      0.000      -0.123      -0.064\n",
      "OP_CARRIER=MQ       -0.1350      0.019     -7.256      0.000      -0.172      -0.099\n",
      "OP_CARRIER=YX       -0.1779      0.018     -9.703      0.000      -0.214      -0.142\n",
      "OP_CARRIER=B6        0.2740      0.018     15.164      0.000       0.239       0.309\n",
      "OP_CARRIER=OH        0.1561      0.022      7.134      0.000       0.113       0.199\n",
      "OP_CARRIER=AS       -0.7180      0.024    -29.760      0.000      -0.765      -0.671\n",
      "DEST=ATL             0.0100      0.018      0.563      0.573      -0.025       0.045\n",
      "DEST=ORD             0.4209      0.016     26.089      0.000       0.389       0.453\n",
      "DEST=DFW            -0.1336      0.019     -6.982      0.000      -0.171      -0.096\n",
      "DEST=DEN             0.2673      0.018     14.564      0.000       0.231       0.303\n",
      "DEST=CLT            -0.3276      0.024    -13.859      0.000      -0.374      -0.281\n",
      "DEST=LAX            -0.3443      0.023    -15.098      0.000      -0.389      -0.300\n",
      "DEST=SFO             0.0074      0.024      0.313      0.755      -0.039       0.054\n",
      "DEST=IAH             0.0663      0.023      2.847      0.004       0.021       0.112\n",
      "DEST=MSP            -0.1901      0.027     -7.157      0.000      -0.242      -0.138\n",
      "DEST=LGA             0.5791      0.020     28.340      0.000       0.539       0.619\n",
      "ORIGIN=ATL          -0.0806      0.017     -4.622      0.000      -0.115      -0.046\n",
      "ORIGIN=ORD           0.5233      0.015     34.095      0.000       0.493       0.553\n",
      "ORIGIN=DFW           0.0181      0.018      1.004      0.315      -0.017       0.053\n",
      "ORIGIN=DEN           0.4621      0.017     26.421      0.000       0.428       0.496\n",
      "ORIGIN=CLT          -0.1697      0.022     -7.741      0.000      -0.213      -0.127\n",
      "ORIGIN=LAX          -0.1105      0.022     -4.969      0.000      -0.154      -0.067\n",
      "ORIGIN=SFO           0.0131      0.024      0.539      0.590      -0.034       0.061\n",
      "ORIGIN=IAH           0.1429      0.022      6.435      0.000       0.099       0.186\n",
      "ORIGIN=MSP          -0.2430      0.026     -9.335      0.000      -0.294      -0.192\n",
      "ORIGIN=LGA           0.3299      0.021     15.467      0.000       0.288       0.372\n",
      "DAY_OF_WEEK=1       -0.1774    1.4e+05  -1.27e-06      1.000   -2.73e+05    2.73e+05\n",
      "DAY_OF_WEEK=3       -0.2387    1.4e+05  -1.71e-06      1.000   -2.73e+05    2.73e+05\n",
      "DAY_OF_WEEK=2       -0.3518    1.4e+05  -2.52e-06      1.000   -2.73e+05    2.73e+05\n",
      "DAY_OF_WEEK=7       -0.2393    1.4e+05  -1.72e-06      1.000   -2.73e+05    2.73e+05\n",
      "DAY_OF_WEEK=5       -0.3250    1.4e+05  -2.33e-06      1.000   -2.73e+05    2.73e+05\n",
      "DAY_OF_WEEK=4        0.0154    1.4e+05   1.11e-07      1.000   -2.73e+05    2.73e+05\n",
      "DAY_OF_WEEK=6       -0.2243    1.4e+05  -1.61e-06      1.000   -2.73e+05    2.73e+05\n",
      "DISTANCE            -0.0014   4.02e-05    -34.098      0.000      -0.001      -0.001\n",
      "CRS_ELAPSED_TIME     0.0116      0.000     35.108      0.000       0.011       0.012\n",
      "MORNING             -1.1766        nan        nan        nan         nan         nan\n",
      "AFTERNOON           -0.5538        nan        nan        nan         nan         nan\n",
      "EVENING              0.1892        nan        nan        nan         nan         nan\n",
      "constant            -1.5411        nan        nan        nan         nan         nan\n",
      "====================================================================================\n"
     ]
    },
    {
     "name": "stderr",
     "output_type": "stream",
     "text": [
      "/Users/grant/anaconda3/lib/python3.6/site-packages/statsmodels/base/model.py:1092: RuntimeWarning: invalid value encountered in sqrt\n",
      "  bse_ = np.sqrt(np.diag(self.cov_params()))\n",
      "/Users/grant/anaconda3/lib/python3.6/site-packages/scipy/stats/_distn_infrastructure.py:879: RuntimeWarning: invalid value encountered in greater\n",
      "  return (self.a < x) & (x < self.b)\n",
      "/Users/grant/anaconda3/lib/python3.6/site-packages/scipy/stats/_distn_infrastructure.py:879: RuntimeWarning: invalid value encountered in less\n",
      "  return (self.a < x) & (x < self.b)\n",
      "/Users/grant/anaconda3/lib/python3.6/site-packages/scipy/stats/_distn_infrastructure.py:1821: RuntimeWarning: invalid value encountered in less_equal\n",
      "  cond2 = cond0 & (x <= self.a)\n"
     ]
    }
   ],
   "source": [
    "logit = sm.Logit(df[target], df[all_features])\n",
    "result = logit.fit()\n",
    "print(result.summary())"
   ]
  },
  {
   "cell_type": "code",
   "execution_count": null,
   "metadata": {
    "colab": {},
    "colab_type": "code",
    "id": "tgtl39MT2f7S"
   },
   "outputs": [],
   "source": []
  },
  {
   "cell_type": "code",
   "execution_count": null,
   "metadata": {
    "colab": {},
    "colab_type": "code",
    "id": "lhHef6uW2f7V"
   },
   "outputs": [],
   "source": []
  },
  {
   "cell_type": "code",
   "execution_count": null,
   "metadata": {
    "colab": {},
    "colab_type": "code",
    "id": "NBNWiNnQ2f7m"
   },
   "outputs": [],
   "source": []
  },
  {
   "cell_type": "markdown",
   "metadata": {
    "colab_type": "text",
    "id": "ixKhd5nE2f73"
   },
   "source": [
    "# Training A Model in `sklearn`\n",
    "\n",
    "As we saw the past two weeks, `statsmodels` can be helpful if we want to visualize the summary statistics of our output. Documentation for the `LogisticRegression` object can be found [here](http://scikit-learn.org/stable/modules/generated/sklearn.linear_model.LogisticRegression.html)"
   ]
  },
  {
   "cell_type": "code",
   "execution_count": 16,
   "metadata": {
    "colab": {},
    "colab_type": "code",
    "id": "uzimYGQg2f75"
   },
   "outputs": [],
   "source": [
    "X = df[all_features].values\n",
    "y = df[target].values\n"
   ]
  },
  {
   "cell_type": "markdown",
   "metadata": {
    "colab_type": "text",
    "id": "CA42I33S2f8A"
   },
   "source": [
    "##### Let's fit and score the model:"
   ]
  },
  {
   "cell_type": "code",
   "execution_count": 17,
   "metadata": {
    "colab": {
     "base_uri": "https://localhost:8080/",
     "height": 87
    },
    "colab_type": "code",
    "executionInfo": {
     "elapsed": 4725,
     "status": "ok",
     "timestamp": 1571273041343,
     "user": {
      "displayName": "",
      "photoUrl": "",
      "userId": ""
     },
     "user_tz": 240
    },
    "id": "aIV-MS7i2f8B",
    "outputId": "4aded0bc-19d2-4da5-cb88-f7aff406ae76"
   },
   "outputs": [
    {
     "name": "stderr",
     "output_type": "stream",
     "text": [
      "/Users/grant/anaconda3/lib/python3.6/site-packages/sklearn/linear_model/logistic.py:433: FutureWarning: Default solver will be changed to 'lbfgs' in 0.22. Specify a solver to silence this warning.\n",
      "  FutureWarning)\n"
     ]
    },
    {
     "name": "stdout",
     "output_type": "stream",
     "text": [
      "The accuracy of our model is 83.6%\n"
     ]
    }
   ],
   "source": [
    "clf = LogisticRegression(random_state=20191016).fit(X, y)\n",
    "print('The accuracy of our model is %0.1f%%' % (clf.score(X, y)*100))\n"
   ]
  },
  {
   "cell_type": "code",
   "execution_count": 18,
   "metadata": {
    "colab": {
     "base_uri": "https://localhost:8080/",
     "height": 34
    },
    "colab_type": "code",
    "executionInfo": {
     "elapsed": 860,
     "status": "ok",
     "timestamp": 1571273176982,
     "user": {
      "displayName": "",
      "photoUrl": "",
      "userId": ""
     },
     "user_tz": 240
    },
    "id": "v1SHvDFALXw5",
    "outputId": "42b5206a-265f-442a-d2ee-716cb8ceebb8"
   },
   "outputs": [
    {
     "data": {
      "text/plain": [
       "914.0"
      ]
     },
     "execution_count": 18,
     "metadata": {},
     "output_type": "execute_result"
    }
   ],
   "source": [
    "clf.predict(X).sum()"
   ]
  },
  {
   "cell_type": "code",
   "execution_count": 19,
   "metadata": {
    "colab": {
     "base_uri": "https://localhost:8080/",
     "height": 34
    },
    "colab_type": "code",
    "executionInfo": {
     "elapsed": 999,
     "status": "ok",
     "timestamp": 1571273197610,
     "user": {
      "displayName": "",
      "photoUrl": "",
      "userId": ""
     },
     "user_tz": 240
    },
    "id": "DSOtG3lhLhkk",
    "outputId": "1f4836d3-d6a3-4f59-b88c-08a93b47d78c"
   },
   "outputs": [
    {
     "data": {
      "text/plain": [
       "108026.0"
      ]
     },
     "execution_count": 19,
     "metadata": {},
     "output_type": "execute_result"
    }
   ],
   "source": [
    "sum(y)"
   ]
  },
  {
   "cell_type": "markdown",
   "metadata": {
    "colab_type": "text",
    "id": "nK0jUe6D2f8M"
   },
   "source": [
    "##### Let's see where we went right and where we went wrong:"
   ]
  },
  {
   "cell_type": "code",
   "execution_count": 20,
   "metadata": {
    "colab": {
     "base_uri": "https://localhost:8080/",
     "height": 286
    },
    "colab_type": "code",
    "executionInfo": {
     "elapsed": 1055,
     "status": "ok",
     "timestamp": 1571273294634,
     "user": {
      "displayName": "",
      "photoUrl": "",
      "userId": ""
     },
     "user_tz": 240
    },
    "id": "LnT2D7zX2f8R",
    "outputId": "196ed3e0-9cd9-4426-fe0f-04b4bf94516f"
   },
   "outputs": [
    {
     "data": {
      "text/plain": [
       "<matplotlib.axes._subplots.AxesSubplot at 0x1c24d6d780>"
      ]
     },
     "execution_count": 20,
     "metadata": {},
     "output_type": "execute_result"
    },
    {
     "data": {
      "image/png": "[encoded data removed]",
      "text/plain": [
       "<Figure size 432x288 with 1 Axes>"
      ]
     },
     "metadata": {
      "needs_background": "light"
     },
     "output_type": "display_data"
    }
   ],
   "source": [
    "df['likelihood'] = clf.predict_proba(X)[:,1]\n",
    "\n",
    "df['likelihood'].hist(bins=20)\n"
   ]
  },
  {
   "cell_type": "markdown",
   "metadata": {
    "colab_type": "text",
    "id": "ziRtNQkj2f8Z"
   },
   "source": [
    "Let's take a look at the top values where we failed to predict a bad flight: "
   ]
  },
  {
   "cell_type": "code",
   "execution_count": 21,
   "metadata": {
    "colab": {
     "base_uri": "https://localhost:8080/",
     "height": 343
    },
    "colab_type": "code",
    "executionInfo": {
     "elapsed": 602,
     "status": "ok",
     "timestamp": 1571273388819,
     "user": {
      "displayName": "",
      "photoUrl": "",
      "userId": ""
     },
     "user_tz": 240
    },
    "id": "Am4EA39f2f8a",
    "outputId": "87e54cd0-a0e3-4511-f01f-448ad40c8559"
   },
   "outputs": [
    {
     "data": {
      "text/html": [
       "<div>\n",
       "<style scoped>\n",
       "    .dataframe tbody tr th:only-of-type {\n",
       "        vertical-align: middle;\n",
       "    }\n",
       "\n",
       "    .dataframe tbody tr th {\n",
       "        vertical-align: top;\n",
       "    }\n",
       "\n",
       "    .dataframe thead th {\n",
       "        text-align: right;\n",
       "    }\n",
       "</style>\n",
       "<table border=\"1\" class=\"dataframe\">\n",
       "  <thead>\n",
       "    <tr style=\"text-align: right;\">\n",
       "      <th></th>\n",
       "      <th>FL_DATE</th>\n",
       "      <th>OP_CARRIER</th>\n",
       "      <th>ORIGIN</th>\n",
       "      <th>DEST</th>\n",
       "      <th>CRS_DEP_TIME</th>\n",
       "      <th>likelihood</th>\n",
       "      <th>bad</th>\n",
       "    </tr>\n",
       "  </thead>\n",
       "  <tbody>\n",
       "    <tr>\n",
       "      <td>421591</td>\n",
       "      <td>2019-07-19</td>\n",
       "      <td>AS</td>\n",
       "      <td>PDX</td>\n",
       "      <td>LAX</td>\n",
       "      <td>530</td>\n",
       "      <td>0.030417</td>\n",
       "      <td>1.0</td>\n",
       "    </tr>\n",
       "    <tr>\n",
       "      <td>424435</td>\n",
       "      <td>2019-07-23</td>\n",
       "      <td>AS</td>\n",
       "      <td>ANC</td>\n",
       "      <td>SCC</td>\n",
       "      <td>735</td>\n",
       "      <td>0.031476</td>\n",
       "      <td>1.0</td>\n",
       "    </tr>\n",
       "    <tr>\n",
       "      <td>413325</td>\n",
       "      <td>2019-07-09</td>\n",
       "      <td>AS</td>\n",
       "      <td>ANC</td>\n",
       "      <td>SCC</td>\n",
       "      <td>735</td>\n",
       "      <td>0.031476</td>\n",
       "      <td>1.0</td>\n",
       "    </tr>\n",
       "    <tr>\n",
       "      <td>418971</td>\n",
       "      <td>2019-07-16</td>\n",
       "      <td>AS</td>\n",
       "      <td>OME</td>\n",
       "      <td>ANC</td>\n",
       "      <td>840</td>\n",
       "      <td>0.031580</td>\n",
       "      <td>1.0</td>\n",
       "    </tr>\n",
       "    <tr>\n",
       "      <td>272878</td>\n",
       "      <td>2019-07-09</td>\n",
       "      <td>DL</td>\n",
       "      <td>LAX</td>\n",
       "      <td>MSP</td>\n",
       "      <td>730</td>\n",
       "      <td>0.031942</td>\n",
       "      <td>1.0</td>\n",
       "    </tr>\n",
       "    <tr>\n",
       "      <td>415698</td>\n",
       "      <td>2019-07-12</td>\n",
       "      <td>AS</td>\n",
       "      <td>ADQ</td>\n",
       "      <td>ANC</td>\n",
       "      <td>750</td>\n",
       "      <td>0.031954</td>\n",
       "      <td>1.0</td>\n",
       "    </tr>\n",
       "    <tr>\n",
       "      <td>100461</td>\n",
       "      <td>2019-07-05</td>\n",
       "      <td>AS</td>\n",
       "      <td>ADQ</td>\n",
       "      <td>ANC</td>\n",
       "      <td>750</td>\n",
       "      <td>0.031954</td>\n",
       "      <td>1.0</td>\n",
       "    </tr>\n",
       "    <tr>\n",
       "      <td>416024</td>\n",
       "      <td>2019-07-12</td>\n",
       "      <td>AS</td>\n",
       "      <td>PDX</td>\n",
       "      <td>LAX</td>\n",
       "      <td>700</td>\n",
       "      <td>0.032104</td>\n",
       "      <td>1.0</td>\n",
       "    </tr>\n",
       "    <tr>\n",
       "      <td>424938</td>\n",
       "      <td>2019-07-23</td>\n",
       "      <td>AS</td>\n",
       "      <td>FAI</td>\n",
       "      <td>ANC</td>\n",
       "      <td>800</td>\n",
       "      <td>0.032595</td>\n",
       "      <td>1.0</td>\n",
       "    </tr>\n",
       "    <tr>\n",
       "      <td>424526</td>\n",
       "      <td>2019-07-23</td>\n",
       "      <td>AS</td>\n",
       "      <td>ANC</td>\n",
       "      <td>FAI</td>\n",
       "      <td>600</td>\n",
       "      <td>0.032595</td>\n",
       "      <td>1.0</td>\n",
       "    </tr>\n",
       "  </tbody>\n",
       "</table>\n",
       "</div>"
      ],
      "text/plain": [
       "           FL_DATE OP_CARRIER ORIGIN DEST  CRS_DEP_TIME  likelihood  bad\n",
       "421591  2019-07-19         AS    PDX  LAX           530    0.030417  1.0\n",
       "424435  2019-07-23         AS    ANC  SCC           735    0.031476  1.0\n",
       "413325  2019-07-09         AS    ANC  SCC           735    0.031476  1.0\n",
       "418971  2019-07-16         AS    OME  ANC           840    0.031580  1.0\n",
       "272878  2019-07-09         DL    LAX  MSP           730    0.031942  1.0\n",
       "415698  2019-07-12         AS    ADQ  ANC           750    0.031954  1.0\n",
       "100461  2019-07-05         AS    ADQ  ANC           750    0.031954  1.0\n",
       "416024  2019-07-12         AS    PDX  LAX           700    0.032104  1.0\n",
       "424938  2019-07-23         AS    FAI  ANC           800    0.032595  1.0\n",
       "424526  2019-07-23         AS    ANC  FAI           600    0.032595  1.0"
      ]
     },
     "execution_count": 21,
     "metadata": {},
     "output_type": "execute_result"
    }
   ],
   "source": [
    "interesting_cols = ['FL_DATE', 'OP_CARRIER', 'ORIGIN', 'DEST', 'CRS_DEP_TIME', 'likelihood', target]\n",
    "\n",
    "(\n",
    "    df.loc[(df[target]==1), interesting_cols]\n",
    "    .sort_values(by='likelihood', ascending=True)\n",
    "    .head(10)\n",
    ")"
   ]
  },
  {
   "cell_type": "markdown",
   "metadata": {
    "colab_type": "text",
    "id": "UB5BJk3W2f8c"
   },
   "source": [
    "Now let's take a look at where we predicted a bad flight, but the flights were not bad."
   ]
  },
  {
   "cell_type": "code",
   "execution_count": 22,
   "metadata": {
    "colab": {
     "base_uri": "https://localhost:8080/",
     "height": 343
    },
    "colab_type": "code",
    "executionInfo": {
     "elapsed": 1569,
     "status": "ok",
     "timestamp": 1571273503449,
     "user": {
      "displayName": "",
      "photoUrl": "",
      "userId": ""
     },
     "user_tz": 240
    },
    "id": "gDkTrGmt2f8c",
    "outputId": "116e7eb6-29b0-4761-94e4-e1333676940f"
   },
   "outputs": [
    {
     "data": {
      "text/html": [
       "<div>\n",
       "<style scoped>\n",
       "    .dataframe tbody tr th:only-of-type {\n",
       "        vertical-align: middle;\n",
       "    }\n",
       "\n",
       "    .dataframe tbody tr th {\n",
       "        vertical-align: top;\n",
       "    }\n",
       "\n",
       "    .dataframe thead th {\n",
       "        text-align: right;\n",
       "    }\n",
       "</style>\n",
       "<table border=\"1\" class=\"dataframe\">\n",
       "  <thead>\n",
       "    <tr style=\"text-align: right;\">\n",
       "      <th></th>\n",
       "      <th>FL_DATE</th>\n",
       "      <th>OP_CARRIER</th>\n",
       "      <th>ORIGIN</th>\n",
       "      <th>DEST</th>\n",
       "      <th>CRS_DEP_TIME</th>\n",
       "      <th>likelihood</th>\n",
       "      <th>bad</th>\n",
       "    </tr>\n",
       "  </thead>\n",
       "  <tbody>\n",
       "    <tr>\n",
       "      <td>460595</td>\n",
       "      <td>2019-07-04</td>\n",
       "      <td>YX</td>\n",
       "      <td>DEN</td>\n",
       "      <td>DRO</td>\n",
       "      <td>1905</td>\n",
       "      <td>0.748476</td>\n",
       "      <td>0.0</td>\n",
       "    </tr>\n",
       "    <tr>\n",
       "      <td>109668</td>\n",
       "      <td>2019-07-04</td>\n",
       "      <td>B6</td>\n",
       "      <td>JFK</td>\n",
       "      <td>ORD</td>\n",
       "      <td>1630</td>\n",
       "      <td>0.621942</td>\n",
       "      <td>0.0</td>\n",
       "    </tr>\n",
       "    <tr>\n",
       "      <td>439946</td>\n",
       "      <td>2019-07-25</td>\n",
       "      <td>B6</td>\n",
       "      <td>JFK</td>\n",
       "      <td>ORD</td>\n",
       "      <td>1630</td>\n",
       "      <td>0.621942</td>\n",
       "      <td>0.0</td>\n",
       "    </tr>\n",
       "    <tr>\n",
       "      <td>584597</td>\n",
       "      <td>2019-07-25</td>\n",
       "      <td>AA</td>\n",
       "      <td>LGA</td>\n",
       "      <td>ORD</td>\n",
       "      <td>1730</td>\n",
       "      <td>0.613074</td>\n",
       "      <td>0.0</td>\n",
       "    </tr>\n",
       "    <tr>\n",
       "      <td>159841</td>\n",
       "      <td>2019-07-04</td>\n",
       "      <td>UA</td>\n",
       "      <td>ORD</td>\n",
       "      <td>LGA</td>\n",
       "      <td>1800</td>\n",
       "      <td>0.608782</td>\n",
       "      <td>0.0</td>\n",
       "    </tr>\n",
       "    <tr>\n",
       "      <td>585430</td>\n",
       "      <td>2019-07-25</td>\n",
       "      <td>AA</td>\n",
       "      <td>LGA</td>\n",
       "      <td>ORD</td>\n",
       "      <td>1630</td>\n",
       "      <td>0.607773</td>\n",
       "      <td>0.0</td>\n",
       "    </tr>\n",
       "    <tr>\n",
       "      <td>585412</td>\n",
       "      <td>2019-07-04</td>\n",
       "      <td>AA</td>\n",
       "      <td>LGA</td>\n",
       "      <td>ORD</td>\n",
       "      <td>1636</td>\n",
       "      <td>0.605113</td>\n",
       "      <td>0.0</td>\n",
       "    </tr>\n",
       "    <tr>\n",
       "      <td>583543</td>\n",
       "      <td>2019-07-25</td>\n",
       "      <td>AA</td>\n",
       "      <td>LGA</td>\n",
       "      <td>ORD</td>\n",
       "      <td>1930</td>\n",
       "      <td>0.605113</td>\n",
       "      <td>0.0</td>\n",
       "    </tr>\n",
       "    <tr>\n",
       "      <td>556131</td>\n",
       "      <td>2019-07-25</td>\n",
       "      <td>NK</td>\n",
       "      <td>ORD</td>\n",
       "      <td>LGA</td>\n",
       "      <td>1736</td>\n",
       "      <td>0.603462</td>\n",
       "      <td>0.0</td>\n",
       "    </tr>\n",
       "    <tr>\n",
       "      <td>556110</td>\n",
       "      <td>2019-07-04</td>\n",
       "      <td>NK</td>\n",
       "      <td>ORD</td>\n",
       "      <td>LGA</td>\n",
       "      <td>1738</td>\n",
       "      <td>0.600792</td>\n",
       "      <td>0.0</td>\n",
       "    </tr>\n",
       "  </tbody>\n",
       "</table>\n",
       "</div>"
      ],
      "text/plain": [
       "           FL_DATE OP_CARRIER ORIGIN DEST  CRS_DEP_TIME  likelihood  bad\n",
       "460595  2019-07-04         YX    DEN  DRO          1905    0.748476  0.0\n",
       "109668  2019-07-04         B6    JFK  ORD          1630    0.621942  0.0\n",
       "439946  2019-07-25         B6    JFK  ORD          1630    0.621942  0.0\n",
       "584597  2019-07-25         AA    LGA  ORD          1730    0.613074  0.0\n",
       "159841  2019-07-04         UA    ORD  LGA          1800    0.608782  0.0\n",
       "585430  2019-07-25         AA    LGA  ORD          1630    0.607773  0.0\n",
       "585412  2019-07-04         AA    LGA  ORD          1636    0.605113  0.0\n",
       "583543  2019-07-25         AA    LGA  ORD          1930    0.605113  0.0\n",
       "556131  2019-07-25         NK    ORD  LGA          1736    0.603462  0.0\n",
       "556110  2019-07-04         NK    ORD  LGA          1738    0.600792  0.0"
      ]
     },
     "execution_count": 22,
     "metadata": {},
     "output_type": "execute_result"
    }
   ],
   "source": [
    "(\n",
    "    df.loc[(df[target]==0), interesting_cols]\n",
    "    .sort_values(by='likelihood', ascending=False)\n",
    "    .head(10)\n",
    ")"
   ]
  },
  {
   "cell_type": "code",
   "execution_count": null,
   "metadata": {
    "colab": {},
    "colab_type": "code",
    "id": "RHBVRMXC2f8g"
   },
   "outputs": [],
   "source": []
  },
  {
   "cell_type": "markdown",
   "metadata": {
    "colab_type": "text",
    "id": "O2Wor_jm2f8l"
   },
   "source": [
    "Finally, let's take a closer look at our summary metrics. How do they change as we change our cutoff value for our prediction?"
   ]
  },
  {
   "cell_type": "code",
   "execution_count": 23,
   "metadata": {
    "colab": {
     "base_uri": "https://localhost:8080/",
     "height": 118
    },
    "colab_type": "code",
    "executionInfo": {
     "elapsed": 3090,
     "status": "ok",
     "timestamp": 1571273598509,
     "user": {
      "displayName": "",
      "photoUrl": "",
      "userId": ""
     },
     "user_tz": 240
    },
    "id": "5eZ1m3gs2f8l",
    "outputId": "c1c98b21-d033-408b-9b12-ec85bbce97ea"
   },
   "outputs": [
    {
     "name": "stdout",
     "output_type": "stream",
     "text": [
      "0.1 (0.4217098185360584, 0.20315924032140248, 0.8650695203006683, 459984)\n",
      "0.2 (0.6971347239651062, 0.27734794808327295, 0.5279562327587803, 205637)\n",
      "0.3 (0.8115151230067266, 0.3573907375764088, 0.18780663914242868, 56767)\n",
      "0.4 (0.833585471959504, 0.40594285714285716, 0.03288097309906874, 8750)\n",
      "0.5 (0.8359950776066, 0.4682713347921225, 0.003962009145946346, 914)\n",
      "0.6 (0.8360906727928513, 0.6, 0.00013885546072241867, 25)\n"
     ]
    }
   ],
   "source": [
    "def calculate_metrics(df, threshold):\n",
    "    \n",
    "    df['predicted'] = (clf.predict_proba(X)[:,1]>=threshold)*1\n",
    "    accuracy = sum(df['predicted']==y)/len(y)\n",
    "    precision = df.loc[df.predicted==1, target].mean()\n",
    "    recall = df.loc[df[target]==1, 'predicted'].mean()\n",
    "    \n",
    "    return accuracy, precision, recall, sum(df['predicted'])\n",
    "\n",
    "for p in [.1, .2, .3, .4, .5, .6]:\n",
    "    print(p, calculate_metrics(df.copy(), p))"
   ]
  },
  {
   "cell_type": "code",
   "execution_count": null,
   "metadata": {
    "colab": {},
    "colab_type": "code",
    "id": "C8GT4WIz2f8r"
   },
   "outputs": [],
   "source": []
  },
  {
   "cell_type": "code",
   "execution_count": null,
   "metadata": {
    "colab": {},
    "colab_type": "code",
    "id": "iuMkU6I12f80"
   },
   "outputs": [],
   "source": []
  },
  {
   "cell_type": "code",
   "execution_count": null,
   "metadata": {
    "colab": {},
    "colab_type": "code",
    "id": "Lw6e8QVw2f83"
   },
   "outputs": [],
   "source": []
  },
  {
   "cell_type": "code",
   "execution_count": null,
   "metadata": {
    "colab": {},
    "colab_type": "code",
    "id": "sPoynyJt2f85"
   },
   "outputs": [],
   "source": []
  }
 ],
 "metadata": {
  "colab": {
   "name": "Copy of DataDive-Lecture6-FlightData.ipynb",
   "provenance": [
    {
     "file_id": "https://github.com/grantmlong/itds-fall2019/blob/master/lecture-6/DataDive-Lecture6-FlightData.ipynb",
     "timestamp": 1571274359157
    }
   ]
  },
  "kernelspec": {
   "display_name": "Python 3",
   "language": "python",
   "name": "python3"
  },
  "language_info": {
   "codemirror_mode": {
    "name": "ipython",
    "version": 3
   },
   "file_extension": ".py",
   "mimetype": "text/x-python",
   "name": "python",
   "nbconvert_exporter": "python",
   "pygments_lexer": "ipython3",
   "version": "3.6.7"
  }
 },
 "nbformat": 4,
 "nbformat_minor": 1
}
