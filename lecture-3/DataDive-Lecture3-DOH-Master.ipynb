{
 "cells": [
  {
   "cell_type": "markdown",
   "metadata": {},
   "source": [
    "# Data Dive 3: Cleaning Data\n",
    "### Making Sense of NYC Restaurant Inspection Data\n",
    "\n",
    "[This dataset](https://data.cityofnewyork.us/Health/DOHMH-New-York-City-Restaurant-Inspection-Results/43nn-pn8j) provides restaurant inspections, violations, grades and adjudication information. It is freely available through the NYC Open Data portal, though for the purposes of this exercise we'll be using a static version I pulled over the weekend (September 2019) that is available at the url below. A Data Dictionary is available [here](https://data.cityofnewyork.us/api/views/43nn-pn8j/files/e3160d37-1b15-41ef-af6b-a830ed39cbc0?download=true&filename=Restaurant_Inspection_Open_Data_Dictionary_082214.xlsx). \n",
    "\n",
    "Throughout this exercise, we'll be drawing on skills highlighted in the [DataCamp course](https://www.datacamp.com/courses/cleaning-data-in-python), as well as miscellaneous other commands I've introduced in the first two classes. [Ten Minutes to Pandas](https://pandas.pydata.org/pandas-docs/stable/10min.html) is a great reference for these. \n",
    "\n",
    "\n",
    "`https://grantmlong.com/data/DOHMH_New_York_City_Restaurant_Inspection_Results_20180911.csv`.  \n",
    "\n"
   ]
  },
  {
   "cell_type": "code",
   "execution_count": 1,
   "metadata": {},
   "outputs": [],
   "source": [
    "import pandas as pd\n",
    "import requests\n",
    "\n",
    "%matplotlib inline"
   ]
  },
  {
   "cell_type": "markdown",
   "metadata": {
    "collapsed": true
   },
   "source": [
    "## Part 1: Load and Inspect\n",
    "1. Load data from DataFrame\n",
    "2. Find the number of rows and columns in the data\n",
    "3. List the columns in the DataFrame\n",
    "4. Display the first twenty rows\n"
   ]
  },
  {
   "cell_type": "markdown",
   "metadata": {},
   "source": [
    "Load data from DataFrame"
   ]
  },
  {
   "cell_type": "code",
   "execution_count": 2,
   "metadata": {},
   "outputs": [],
   "source": [
    "df = pd.read_csv('https://grantmlong.com/data/DOHMH_New_York_City_Restaurant_Inspection_Results_20190914.csv')"
   ]
  },
  {
   "cell_type": "markdown",
   "metadata": {},
   "source": [
    "Find the number of rows and columns in the data"
   ]
  },
  {
   "cell_type": "code",
   "execution_count": 3,
   "metadata": {},
   "outputs": [
    {
     "data": {
      "text/plain": [
       "(390656, 26)"
      ]
     },
     "execution_count": 3,
     "metadata": {},
     "output_type": "execute_result"
    }
   ],
   "source": [
    "df.shape"
   ]
  },
  {
   "cell_type": "markdown",
   "metadata": {},
   "source": [
    "List the columns in the DataFrame"
   ]
  },
  {
   "cell_type": "code",
   "execution_count": 4,
   "metadata": {},
   "outputs": [
    {
     "data": {
      "text/plain": [
       "['CAMIS',\n",
       " 'DBA',\n",
       " 'BORO',\n",
       " 'BUILDING',\n",
       " 'STREET',\n",
       " 'ZIPCODE',\n",
       " 'PHONE',\n",
       " 'CUISINE DESCRIPTION',\n",
       " 'INSPECTION DATE',\n",
       " 'ACTION',\n",
       " 'VIOLATION CODE',\n",
       " 'VIOLATION DESCRIPTION',\n",
       " 'CRITICAL FLAG',\n",
       " 'SCORE',\n",
       " 'GRADE',\n",
       " 'GRADE DATE',\n",
       " 'RECORD DATE',\n",
       " 'INSPECTION TYPE',\n",
       " 'Latitude',\n",
       " 'Longitude',\n",
       " 'Community Board',\n",
       " 'Council District',\n",
       " 'Census Tract',\n",
       " 'BIN',\n",
       " 'BBL',\n",
       " 'NTA']"
      ]
     },
     "execution_count": 4,
     "metadata": {},
     "output_type": "execute_result"
    }
   ],
   "source": [
    "list(df)"
   ]
  },
  {
   "cell_type": "markdown",
   "metadata": {},
   "source": [
    "Display the first twenty rows"
   ]
  },
  {
   "cell_type": "code",
   "execution_count": 5,
   "metadata": {},
   "outputs": [
    {
     "data": {
      "text/html": [
       "<div>\n",
       "<style scoped>\n",
       "    .dataframe tbody tr th:only-of-type {\n",
       "        vertical-align: middle;\n",
       "    }\n",
       "\n",
       "    .dataframe tbody tr th {\n",
       "        vertical-align: top;\n",
       "    }\n",
       "\n",
       "    .dataframe thead th {\n",
       "        text-align: right;\n",
       "    }\n",
       "</style>\n",
       "<table border=\"1\" class=\"dataframe\">\n",
       "  <thead>\n",
       "    <tr style=\"text-align: right;\">\n",
       "      <th></th>\n",
       "      <th>CAMIS</th>\n",
       "      <th>DBA</th>\n",
       "      <th>BORO</th>\n",
       "      <th>BUILDING</th>\n",
       "      <th>STREET</th>\n",
       "      <th>ZIPCODE</th>\n",
       "      <th>PHONE</th>\n",
       "      <th>CUISINE DESCRIPTION</th>\n",
       "      <th>INSPECTION DATE</th>\n",
       "      <th>ACTION</th>\n",
       "      <th>...</th>\n",
       "      <th>RECORD DATE</th>\n",
       "      <th>INSPECTION TYPE</th>\n",
       "      <th>Latitude</th>\n",
       "      <th>Longitude</th>\n",
       "      <th>Community Board</th>\n",
       "      <th>Council District</th>\n",
       "      <th>Census Tract</th>\n",
       "      <th>BIN</th>\n",
       "      <th>BBL</th>\n",
       "      <th>NTA</th>\n",
       "    </tr>\n",
       "  </thead>\n",
       "  <tbody>\n",
       "    <tr>\n",
       "      <th>0</th>\n",
       "      <td>41478979</td>\n",
       "      <td>SUBWAY</td>\n",
       "      <td>Manhattan</td>\n",
       "      <td>666</td>\n",
       "      <td>5 AVENUE</td>\n",
       "      <td>10103.0</td>\n",
       "      <td>2122472800</td>\n",
       "      <td>Sandwiches</td>\n",
       "      <td>08/22/2018</td>\n",
       "      <td>Violations were cited in the following area(s).</td>\n",
       "      <td>...</td>\n",
       "      <td>09/14/2019</td>\n",
       "      <td>Cycle Inspection / Re-inspection</td>\n",
       "      <td>40.760542</td>\n",
       "      <td>-73.976421</td>\n",
       "      <td>105.0</td>\n",
       "      <td>4.0</td>\n",
       "      <td>10400.0</td>\n",
       "      <td>1034520.0</td>\n",
       "      <td>1.012688e+09</td>\n",
       "      <td>MN17</td>\n",
       "    </tr>\n",
       "    <tr>\n",
       "      <th>1</th>\n",
       "      <td>50051864</td>\n",
       "      <td>BUTCHER'S CUT</td>\n",
       "      <td>Queens</td>\n",
       "      <td>14613</td>\n",
       "      <td>NORTHERN BLVD</td>\n",
       "      <td>11354.0</td>\n",
       "      <td>7184604455</td>\n",
       "      <td>Korean</td>\n",
       "      <td>04/26/2018</td>\n",
       "      <td>Violations were cited in the following area(s).</td>\n",
       "      <td>...</td>\n",
       "      <td>09/14/2019</td>\n",
       "      <td>Cycle Inspection / Re-inspection</td>\n",
       "      <td>40.765026</td>\n",
       "      <td>-73.820377</td>\n",
       "      <td>407.0</td>\n",
       "      <td>20.0</td>\n",
       "      <td>116300.0</td>\n",
       "      <td>4113214.0</td>\n",
       "      <td>4.050040e+09</td>\n",
       "      <td>QN51</td>\n",
       "    </tr>\n",
       "    <tr>\n",
       "      <th>2</th>\n",
       "      <td>41164840</td>\n",
       "      <td>LA TRAVIATA PIZZA</td>\n",
       "      <td>Manhattan</td>\n",
       "      <td>101</td>\n",
       "      <td>WEST   68 STREET</td>\n",
       "      <td>10023.0</td>\n",
       "      <td>2127211101</td>\n",
       "      <td>Pizza</td>\n",
       "      <td>08/14/2019</td>\n",
       "      <td>Violations were cited in the following area(s).</td>\n",
       "      <td>...</td>\n",
       "      <td>09/14/2019</td>\n",
       "      <td>Cycle Inspection / Re-inspection</td>\n",
       "      <td>40.774942</td>\n",
       "      <td>-73.980861</td>\n",
       "      <td>107.0</td>\n",
       "      <td>6.0</td>\n",
       "      <td>15300.0</td>\n",
       "      <td>1028939.0</td>\n",
       "      <td>1.011400e+09</td>\n",
       "      <td>MN14</td>\n",
       "    </tr>\n",
       "    <tr>\n",
       "      <th>3</th>\n",
       "      <td>50062648</td>\n",
       "      <td>TGI FRIDAY</td>\n",
       "      <td>Brooklyn</td>\n",
       "      <td>3181</td>\n",
       "      <td>HARKNESS AVE</td>\n",
       "      <td>11235.0</td>\n",
       "      <td>7186480891</td>\n",
       "      <td>American</td>\n",
       "      <td>05/24/2017</td>\n",
       "      <td>Establishment re-opened by DOHMH</td>\n",
       "      <td>...</td>\n",
       "      <td>09/14/2019</td>\n",
       "      <td>Pre-permit (Operational) / Reopening Inspection</td>\n",
       "      <td>40.586561</td>\n",
       "      <td>-73.929106</td>\n",
       "      <td>315.0</td>\n",
       "      <td>48.0</td>\n",
       "      <td>62800.0</td>\n",
       "      <td>3248659.0</td>\n",
       "      <td>3.088410e+09</td>\n",
       "      <td>BK17</td>\n",
       "    </tr>\n",
       "    <tr>\n",
       "      <th>4</th>\n",
       "      <td>41629699</td>\n",
       "      <td>BLUE SMOKE</td>\n",
       "      <td>Manhattan</td>\n",
       "      <td>255</td>\n",
       "      <td>VESEY STREET</td>\n",
       "      <td>10282.0</td>\n",
       "      <td>2128892005</td>\n",
       "      <td>Barbecue</td>\n",
       "      <td>01/22/2019</td>\n",
       "      <td>Violations were cited in the following area(s).</td>\n",
       "      <td>...</td>\n",
       "      <td>09/14/2019</td>\n",
       "      <td>Cycle Inspection / Initial Inspection</td>\n",
       "      <td>40.714544</td>\n",
       "      <td>-74.015684</td>\n",
       "      <td>101.0</td>\n",
       "      <td>1.0</td>\n",
       "      <td>31703.0</td>\n",
       "      <td>1085867.0</td>\n",
       "      <td>1.000168e+09</td>\n",
       "      <td>MN25</td>\n",
       "    </tr>\n",
       "    <tr>\n",
       "      <th>5</th>\n",
       "      <td>40366109</td>\n",
       "      <td>FIFTH AVENUE BINGO</td>\n",
       "      <td>Brooklyn</td>\n",
       "      <td>416</td>\n",
       "      <td>5 AVENUE</td>\n",
       "      <td>11215.0</td>\n",
       "      <td>7187881691</td>\n",
       "      <td>American</td>\n",
       "      <td>03/23/2019</td>\n",
       "      <td>Violations were cited in the following area(s).</td>\n",
       "      <td>...</td>\n",
       "      <td>09/14/2019</td>\n",
       "      <td>Cycle Inspection / Initial Inspection</td>\n",
       "      <td>40.670038</td>\n",
       "      <td>-73.985591</td>\n",
       "      <td>306.0</td>\n",
       "      <td>39.0</td>\n",
       "      <td>13700.0</td>\n",
       "      <td>3324059.0</td>\n",
       "      <td>3.009980e+09</td>\n",
       "      <td>BK37</td>\n",
       "    </tr>\n",
       "    <tr>\n",
       "      <th>6</th>\n",
       "      <td>50010414</td>\n",
       "      <td>RED MANGO</td>\n",
       "      <td>Staten Island</td>\n",
       "      <td>2655</td>\n",
       "      <td>RICHMOND AVE</td>\n",
       "      <td>10314.0</td>\n",
       "      <td>7184947900</td>\n",
       "      <td>Ice Cream, Gelato, Yogurt, Ices</td>\n",
       "      <td>07/27/2017</td>\n",
       "      <td>Violations were cited in the following area(s).</td>\n",
       "      <td>...</td>\n",
       "      <td>09/14/2019</td>\n",
       "      <td>Cycle Inspection / Initial Inspection</td>\n",
       "      <td>40.582297</td>\n",
       "      <td>-74.169053</td>\n",
       "      <td>502.0</td>\n",
       "      <td>51.0</td>\n",
       "      <td>27702.0</td>\n",
       "      <td>5039658.0</td>\n",
       "      <td>5.024000e+09</td>\n",
       "      <td>SI24</td>\n",
       "    </tr>\n",
       "    <tr>\n",
       "      <th>7</th>\n",
       "      <td>41143058</td>\n",
       "      <td>THE ROOSEVELT HOTEL</td>\n",
       "      <td>Manhattan</td>\n",
       "      <td>45</td>\n",
       "      <td>EAST   45 STREET</td>\n",
       "      <td>10017.0</td>\n",
       "      <td>2128856076</td>\n",
       "      <td>American</td>\n",
       "      <td>07/03/2017</td>\n",
       "      <td>Violations were cited in the following area(s).</td>\n",
       "      <td>...</td>\n",
       "      <td>09/14/2019</td>\n",
       "      <td>Cycle Inspection / Initial Inspection</td>\n",
       "      <td>40.754531</td>\n",
       "      <td>-73.977398</td>\n",
       "      <td>105.0</td>\n",
       "      <td>4.0</td>\n",
       "      <td>9400.0</td>\n",
       "      <td>1035393.0</td>\n",
       "      <td>1.012810e+09</td>\n",
       "      <td>MN17</td>\n",
       "    </tr>\n",
       "    <tr>\n",
       "      <th>8</th>\n",
       "      <td>50079051</td>\n",
       "      <td>LATINO COFFEE SHOP &amp; PIZZA</td>\n",
       "      <td>Queens</td>\n",
       "      <td>15019</td>\n",
       "      <td>LIBERTY AVE</td>\n",
       "      <td>11433.0</td>\n",
       "      <td>7188802591</td>\n",
       "      <td>Latin (Cuban, Dominican, Puerto Rican, South &amp;...</td>\n",
       "      <td>06/07/2019</td>\n",
       "      <td>Violations were cited in the following area(s).</td>\n",
       "      <td>...</td>\n",
       "      <td>09/14/2019</td>\n",
       "      <td>Cycle Inspection / Re-inspection</td>\n",
       "      <td>40.698026</td>\n",
       "      <td>-73.802008</td>\n",
       "      <td>412.0</td>\n",
       "      <td>27.0</td>\n",
       "      <td>20800.0</td>\n",
       "      <td>4215645.0</td>\n",
       "      <td>4.101070e+09</td>\n",
       "      <td>QN61</td>\n",
       "    </tr>\n",
       "    <tr>\n",
       "      <th>9</th>\n",
       "      <td>41230536</td>\n",
       "      <td>TORRES ITALIAN RESTURANT</td>\n",
       "      <td>Brooklyn</td>\n",
       "      <td>6808</td>\n",
       "      <td>BAY PARKWAY</td>\n",
       "      <td>11204.0</td>\n",
       "      <td>7182561140</td>\n",
       "      <td>Pizza/Italian</td>\n",
       "      <td>03/05/2018</td>\n",
       "      <td>Violations were cited in the following area(s).</td>\n",
       "      <td>...</td>\n",
       "      <td>09/14/2019</td>\n",
       "      <td>Cycle Inspection / Initial Inspection</td>\n",
       "      <td>40.611892</td>\n",
       "      <td>-73.983465</td>\n",
       "      <td>311.0</td>\n",
       "      <td>47.0</td>\n",
       "      <td>25800.0</td>\n",
       "      <td>3135135.0</td>\n",
       "      <td>3.055800e+09</td>\n",
       "      <td>BK28</td>\n",
       "    </tr>\n",
       "    <tr>\n",
       "      <th>10</th>\n",
       "      <td>41157759</td>\n",
       "      <td>DOMINO'S</td>\n",
       "      <td>Brooklyn</td>\n",
       "      <td>835</td>\n",
       "      <td>CLARKSON AVENUE</td>\n",
       "      <td>11203.0</td>\n",
       "      <td>7187737445</td>\n",
       "      <td>Pizza</td>\n",
       "      <td>04/22/2019</td>\n",
       "      <td>Violations were cited in the following area(s).</td>\n",
       "      <td>...</td>\n",
       "      <td>09/14/2019</td>\n",
       "      <td>Cycle Inspection / Initial Inspection</td>\n",
       "      <td>40.656637</td>\n",
       "      <td>-73.930560</td>\n",
       "      <td>317.0</td>\n",
       "      <td>41.0</td>\n",
       "      <td>87800.0</td>\n",
       "      <td>3100202.0</td>\n",
       "      <td>3.046200e+09</td>\n",
       "      <td>BK60</td>\n",
       "    </tr>\n",
       "    <tr>\n",
       "      <th>11</th>\n",
       "      <td>50073180</td>\n",
       "      <td>MATTO EXPRESS</td>\n",
       "      <td>Manhattan</td>\n",
       "      <td>114</td>\n",
       "      <td>E 40TH ST</td>\n",
       "      <td>10016.0</td>\n",
       "      <td>2122444281</td>\n",
       "      <td>Café/Coffee/Tea</td>\n",
       "      <td>06/15/2018</td>\n",
       "      <td>Establishment Closed by DOHMH.  Violations wer...</td>\n",
       "      <td>...</td>\n",
       "      <td>09/14/2019</td>\n",
       "      <td>Pre-permit (Operational) / Compliance Inspection</td>\n",
       "      <td>40.750458</td>\n",
       "      <td>-73.977742</td>\n",
       "      <td>106.0</td>\n",
       "      <td>4.0</td>\n",
       "      <td>8000.0</td>\n",
       "      <td>1019493.0</td>\n",
       "      <td>1.008950e+09</td>\n",
       "      <td>MN20</td>\n",
       "    </tr>\n",
       "    <tr>\n",
       "      <th>12</th>\n",
       "      <td>50057294</td>\n",
       "      <td>SAUCE &amp; BARREL</td>\n",
       "      <td>Manhattan</td>\n",
       "      <td>13-21</td>\n",
       "      <td>RECTOR ST</td>\n",
       "      <td>10006.0</td>\n",
       "      <td>2124806800</td>\n",
       "      <td>Italian</td>\n",
       "      <td>06/19/2019</td>\n",
       "      <td>Violations were cited in the following area(s).</td>\n",
       "      <td>...</td>\n",
       "      <td>09/14/2019</td>\n",
       "      <td>Administrative Miscellaneous / Initial Inspection</td>\n",
       "      <td>40.707990</td>\n",
       "      <td>-74.013713</td>\n",
       "      <td>101.0</td>\n",
       "      <td>1.0</td>\n",
       "      <td>1300.0</td>\n",
       "      <td>1000794.0</td>\n",
       "      <td>1.000188e+09</td>\n",
       "      <td>MN25</td>\n",
       "    </tr>\n",
       "    <tr>\n",
       "      <th>13</th>\n",
       "      <td>50009470</td>\n",
       "      <td>KATO CAFE</td>\n",
       "      <td>Queens</td>\n",
       "      <td>13501</td>\n",
       "      <td>35TH AVE</td>\n",
       "      <td>11354.0</td>\n",
       "      <td>7183218818</td>\n",
       "      <td>Chinese</td>\n",
       "      <td>01/30/2019</td>\n",
       "      <td>Violations were cited in the following area(s).</td>\n",
       "      <td>...</td>\n",
       "      <td>09/14/2019</td>\n",
       "      <td>Cycle Inspection / Re-inspection</td>\n",
       "      <td>40.764494</td>\n",
       "      <td>-73.831613</td>\n",
       "      <td>407.0</td>\n",
       "      <td>20.0</td>\n",
       "      <td>86900.0</td>\n",
       "      <td>4112000.0</td>\n",
       "      <td>4.049500e+09</td>\n",
       "      <td>QN22</td>\n",
       "    </tr>\n",
       "    <tr>\n",
       "      <th>14</th>\n",
       "      <td>50089827</td>\n",
       "      <td>LUIGI'S PIZZA RESTURANT</td>\n",
       "      <td>Brooklyn</td>\n",
       "      <td>1615</td>\n",
       "      <td>AVENUE U</td>\n",
       "      <td>11229.0</td>\n",
       "      <td>7183829100</td>\n",
       "      <td>Pizza</td>\n",
       "      <td>08/06/2019</td>\n",
       "      <td>Violations were cited in the following area(s).</td>\n",
       "      <td>...</td>\n",
       "      <td>09/14/2019</td>\n",
       "      <td>Pre-permit (Operational) / Initial Inspection</td>\n",
       "      <td>40.598965</td>\n",
       "      <td>-73.955240</td>\n",
       "      <td>315.0</td>\n",
       "      <td>48.0</td>\n",
       "      <td>58000.0</td>\n",
       "      <td>3198175.0</td>\n",
       "      <td>3.073210e+09</td>\n",
       "      <td>BK44</td>\n",
       "    </tr>\n",
       "    <tr>\n",
       "      <th>15</th>\n",
       "      <td>50050777</td>\n",
       "      <td>GREAT WALL CHINESE RESTAURANT</td>\n",
       "      <td>Queens</td>\n",
       "      <td>19919</td>\n",
       "      <td>32ND AVE</td>\n",
       "      <td>11358.0</td>\n",
       "      <td>7183528899</td>\n",
       "      <td>Chinese</td>\n",
       "      <td>12/12/2016</td>\n",
       "      <td>Violations were cited in the following area(s).</td>\n",
       "      <td>...</td>\n",
       "      <td>09/14/2019</td>\n",
       "      <td>Pre-permit (Operational) / Re-inspection</td>\n",
       "      <td>40.769523</td>\n",
       "      <td>-73.789945</td>\n",
       "      <td>411.0</td>\n",
       "      <td>19.0</td>\n",
       "      <td>108500.0</td>\n",
       "      <td>4134014.0</td>\n",
       "      <td>4.060220e+09</td>\n",
       "      <td>QN46</td>\n",
       "    </tr>\n",
       "    <tr>\n",
       "      <th>16</th>\n",
       "      <td>50003211</td>\n",
       "      <td>OLMA CAVIAR BOUTIQUE &amp; BAR ( @ THE PLAZA FOOD ...</td>\n",
       "      <td>Manhattan</td>\n",
       "      <td>1</td>\n",
       "      <td>W 58TH ST</td>\n",
       "      <td>10019.0</td>\n",
       "      <td>2123718525</td>\n",
       "      <td>Seafood</td>\n",
       "      <td>07/23/2018</td>\n",
       "      <td>Violations were cited in the following area(s).</td>\n",
       "      <td>...</td>\n",
       "      <td>09/14/2019</td>\n",
       "      <td>Cycle Inspection / Initial Inspection</td>\n",
       "      <td>40.764085</td>\n",
       "      <td>-73.974489</td>\n",
       "      <td>105.0</td>\n",
       "      <td>4.0</td>\n",
       "      <td>11201.0</td>\n",
       "      <td>1035253.0</td>\n",
       "      <td>1.012748e+09</td>\n",
       "      <td>MN17</td>\n",
       "    </tr>\n",
       "    <tr>\n",
       "      <th>17</th>\n",
       "      <td>50038545</td>\n",
       "      <td>HOMEMADE TAQUERIA</td>\n",
       "      <td>Queens</td>\n",
       "      <td>4010</td>\n",
       "      <td>JUNCTION BLVD</td>\n",
       "      <td>11368.0</td>\n",
       "      <td>7184403307</td>\n",
       "      <td>Mexican</td>\n",
       "      <td>09/27/2018</td>\n",
       "      <td>Violations were cited in the following area(s).</td>\n",
       "      <td>...</td>\n",
       "      <td>09/14/2019</td>\n",
       "      <td>Cycle Inspection / Initial Inspection</td>\n",
       "      <td>40.748917</td>\n",
       "      <td>-73.869299</td>\n",
       "      <td>404.0</td>\n",
       "      <td>21.0</td>\n",
       "      <td>46500.0</td>\n",
       "      <td>4039789.0</td>\n",
       "      <td>4.015940e+09</td>\n",
       "      <td>QN29</td>\n",
       "    </tr>\n",
       "    <tr>\n",
       "      <th>18</th>\n",
       "      <td>41521807</td>\n",
       "      <td>SARGE'S</td>\n",
       "      <td>Manhattan</td>\n",
       "      <td>548</td>\n",
       "      <td>3 AVENUE</td>\n",
       "      <td>10016.0</td>\n",
       "      <td>2126790442</td>\n",
       "      <td>Delicatessen</td>\n",
       "      <td>04/05/2018</td>\n",
       "      <td>No violations were recorded at the time of thi...</td>\n",
       "      <td>...</td>\n",
       "      <td>09/14/2019</td>\n",
       "      <td>Administrative Miscellaneous / Re-inspection</td>\n",
       "      <td>40.747263</td>\n",
       "      <td>-73.977010</td>\n",
       "      <td>106.0</td>\n",
       "      <td>4.0</td>\n",
       "      <td>8000.0</td>\n",
       "      <td>1018964.0</td>\n",
       "      <td>1.008920e+09</td>\n",
       "      <td>MN20</td>\n",
       "    </tr>\n",
       "    <tr>\n",
       "      <th>19</th>\n",
       "      <td>40393725</td>\n",
       "      <td>TRIBECA GRILL</td>\n",
       "      <td>Manhattan</td>\n",
       "      <td>375</td>\n",
       "      <td>GREENWICH STREET</td>\n",
       "      <td>10013.0</td>\n",
       "      <td>2129413900</td>\n",
       "      <td>American</td>\n",
       "      <td>04/06/2016</td>\n",
       "      <td>Violations were cited in the following area(s).</td>\n",
       "      <td>...</td>\n",
       "      <td>09/14/2019</td>\n",
       "      <td>Cycle Inspection / Re-inspection</td>\n",
       "      <td>40.719696</td>\n",
       "      <td>-74.010242</td>\n",
       "      <td>101.0</td>\n",
       "      <td>1.0</td>\n",
       "      <td>3900.0</td>\n",
       "      <td>1002114.0</td>\n",
       "      <td>1.001878e+09</td>\n",
       "      <td>MN24</td>\n",
       "    </tr>\n",
       "  </tbody>\n",
       "</table>\n",
       "<p>20 rows × 26 columns</p>\n",
       "</div>"
      ],
      "text/plain": [
       "       CAMIS                                                DBA  \\\n",
       "0   41478979                                             SUBWAY   \n",
       "1   50051864                                      BUTCHER'S CUT   \n",
       "2   41164840                                  LA TRAVIATA PIZZA   \n",
       "3   50062648                                         TGI FRIDAY   \n",
       "4   41629699                                         BLUE SMOKE   \n",
       "5   40366109                                 FIFTH AVENUE BINGO   \n",
       "6   50010414                                          RED MANGO   \n",
       "7   41143058                                THE ROOSEVELT HOTEL   \n",
       "8   50079051                         LATINO COFFEE SHOP & PIZZA   \n",
       "9   41230536                           TORRES ITALIAN RESTURANT   \n",
       "10  41157759                                           DOMINO'S   \n",
       "11  50073180                                      MATTO EXPRESS   \n",
       "12  50057294                                     SAUCE & BARREL   \n",
       "13  50009470                                          KATO CAFE   \n",
       "14  50089827                            LUIGI'S PIZZA RESTURANT   \n",
       "15  50050777                      GREAT WALL CHINESE RESTAURANT   \n",
       "16  50003211  OLMA CAVIAR BOUTIQUE & BAR ( @ THE PLAZA FOOD ...   \n",
       "17  50038545                                  HOMEMADE TAQUERIA   \n",
       "18  41521807                                            SARGE'S   \n",
       "19  40393725                                      TRIBECA GRILL   \n",
       "\n",
       "             BORO BUILDING            STREET  ZIPCODE       PHONE  \\\n",
       "0       Manhattan      666          5 AVENUE  10103.0  2122472800   \n",
       "1          Queens    14613     NORTHERN BLVD  11354.0  7184604455   \n",
       "2       Manhattan      101  WEST   68 STREET  10023.0  2127211101   \n",
       "3        Brooklyn     3181      HARKNESS AVE  11235.0  7186480891   \n",
       "4       Manhattan      255      VESEY STREET  10282.0  2128892005   \n",
       "5        Brooklyn      416          5 AVENUE  11215.0  7187881691   \n",
       "6   Staten Island     2655      RICHMOND AVE  10314.0  7184947900   \n",
       "7       Manhattan       45  EAST   45 STREET  10017.0  2128856076   \n",
       "8          Queens    15019       LIBERTY AVE  11433.0  7188802591   \n",
       "9        Brooklyn     6808       BAY PARKWAY  11204.0  7182561140   \n",
       "10       Brooklyn      835   CLARKSON AVENUE  11203.0  7187737445   \n",
       "11      Manhattan      114         E 40TH ST  10016.0  2122444281   \n",
       "12      Manhattan    13-21         RECTOR ST  10006.0  2124806800   \n",
       "13         Queens    13501          35TH AVE  11354.0  7183218818   \n",
       "14       Brooklyn     1615          AVENUE U  11229.0  7183829100   \n",
       "15         Queens    19919          32ND AVE  11358.0  7183528899   \n",
       "16      Manhattan        1         W 58TH ST  10019.0  2123718525   \n",
       "17         Queens     4010     JUNCTION BLVD  11368.0  7184403307   \n",
       "18      Manhattan      548          3 AVENUE  10016.0  2126790442   \n",
       "19      Manhattan      375  GREENWICH STREET  10013.0  2129413900   \n",
       "\n",
       "                                  CUISINE DESCRIPTION INSPECTION DATE  \\\n",
       "0                                          Sandwiches      08/22/2018   \n",
       "1                                              Korean      04/26/2018   \n",
       "2                                               Pizza      08/14/2019   \n",
       "3                                            American      05/24/2017   \n",
       "4                                            Barbecue      01/22/2019   \n",
       "5                                            American      03/23/2019   \n",
       "6                     Ice Cream, Gelato, Yogurt, Ices      07/27/2017   \n",
       "7                                            American      07/03/2017   \n",
       "8   Latin (Cuban, Dominican, Puerto Rican, South &...      06/07/2019   \n",
       "9                                       Pizza/Italian      03/05/2018   \n",
       "10                                              Pizza      04/22/2019   \n",
       "11                                    Café/Coffee/Tea      06/15/2018   \n",
       "12                                            Italian      06/19/2019   \n",
       "13                                            Chinese      01/30/2019   \n",
       "14                                              Pizza      08/06/2019   \n",
       "15                                            Chinese      12/12/2016   \n",
       "16                                            Seafood      07/23/2018   \n",
       "17                                            Mexican      09/27/2018   \n",
       "18                                       Delicatessen      04/05/2018   \n",
       "19                                           American      04/06/2016   \n",
       "\n",
       "                                               ACTION  ... RECORD DATE  \\\n",
       "0     Violations were cited in the following area(s).  ...  09/14/2019   \n",
       "1     Violations were cited in the following area(s).  ...  09/14/2019   \n",
       "2     Violations were cited in the following area(s).  ...  09/14/2019   \n",
       "3                    Establishment re-opened by DOHMH  ...  09/14/2019   \n",
       "4     Violations were cited in the following area(s).  ...  09/14/2019   \n",
       "5     Violations were cited in the following area(s).  ...  09/14/2019   \n",
       "6     Violations were cited in the following area(s).  ...  09/14/2019   \n",
       "7     Violations were cited in the following area(s).  ...  09/14/2019   \n",
       "8     Violations were cited in the following area(s).  ...  09/14/2019   \n",
       "9     Violations were cited in the following area(s).  ...  09/14/2019   \n",
       "10    Violations were cited in the following area(s).  ...  09/14/2019   \n",
       "11  Establishment Closed by DOHMH.  Violations wer...  ...  09/14/2019   \n",
       "12    Violations were cited in the following area(s).  ...  09/14/2019   \n",
       "13    Violations were cited in the following area(s).  ...  09/14/2019   \n",
       "14    Violations were cited in the following area(s).  ...  09/14/2019   \n",
       "15    Violations were cited in the following area(s).  ...  09/14/2019   \n",
       "16    Violations were cited in the following area(s).  ...  09/14/2019   \n",
       "17    Violations were cited in the following area(s).  ...  09/14/2019   \n",
       "18  No violations were recorded at the time of thi...  ...  09/14/2019   \n",
       "19    Violations were cited in the following area(s).  ...  09/14/2019   \n",
       "\n",
       "                                      INSPECTION TYPE   Latitude  Longitude  \\\n",
       "0                    Cycle Inspection / Re-inspection  40.760542 -73.976421   \n",
       "1                    Cycle Inspection / Re-inspection  40.765026 -73.820377   \n",
       "2                    Cycle Inspection / Re-inspection  40.774942 -73.980861   \n",
       "3     Pre-permit (Operational) / Reopening Inspection  40.586561 -73.929106   \n",
       "4               Cycle Inspection / Initial Inspection  40.714544 -74.015684   \n",
       "5               Cycle Inspection / Initial Inspection  40.670038 -73.985591   \n",
       "6               Cycle Inspection / Initial Inspection  40.582297 -74.169053   \n",
       "7               Cycle Inspection / Initial Inspection  40.754531 -73.977398   \n",
       "8                    Cycle Inspection / Re-inspection  40.698026 -73.802008   \n",
       "9               Cycle Inspection / Initial Inspection  40.611892 -73.983465   \n",
       "10              Cycle Inspection / Initial Inspection  40.656637 -73.930560   \n",
       "11   Pre-permit (Operational) / Compliance Inspection  40.750458 -73.977742   \n",
       "12  Administrative Miscellaneous / Initial Inspection  40.707990 -74.013713   \n",
       "13                   Cycle Inspection / Re-inspection  40.764494 -73.831613   \n",
       "14      Pre-permit (Operational) / Initial Inspection  40.598965 -73.955240   \n",
       "15           Pre-permit (Operational) / Re-inspection  40.769523 -73.789945   \n",
       "16              Cycle Inspection / Initial Inspection  40.764085 -73.974489   \n",
       "17              Cycle Inspection / Initial Inspection  40.748917 -73.869299   \n",
       "18       Administrative Miscellaneous / Re-inspection  40.747263 -73.977010   \n",
       "19                   Cycle Inspection / Re-inspection  40.719696 -74.010242   \n",
       "\n",
       "   Community Board Council District Census Tract        BIN           BBL  \\\n",
       "0            105.0              4.0      10400.0  1034520.0  1.012688e+09   \n",
       "1            407.0             20.0     116300.0  4113214.0  4.050040e+09   \n",
       "2            107.0              6.0      15300.0  1028939.0  1.011400e+09   \n",
       "3            315.0             48.0      62800.0  3248659.0  3.088410e+09   \n",
       "4            101.0              1.0      31703.0  1085867.0  1.000168e+09   \n",
       "5            306.0             39.0      13700.0  3324059.0  3.009980e+09   \n",
       "6            502.0             51.0      27702.0  5039658.0  5.024000e+09   \n",
       "7            105.0              4.0       9400.0  1035393.0  1.012810e+09   \n",
       "8            412.0             27.0      20800.0  4215645.0  4.101070e+09   \n",
       "9            311.0             47.0      25800.0  3135135.0  3.055800e+09   \n",
       "10           317.0             41.0      87800.0  3100202.0  3.046200e+09   \n",
       "11           106.0              4.0       8000.0  1019493.0  1.008950e+09   \n",
       "12           101.0              1.0       1300.0  1000794.0  1.000188e+09   \n",
       "13           407.0             20.0      86900.0  4112000.0  4.049500e+09   \n",
       "14           315.0             48.0      58000.0  3198175.0  3.073210e+09   \n",
       "15           411.0             19.0     108500.0  4134014.0  4.060220e+09   \n",
       "16           105.0              4.0      11201.0  1035253.0  1.012748e+09   \n",
       "17           404.0             21.0      46500.0  4039789.0  4.015940e+09   \n",
       "18           106.0              4.0       8000.0  1018964.0  1.008920e+09   \n",
       "19           101.0              1.0       3900.0  1002114.0  1.001878e+09   \n",
       "\n",
       "     NTA  \n",
       "0   MN17  \n",
       "1   QN51  \n",
       "2   MN14  \n",
       "3   BK17  \n",
       "4   MN25  \n",
       "5   BK37  \n",
       "6   SI24  \n",
       "7   MN17  \n",
       "8   QN61  \n",
       "9   BK28  \n",
       "10  BK60  \n",
       "11  MN20  \n",
       "12  MN25  \n",
       "13  QN22  \n",
       "14  BK44  \n",
       "15  QN46  \n",
       "16  MN17  \n",
       "17  QN29  \n",
       "18  MN20  \n",
       "19  MN24  \n",
       "\n",
       "[20 rows x 26 columns]"
      ]
     },
     "execution_count": 5,
     "metadata": {},
     "output_type": "execute_result"
    }
   ],
   "source": [
    "df.head(20)"
   ]
  },
  {
   "cell_type": "code",
   "execution_count": null,
   "metadata": {},
   "outputs": [],
   "source": []
  },
  {
   "cell_type": "code",
   "execution_count": null,
   "metadata": {},
   "outputs": [],
   "source": []
  },
  {
   "cell_type": "markdown",
   "metadata": {
    "collapsed": true
   },
   "source": [
    "## Part 2: Explore and Summarize\n",
    "1. Count the number of unique restaurants in the DataFrame.\n",
    "2. Calculate the share of critical inpections.\n",
    "3. Show a histogram of `SCORE`. \n",
    "4. Create a boxplot of `GRADE` against `SCORE`. \n",
    "5. Describe the `INSPECTION DATE` field. \n",
    "6. Count the number of null values for `VIOLATION DESCRIPTION`. \n",
    "7. Print twenty unique non-null values for `VIOLATION DESCRIPTION`. \n"
   ]
  },
  {
   "cell_type": "markdown",
   "metadata": {},
   "source": [
    "Count the number of unique restaurants in the DataFrame."
   ]
  },
  {
   "cell_type": "code",
   "execution_count": 6,
   "metadata": {},
   "outputs": [
    {
     "data": {
      "text/plain": [
       "26874"
      ]
     },
     "execution_count": 6,
     "metadata": {},
     "output_type": "execute_result"
    }
   ],
   "source": [
    "df['CAMIS'].nunique()"
   ]
  },
  {
   "cell_type": "markdown",
   "metadata": {},
   "source": [
    "Calculate the share of critical inpections."
   ]
  },
  {
   "cell_type": "code",
   "execution_count": 7,
   "metadata": {},
   "outputs": [
    {
     "data": {
      "text/plain": [
       "0.5472717685124509"
      ]
     },
     "execution_count": 7,
     "metadata": {},
     "output_type": "execute_result"
    }
   ],
   "source": [
    "(df['CRITICAL FLAG']=='Y').sum()/len(df)"
   ]
  },
  {
   "cell_type": "markdown",
   "metadata": {},
   "source": [
    "Show a histogram of `SCORE`. "
   ]
  },
  {
   "cell_type": "code",
   "execution_count": 8,
   "metadata": {},
   "outputs": [
    {
     "data": {
      "text/plain": [
       "<matplotlib.axes._subplots.AxesSubplot at 0x1294aa748>"
      ]
     },
     "execution_count": 8,
     "metadata": {},
     "output_type": "execute_result"
    },
    {
     "data": {
      "image/png": "[encoded data removed]",
      "text/plain": [
       "<Figure size 432x288 with 1 Axes>"
      ]
     },
     "metadata": {
      "needs_background": "light"
     },
     "output_type": "display_data"
    }
   ],
   "source": [
    "df['SCORE'].hist()"
   ]
  },
  {
   "cell_type": "markdown",
   "metadata": {},
   "source": [
    "Create a boxplot of `GRADE` against `SCORE`. "
   ]
  },
  {
   "cell_type": "code",
   "execution_count": 9,
   "metadata": {},
   "outputs": [
    {
     "data": {
      "text/plain": [
       "<matplotlib.axes._subplots.AxesSubplot at 0x110766b00>"
      ]
     },
     "execution_count": 9,
     "metadata": {},
     "output_type": "execute_result"
    },
    {
     "data": {
      "image/png": "[encoded data removed]",
      "text/plain": [
       "<Figure size 432x288 with 1 Axes>"
      ]
     },
     "metadata": {
      "needs_background": "light"
     },
     "output_type": "display_data"
    }
   ],
   "source": [
    "df.boxplot(column='SCORE', by='GRADE')"
   ]
  },
  {
   "cell_type": "markdown",
   "metadata": {},
   "source": [
    "Describe the `INSPECTION DATE` field. "
   ]
  },
  {
   "cell_type": "code",
   "execution_count": 10,
   "metadata": {},
   "outputs": [
    {
     "data": {
      "text/plain": [
       "count         390656\n",
       "unique          1306\n",
       "top       01/01/1900\n",
       "freq            1276\n",
       "Name: INSPECTION DATE, dtype: object"
      ]
     },
     "execution_count": 10,
     "metadata": {},
     "output_type": "execute_result"
    }
   ],
   "source": [
    "df['INSPECTION DATE'].describe()"
   ]
  },
  {
   "cell_type": "markdown",
   "metadata": {},
   "source": [
    "Count the number of null values for VIOLATION DESCRIPTION."
   ]
  },
  {
   "cell_type": "code",
   "execution_count": 11,
   "metadata": {},
   "outputs": [
    {
     "data": {
      "text/plain": [
       "8838"
      ]
     },
     "execution_count": 11,
     "metadata": {},
     "output_type": "execute_result"
    }
   ],
   "source": [
    "df['VIOLATION DESCRIPTION'].isnull().sum()"
   ]
  },
  {
   "cell_type": "markdown",
   "metadata": {},
   "source": [
    "Print twenty unique violation descriptions."
   ]
  },
  {
   "cell_type": "code",
   "execution_count": 12,
   "metadata": {},
   "outputs": [
    {
     "data": {
      "text/plain": [
       "array(['Wiping cloths soiled or not stored in sanitizing solution.',\n",
       "       'Food contact surface not properly washed, rinsed and sanitized after each use and following any activity when contamination may have occurred.',\n",
       "       'Food not cooled by an approved method whereby the internal product temperature is reduced from 140º F to 70º F or less within 2 hours, and from 70º F to 41º F or less within 4 additional hours.',\n",
       "       'Non-food contact surface improperly constructed. Unacceptable material used. Non-food contact surface or equipment improperly maintained and/or not properly sealed, raised, spaced or movable to allow accessibility for cleaning on all sides, above and underneath the unit.',\n",
       "       'Food contact surface not properly maintained.',\n",
       "       \"Evidence of mice or live mice present in facility's food and/or non-food areas.\",\n",
       "       'Facility not vermin proof. Harborage or conditions conducive to attracting vermin to the premises and/or allowing vermin to exist.',\n",
       "       'Raw, cooked or prepared food is adulterated, contaminated, cross-contaminated, or not discarded in accordance with HACCP plan.',\n",
       "       'Personal cleanliness inadequate. Outer garment soiled with possible contaminant.  Effective hair restraint not worn in an area where food is prepared.',\n",
       "       'Food not protected from potential source of contamination during storage, preparation, transportation, display or service.',\n",
       "       'Current letter grade card not posted.',\n",
       "       'Food service operation occurring in room used as living or sleeping quarters.',\n",
       "       'Plumbing not properly installed or maintained; anti-siphonage or backflow prevention device not provided where required; equipment or floor not properly drained; sewage disposal system in disrepair or not functioning properly.',\n",
       "       'Filth flies or food/refuse/sewage-associated (FRSA) flies present in facility’s food and/or non-food areas. Filth flies include house flies, little house flies, blow flies, bottle flies and flesh flies. Food/refuse/sewage-associated flies include fruit flies, drain flies and Phorid flies.',\n",
       "       nan,\n",
       "       'Sanitized equipment or utensil, including in-use food dispensing utensil, improperly used or stored.',\n",
       "       '“Choking first aid” poster not posted. “Alcohol and pregnancy” warning sign not posted. Resuscitation equipment: exhaled air resuscitation masks (adult & pediatric), latex gloves, sign not posted. Inspection report sign not posted.',\n",
       "       'Accurate thermometer not provided in refrigerated or hot holding equipment.',\n",
       "       'Hot food item not held at or above 140º F.',\n",
       "       'Cold food item held above 41º F (smoked fish and reduced oxygen packaged foods above 38 ºF) except during necessary preparation.'],\n",
       "      dtype=object)"
      ]
     },
     "execution_count": 12,
     "metadata": {},
     "output_type": "execute_result"
    }
   ],
   "source": [
    "df['VIOLATION DESCRIPTION'].unique()[:20]"
   ]
  },
  {
   "cell_type": "code",
   "execution_count": null,
   "metadata": {},
   "outputs": [],
   "source": []
  },
  {
   "cell_type": "markdown",
   "metadata": {},
   "source": [
    "## Part 3: Create Clean Variables\n",
    "1. Transform `INSPECTION DATE` to datetime in new variable `inspection_datetime`.\n",
    "2. Create a `inspection_year` variable with the year of the `INSPECTION DATE`.\n",
    "4. Drop observations with `inspection_year` before 2014. \n",
    "5. Drop observations with null values for `VIOLATION DESCRIPTION`. \n",
    "6. Create a `found_vermin` variable for any `VIOLATION DESCRIPTION` containing *vermin*, *mouse*, *mice*, or *rat*.\n",
    "7. Create a `found_bugs` variable for any `VIOLATION DESCRIPTION` containing *insect*, *roach*, or *flies*.\n",
    "8. Create a `bad_temp` variable for any `VIOLATION DESCRIPTION` containing *temperature* or *Âº F*.\n",
    "\n",
    "\n",
    "Transform `INSPECTION DATE` to datetime in new variable `inspection_datetime`."
   ]
  },
  {
   "cell_type": "code",
   "execution_count": 13,
   "metadata": {},
   "outputs": [],
   "source": [
    "df['inspection_datetime'] = pd.to_datetime(df['INSPECTION DATE'])"
   ]
  },
  {
   "cell_type": "markdown",
   "metadata": {},
   "source": [
    "Create an `inspection_year` variable with the year of the `INSPECTION DATE`.\n"
   ]
  },
  {
   "cell_type": "code",
   "execution_count": 14,
   "metadata": {},
   "outputs": [],
   "source": [
    "df['inspection_year'] = df['inspection_datetime'].dt.year"
   ]
  },
  {
   "cell_type": "markdown",
   "metadata": {},
   "source": [
    "Drop observations with `inspection_year` before 2014. "
   ]
  },
  {
   "cell_type": "code",
   "execution_count": 15,
   "metadata": {},
   "outputs": [],
   "source": [
    "df = df.loc[df['inspection_year']>=2014]"
   ]
  },
  {
   "cell_type": "markdown",
   "metadata": {},
   "source": [
    "Drop observations with null values for `VIOLATION DESCRIPTION`."
   ]
  },
  {
   "cell_type": "code",
   "execution_count": 16,
   "metadata": {},
   "outputs": [],
   "source": [
    "df = df.dropna(subset=['VIOLATION DESCRIPTION'])"
   ]
  },
  {
   "cell_type": "markdown",
   "metadata": {},
   "source": [
    "Create a `found_vermin` variable for any `VIOLATION DESCRIPTION` containing *vermin*, *mouse*, *mice*, or *rat*.\n"
   ]
  },
  {
   "cell_type": "code",
   "execution_count": 17,
   "metadata": {},
   "outputs": [
    {
     "name": "stderr",
     "output_type": "stream",
     "text": [
      "/Users/grantl/anaconda3/lib/python3.7/site-packages/ipykernel_launcher.py:2: UserWarning: This pattern has match groups. To actually get the groups, use str.extract.\n",
      "  \n"
     ]
    }
   ],
   "source": [
    "df['found_vermin'] = df['VIOLATION DESCRIPTION'].str.contains(\n",
    "    '(vermin)|(mouse)|(mice)|(rat)'\n",
    ")"
   ]
  },
  {
   "cell_type": "markdown",
   "metadata": {},
   "source": [
    "Create a `found_bugs` variable for any `VIOLATION DESCRIPTION` containing *insect*, *roach*, or *flies*."
   ]
  },
  {
   "cell_type": "code",
   "execution_count": 18,
   "metadata": {},
   "outputs": [
    {
     "name": "stderr",
     "output_type": "stream",
     "text": [
      "/Users/grantl/anaconda3/lib/python3.7/site-packages/ipykernel_launcher.py:2: UserWarning: This pattern has match groups. To actually get the groups, use str.extract.\n",
      "  \n"
     ]
    }
   ],
   "source": [
    "df['found_bugs'] = df['VIOLATION DESCRIPTION'].str.contains(\n",
    "    '(insect)|(roach)|(flies)'\n",
    ")"
   ]
  },
  {
   "cell_type": "code",
   "execution_count": null,
   "metadata": {},
   "outputs": [],
   "source": []
  },
  {
   "cell_type": "markdown",
   "metadata": {},
   "source": [
    "## Part 4: Create a Working Subset\n",
    "\n",
    "1. Create a working subset DataFrame called `rest_df` with data grouped by restaurant (`'CAMIS'`) - take the max value for the following fields: `'DBA', 'BORO', 'BUILDING', 'STREET', 'ZIPCODE', 'PHONE', 'CUISINE DESCRIPTION', 'inspection_datetime',` and `'inspection_year'`.\n",
    "2. Create another working subset DataFrame called `violation_df` with data grouped by restaurant - take the sum value for `'found_vermin'` and `'found_bugs'`.\n",
    "3. Merge `rest_df` with `violation_df` to create `new_df`.\n",
    "4. Show the top 20 value_counts for `CUISINE DESCRIPTION`.\n",
    "5. Use the `cuisine_dict` to create a `cuisine_new` column with the `CUISINE DESCRIPTION`\n",
    "6. Replace the `CUISINE DESCRIPTION` for `CafÃ©/Coffee/Tea` with `Coffee`."
   ]
  },
  {
   "cell_type": "markdown",
   "metadata": {},
   "source": [
    "Create a working subset DataFrame called `rest_df` with data grouped by restaurant - take the max value for the following fields: `'CAMIS', 'DBA', 'BORO', 'BUILDING', 'STREET', 'ZIPCODE', 'PHONE', 'CUISINE DESCRIPTION', 'inspection_datetime',` and `'inspection_year'`.\n"
   ]
  },
  {
   "cell_type": "code",
   "execution_count": 19,
   "metadata": {},
   "outputs": [],
   "source": [
    "rest_df = df[[\n",
    "    'CAMIS', 'DBA', 'BORO', 'BUILDING', 'STREET', 'ZIPCODE', 'PHONE', \n",
    "    'CUISINE DESCRIPTION', 'inspection_datetime', 'inspection_year'\n",
    "]].groupby('CAMIS').max()"
   ]
  },
  {
   "cell_type": "markdown",
   "metadata": {},
   "source": [
    "Create another working subset DataFrame called `violation_df` with the data grouped by restaurant - take the sum value for `'found_vermin'` and `'found_bugs'`.\n"
   ]
  },
  {
   "cell_type": "code",
   "execution_count": 20,
   "metadata": {},
   "outputs": [],
   "source": [
    "violation_df = df[['CAMIS', 'found_vermin', 'found_bugs']].groupby('CAMIS').sum()"
   ]
  },
  {
   "cell_type": "markdown",
   "metadata": {},
   "source": [
    "Join `rest_df` with `violation_df` to create `new_df`.\n"
   ]
  },
  {
   "cell_type": "code",
   "execution_count": 21,
   "metadata": {},
   "outputs": [],
   "source": [
    "new_df = rest_df.join(violation_df)"
   ]
  },
  {
   "cell_type": "markdown",
   "metadata": {},
   "source": [
    "Show the top 20 value_counts for `CUISINE DESCRIPTION` from `rest_df`."
   ]
  },
  {
   "cell_type": "code",
   "execution_count": 22,
   "metadata": {},
   "outputs": [
    {
     "data": {
      "text/plain": [
       "American                                                            5751\n",
       "Chinese                                                             2389\n",
       "Café/Coffee/Tea                                                     1792\n",
       "Pizza                                                               1215\n",
       "Italian                                                              964\n",
       "Mexican                                                              952\n",
       "Japanese                                                             869\n",
       "Latin (Cuban, Dominican, Puerto Rican, South & Central American)     831\n",
       "Bakery                                                               749\n",
       "Caribbean                                                            704\n",
       "Spanish                                                              636\n",
       "Donuts                                                               525\n",
       "Chicken                                                              510\n",
       "Pizza/Italian                                                        477\n",
       "Juice, Smoothies, Fruit Salads                                       424\n",
       "Asian                                                                413\n",
       "Hamburgers                                                           365\n",
       "Sandwiches                                                           361\n",
       "Ice Cream, Gelato, Yogurt, Ices                                      343\n",
       "Indian                                                               330\n",
       "Name: CUISINE DESCRIPTION, dtype: int64"
      ]
     },
     "execution_count": 22,
     "metadata": {},
     "output_type": "execute_result"
    }
   ],
   "source": [
    "rest_df['CUISINE DESCRIPTION'].value_counts().head(20)"
   ]
  },
  {
   "cell_type": "markdown",
   "metadata": {},
   "source": [
    "Replace the `CUISINE DESCRIPTION` for `CafÃ©/Coffee/Tea` with `Coffee`."
   ]
  },
  {
   "cell_type": "code",
   "execution_count": 23,
   "metadata": {},
   "outputs": [],
   "source": [
    "rest_df.loc[rest_df['CUISINE DESCRIPTION']=='Café/Coffee/Tea', 'CUISINE DESCRIPTION'] = 'Coffee'"
   ]
  },
  {
   "cell_type": "code",
   "execution_count": null,
   "metadata": {},
   "outputs": [],
   "source": []
  },
  {
   "cell_type": "markdown",
   "metadata": {},
   "source": [
    "## Data Exploration\n",
    "\n",
    "Working with those around you, dig through the data and find a tweet-worthy takeaway from the data. How does your favorite neighborhood or favorite cuisine stack up?"
   ]
  },
  {
   "cell_type": "code",
   "execution_count": 24,
   "metadata": {},
   "outputs": [
    {
     "data": {
      "text/html": [
       "<div>\n",
       "<style scoped>\n",
       "    .dataframe tbody tr th:only-of-type {\n",
       "        vertical-align: middle;\n",
       "    }\n",
       "\n",
       "    .dataframe tbody tr th {\n",
       "        vertical-align: top;\n",
       "    }\n",
       "\n",
       "    .dataframe thead th {\n",
       "        text-align: right;\n",
       "    }\n",
       "</style>\n",
       "<table border=\"1\" class=\"dataframe\">\n",
       "  <thead>\n",
       "    <tr style=\"text-align: right;\">\n",
       "      <th></th>\n",
       "      <th>found_vermin</th>\n",
       "    </tr>\n",
       "    <tr>\n",
       "      <th>CUISINE DESCRIPTION</th>\n",
       "      <th></th>\n",
       "    </tr>\n",
       "  </thead>\n",
       "  <tbody>\n",
       "    <tr>\n",
       "      <th>Basque</th>\n",
       "      <td>1.000000</td>\n",
       "    </tr>\n",
       "    <tr>\n",
       "      <th>Nuts/Confectionary</th>\n",
       "      <td>2.166667</td>\n",
       "    </tr>\n",
       "    <tr>\n",
       "      <th>Hotdogs</th>\n",
       "      <td>2.444444</td>\n",
       "    </tr>\n",
       "    <tr>\n",
       "      <th>Other</th>\n",
       "      <td>2.753846</td>\n",
       "    </tr>\n",
       "    <tr>\n",
       "      <th>Soups</th>\n",
       "      <td>2.888889</td>\n",
       "    </tr>\n",
       "    <tr>\n",
       "      <th>Hotdogs/Pretzels</th>\n",
       "      <td>3.233333</td>\n",
       "    </tr>\n",
       "    <tr>\n",
       "      <th>Donuts</th>\n",
       "      <td>3.462857</td>\n",
       "    </tr>\n",
       "    <tr>\n",
       "      <th>Ice Cream, Gelato, Yogurt, Ices</th>\n",
       "      <td>3.763848</td>\n",
       "    </tr>\n",
       "    <tr>\n",
       "      <th>Café/Coffee/Tea</th>\n",
       "      <td>4.231027</td>\n",
       "    </tr>\n",
       "    <tr>\n",
       "      <th>Hawaiian</th>\n",
       "      <td>4.234043</td>\n",
       "    </tr>\n",
       "    <tr>\n",
       "      <th>Salads</th>\n",
       "      <td>4.243590</td>\n",
       "    </tr>\n",
       "    <tr>\n",
       "      <th>Juice, Smoothies, Fruit Salads</th>\n",
       "      <td>4.297170</td>\n",
       "    </tr>\n",
       "    <tr>\n",
       "      <th>Hamburgers</th>\n",
       "      <td>4.372603</td>\n",
       "    </tr>\n",
       "    <tr>\n",
       "      <th>Not Listed/Not Applicable</th>\n",
       "      <td>4.400000</td>\n",
       "    </tr>\n",
       "    <tr>\n",
       "      <th>Sandwiches/Salads/Mixed Buffet</th>\n",
       "      <td>4.439331</td>\n",
       "    </tr>\n",
       "    <tr>\n",
       "      <th>Indonesian</th>\n",
       "      <td>4.444444</td>\n",
       "    </tr>\n",
       "    <tr>\n",
       "      <th>Armenian</th>\n",
       "      <td>4.500000</td>\n",
       "    </tr>\n",
       "    <tr>\n",
       "      <th>Sandwiches</th>\n",
       "      <td>4.675900</td>\n",
       "    </tr>\n",
       "    <tr>\n",
       "      <th>Bottled beverages, including water, sodas, juices, etc.</th>\n",
       "      <td>4.724771</td>\n",
       "    </tr>\n",
       "    <tr>\n",
       "      <th>Scandinavian</th>\n",
       "      <td>4.875000</td>\n",
       "    </tr>\n",
       "  </tbody>\n",
       "</table>\n",
       "</div>"
      ],
      "text/plain": [
       "                                                    found_vermin\n",
       "CUISINE DESCRIPTION                                             \n",
       "Basque                                                  1.000000\n",
       "Nuts/Confectionary                                      2.166667\n",
       "Hotdogs                                                 2.444444\n",
       "Other                                                   2.753846\n",
       "Soups                                                   2.888889\n",
       "Hotdogs/Pretzels                                        3.233333\n",
       "Donuts                                                  3.462857\n",
       "Ice Cream, Gelato, Yogurt, Ices                         3.763848\n",
       "Café/Coffee/Tea                                         4.231027\n",
       "Hawaiian                                                4.234043\n",
       "Salads                                                  4.243590\n",
       "Juice, Smoothies, Fruit Salads                          4.297170\n",
       "Hamburgers                                              4.372603\n",
       "Not Listed/Not Applicable                               4.400000\n",
       "Sandwiches/Salads/Mixed Buffet                          4.439331\n",
       "Indonesian                                              4.444444\n",
       "Armenian                                                4.500000\n",
       "Sandwiches                                              4.675900\n",
       "Bottled beverages, including water, sodas, juic...      4.724771\n",
       "Scandinavian                                            4.875000"
      ]
     },
     "execution_count": 24,
     "metadata": {},
     "output_type": "execute_result"
    }
   ],
   "source": [
    "(\n",
    "    new_df[\n",
    "        ['CUISINE DESCRIPTION', 'found_vermin']\n",
    "    ]\n",
    "    .groupby('CUISINE DESCRIPTION')\n",
    "    .mean()\n",
    "    .sort_values(by='found_vermin')\n",
    "    .head(20)\n",
    ")"
   ]
  },
  {
   "cell_type": "code",
   "execution_count": null,
   "metadata": {},
   "outputs": [],
   "source": []
  },
  {
   "cell_type": "code",
   "execution_count": null,
   "metadata": {},
   "outputs": [],
   "source": []
  },
  {
   "cell_type": "markdown",
   "metadata": {},
   "source": [
    "## Bonus Round: Using Outside Resources to Clean Data\n",
    "\n",
    "Oftentimes, external services - or even services from other teams within your own company - will exist to help process data. One handy example case we can use here is the [NYC Geoclient](https://api.cityofnewyork.us/geoclient/v1/doc), a REST api that returns location information for an arbitrary address in New York City. It's an awesome resource!\n",
    "\n",
    "For the purposes of this exercise, I've included an API id below and gave you the key in class, but you can sign up for your own key at the [NYC Developer Portal](https://developer.cityofnewyork.us/).\n"
   ]
  },
  {
   "cell_type": "code",
   "execution_count": null,
   "metadata": {},
   "outputs": [],
   "source": [
    "url = 'https://api.cityofnewyork.us/geoclient/v1/address.json'\n",
    "\n",
    "params = {\n",
    "    'houseNumber' : '1605',\n",
    "    'street' : 'Amsterdam Avenue',\n",
    "    'borough' : 'Manhattan',\n",
    "    'zip' : '10031',    \n",
    "    'app_id' : '902d6887',\n",
    "    'app_key' : '590bf3976923555eea80031f6a37481c',   \n",
    "}\n",
    "\n",
    "raw_response = requests.get(url, params)\n",
    "\n",
    "raw_response.json()\n"
   ]
  },
  {
   "cell_type": "code",
   "execution_count": null,
   "metadata": {},
   "outputs": [],
   "source": []
  },
  {
   "cell_type": "markdown",
   "metadata": {},
   "source": [
    "#### Applying this to our restaurant inspection data set. \n",
    "\n",
    "We can use this to find the exact location for each coffee shop in our data set. \n",
    "\n",
    "1. First, create a function to return the latitude and longitude for a given building number, street address, borough, and zip code. \n",
    "2. Next, create a new subset of data for a single cuisine. \n",
    "3. Apply the function from Step 1 to the df from Step 2.\n"
   ]
  },
  {
   "cell_type": "code",
   "execution_count": null,
   "metadata": {},
   "outputs": [],
   "source": [
    "pd.set_option('mode.chained_assignment', None)\n",
    "\n",
    "def get_coordinates(row):\n",
    "\n",
    "    url = 'https://api.cityofnewyork.us/geoclient/v1/address.json'\n",
    "\n",
    "    params = {\n",
    "        'houseNumber' : row['BUILDING'],\n",
    "        'street' : row['STREET'],\n",
    "        'borough' : row['BORO'],\n",
    "        'zip' : row['ZIPCODE'],    \n",
    "        'app_id' : 'XXX',\n",
    "        'app_key' : 'XXX',   \n",
    "    }\n",
    "\n",
    "    raw_response = requests.get(url, params)\n",
    "    \n",
    "    try: \n",
    "        lat = raw_response.json()['address']['latitude']\n",
    "        long = raw_response.json()['address']['longitude']\n",
    "        value = str(lat) + ',' + str(long)\n",
    "    except KeyError:\n",
    "        value = None\n",
    "    \n",
    "    return value\n"
   ]
  },
  {
   "cell_type": "code",
   "execution_count": null,
   "metadata": {},
   "outputs": [],
   "source": [
    "cuisine_df = new_df.loc[new_df['CUISINE DESCRIPTION']=='Ice Cream, Gelato, Yogurt, Ices', ]"
   ]
  },
  {
   "cell_type": "code",
   "execution_count": null,
   "metadata": {},
   "outputs": [],
   "source": [
    "cuisine_df['coordinates'] = cuisine_df.apply(get_coordinates, axis=1)"
   ]
  },
  {
   "cell_type": "code",
   "execution_count": null,
   "metadata": {},
   "outputs": [],
   "source": [
    "cuisine_df['latitude'] = cuisine_df.coordinates.str.split(',').str.get(0).astype(float)\n",
    "cuisine_df['longitude'] = cuisine_df.coordinates.str.split(',').str.get(1).astype(float)\n"
   ]
  },
  {
   "cell_type": "code",
   "execution_count": null,
   "metadata": {},
   "outputs": [],
   "source": [
    "cuisine_df.plot.scatter('latitude', 'longitude')"
   ]
  },
  {
   "cell_type": "code",
   "execution_count": null,
   "metadata": {},
   "outputs": [],
   "source": []
  },
  {
   "cell_type": "code",
   "execution_count": null,
   "metadata": {},
   "outputs": [],
   "source": []
  },
  {
   "cell_type": "code",
   "execution_count": null,
   "metadata": {},
   "outputs": [],
   "source": []
  },
  {
   "cell_type": "code",
   "execution_count": null,
   "metadata": {},
   "outputs": [],
   "source": []
  },
  {
   "cell_type": "code",
   "execution_count": null,
   "metadata": {},
   "outputs": [],
   "source": []
  },
  {
   "cell_type": "code",
   "execution_count": null,
   "metadata": {},
   "outputs": [],
   "source": []
  },
  {
   "cell_type": "code",
   "execution_count": null,
   "metadata": {},
   "outputs": [],
   "source": []
  },
  {
   "cell_type": "code",
   "execution_count": null,
   "metadata": {},
   "outputs": [],
   "source": []
  },
  {
   "cell_type": "code",
   "execution_count": null,
   "metadata": {},
   "outputs": [],
   "source": []
  }
 ],
 "metadata": {
  "anaconda-cloud": {},
  "kernelspec": {
   "display_name": "Python 3",
   "language": "python",
   "name": "python3"
  },
  "language_info": {
   "codemirror_mode": {
    "name": "ipython",
    "version": 3
   },
   "file_extension": ".py",
   "mimetype": "text/x-python",
   "name": "python",
   "nbconvert_exporter": "python",
   "pygments_lexer": "ipython3",
   "version": "3.7.3"
  }
 },
 "nbformat": 4,
 "nbformat_minor": 1
}
