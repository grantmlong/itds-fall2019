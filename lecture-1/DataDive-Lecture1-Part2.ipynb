{
 "cells": [
  {
   "cell_type": "markdown",
   "metadata": {},
   "source": [
    "# Lecture 1, Part 2: A Brief Foray into Modeling\n",
    "\n",
    "##### To get a sense of what is coming, let's build a quick model. \n",
    "\n",
    "\n",
    "## Nearest neighbors: a cheap intro into data science modeling.\n",
    "##### Let's run a `knn` model to find out what some similar jobs might be. \n",
    "![NN](https://media.giphy.com/media/XMPFBfeB2tgK4/giphy-downsized-large.gif)\n",
    "\n",
    "But first Let's pick up where we left off, by reloading and straigtening out some of the data.\n",
    "\n"
   ]
  },
  {
   "cell_type": "code",
   "execution_count": 119,
   "metadata": {},
   "outputs": [],
   "source": [
    "import pandas as pd\n",
    "import numpy as np\n",
    "import ipywidgets as widgets\n",
    "\n",
    "from sklearn.neighbors import NearestNeighbors\n",
    "from sklearn.preprocessing import normalize\n",
    "from sklearn.neighbors import KNeighborsRegressor\n"
   ]
  },
  {
   "cell_type": "markdown",
   "metadata": {},
   "source": [
    "First, we reload the data and take a quick look to confirm all is as planned."
   ]
  },
  {
   "cell_type": "code",
   "execution_count": 120,
   "metadata": {},
   "outputs": [
    {
     "data": {
      "text/html": [
       "<div>\n",
       "<style scoped>\n",
       "    .dataframe tbody tr th:only-of-type {\n",
       "        vertical-align: middle;\n",
       "    }\n",
       "\n",
       "    .dataframe tbody tr th {\n",
       "        vertical-align: top;\n",
       "    }\n",
       "\n",
       "    .dataframe thead th {\n",
       "        text-align: right;\n",
       "    }\n",
       "</style>\n",
       "<table border=\"1\" class=\"dataframe\">\n",
       "  <thead>\n",
       "    <tr style=\"text-align: right;\">\n",
       "      <th></th>\n",
       "      <th>WORKSITE_CITY</th>\n",
       "      <th>WORKSITE_COUNTY</th>\n",
       "      <th>WORKSITE_STATE</th>\n",
       "      <th>WORKSITE_POSTAL_CODE</th>\n",
       "      <th>EMPLOYER_NAME</th>\n",
       "      <th>EMPLOYER_DBA</th>\n",
       "      <th>WAGE_RATE_OF_PAY_FROM</th>\n",
       "      <th>WAGE_UNIT_OF_PAY</th>\n",
       "      <th>NAICS_CODE</th>\n",
       "      <th>SOC_CODE</th>\n",
       "      <th>JOB_TITLE</th>\n",
       "      <th>CASE_STATUS</th>\n",
       "      <th>CASE_SUBMITTED</th>\n",
       "    </tr>\n",
       "  </thead>\n",
       "  <tbody>\n",
       "    <tr>\n",
       "      <th>59387</th>\n",
       "      <td>NASHVILLE</td>\n",
       "      <td>DAVIDSON</td>\n",
       "      <td>TN</td>\n",
       "      <td>37214</td>\n",
       "      <td>CAPGEMINI AMERICA INC</td>\n",
       "      <td>NaN</td>\n",
       "      <td>79100.0</td>\n",
       "      <td>Year</td>\n",
       "      <td>5416.0</td>\n",
       "      <td>15-1131</td>\n",
       "      <td>PROGRAMMER/ DEVELOPER 3</td>\n",
       "      <td>CERTIFIED</td>\n",
       "      <td>2019-02-11</td>\n",
       "    </tr>\n",
       "    <tr>\n",
       "      <th>250228</th>\n",
       "      <td>WEST PALM BEACH</td>\n",
       "      <td>PALM BEACH</td>\n",
       "      <td>FL</td>\n",
       "      <td>33401</td>\n",
       "      <td>SOFTVISION, LLC</td>\n",
       "      <td>NaN</td>\n",
       "      <td>81016.0</td>\n",
       "      <td>Year</td>\n",
       "      <td>541990.0</td>\n",
       "      <td>15-1132</td>\n",
       "      <td>ASSOCIATE</td>\n",
       "      <td>CERTIFIED</td>\n",
       "      <td>2019-03-18</td>\n",
       "    </tr>\n",
       "    <tr>\n",
       "      <th>1990</th>\n",
       "      <td>MENLO PARK</td>\n",
       "      <td>SAN MATEO</td>\n",
       "      <td>CA</td>\n",
       "      <td>94025</td>\n",
       "      <td>FACEBOOK, INC.</td>\n",
       "      <td>NaN</td>\n",
       "      <td>142500.0</td>\n",
       "      <td>Year</td>\n",
       "      <td>518112.0</td>\n",
       "      <td>15-1132</td>\n",
       "      <td>SOFTWARE ENGINEER</td>\n",
       "      <td>CERTIFIED</td>\n",
       "      <td>2019-01-08</td>\n",
       "    </tr>\n",
       "    <tr>\n",
       "      <th>222492</th>\n",
       "      <td>FRAMINGHAM</td>\n",
       "      <td>MIDDLESEX</td>\n",
       "      <td>MA</td>\n",
       "      <td>01702</td>\n",
       "      <td>TATA CONSULTANCY SERVICES LIMITED</td>\n",
       "      <td>NaN</td>\n",
       "      <td>71614.0</td>\n",
       "      <td>Year</td>\n",
       "      <td>541511.0</td>\n",
       "      <td>15-1199</td>\n",
       "      <td>TECHNICAL LEAD</td>\n",
       "      <td>CERTIFIED</td>\n",
       "      <td>2019-03-14</td>\n",
       "    </tr>\n",
       "    <tr>\n",
       "      <th>297184</th>\n",
       "      <td>NEW BRUNSWICK</td>\n",
       "      <td>MIDDLESEX</td>\n",
       "      <td>NJ</td>\n",
       "      <td>08901</td>\n",
       "      <td>PARAMOUNT GLOBAL SOLUTIONS INC</td>\n",
       "      <td>NaN</td>\n",
       "      <td>96366.0</td>\n",
       "      <td>Year</td>\n",
       "      <td>541511.0</td>\n",
       "      <td>15-1132</td>\n",
       "      <td>SOFTWARE DEVELOPER</td>\n",
       "      <td>CERTIFIED</td>\n",
       "      <td>2019-03-23</td>\n",
       "    </tr>\n",
       "  </tbody>\n",
       "</table>\n",
       "</div>"
      ],
      "text/plain": [
       "          WORKSITE_CITY WORKSITE_COUNTY WORKSITE_STATE WORKSITE_POSTAL_CODE  \\\n",
       "59387         NASHVILLE        DAVIDSON             TN                37214   \n",
       "250228  WEST PALM BEACH      PALM BEACH             FL                33401   \n",
       "1990         MENLO PARK       SAN MATEO             CA                94025   \n",
       "222492       FRAMINGHAM       MIDDLESEX             MA                01702   \n",
       "297184    NEW BRUNSWICK       MIDDLESEX             NJ                08901   \n",
       "\n",
       "                            EMPLOYER_NAME  EMPLOYER_DBA  \\\n",
       "59387               CAPGEMINI AMERICA INC           NaN   \n",
       "250228                    SOFTVISION, LLC           NaN   \n",
       "1990                       FACEBOOK, INC.           NaN   \n",
       "222492  TATA CONSULTANCY SERVICES LIMITED           NaN   \n",
       "297184     PARAMOUNT GLOBAL SOLUTIONS INC           NaN   \n",
       "\n",
       "        WAGE_RATE_OF_PAY_FROM WAGE_UNIT_OF_PAY  NAICS_CODE SOC_CODE  \\\n",
       "59387                 79100.0             Year      5416.0  15-1131   \n",
       "250228                81016.0             Year    541990.0  15-1132   \n",
       "1990                 142500.0             Year    518112.0  15-1132   \n",
       "222492                71614.0             Year    541511.0  15-1199   \n",
       "297184                96366.0             Year    541511.0  15-1132   \n",
       "\n",
       "                      JOB_TITLE CASE_STATUS CASE_SUBMITTED  \n",
       "59387   PROGRAMMER/ DEVELOPER 3   CERTIFIED     2019-02-11  \n",
       "250228                ASSOCIATE   CERTIFIED     2019-03-18  \n",
       "1990          SOFTWARE ENGINEER   CERTIFIED     2019-01-08  \n",
       "222492           TECHNICAL LEAD   CERTIFIED     2019-03-14  \n",
       "297184       SOFTWARE DEVELOPER   CERTIFIED     2019-03-23  "
      ]
     },
     "execution_count": 120,
     "metadata": {},
     "output_type": "execute_result"
    }
   ],
   "source": [
    "raw_df = pd.read_csv('https://grantmlong.com/data/H-1B_Disclosure_Data_FY2019_slim.csv')\n",
    "\n",
    "raw_df.sample(5)"
   ]
  },
  {
   "cell_type": "markdown",
   "metadata": {},
   "source": [
    "## Suppose we want to find similar roles to one we've been offered. How might we do this?\n",
    "\n",
    "#### We might look at jobs ... \n",
    "* in the same industry\n",
    "* in the same geographic area\n",
    "* in a similar occupation\n",
    "\n",
    "#### First, let's narrow down a few things:\n",
    "* Let's only look at visas that have been certified. \n",
    "* Let's filter out null values.\n",
    "* We can track occupation with the `SOC_CODE` column, which reflects a government-defined [Standard Occupation Code](https://www.bls.gov/soc/).\n",
    "* We can track industry with the `NAICS_CODE` column, which reflects a the [North American Industry Classification Codes](https://www.census.gov/eos/www/naics/).\n",
    "* However, both of these latter columns will need cleaning. \n",
    "\n"
   ]
  },
  {
   "cell_type": "code",
   "execution_count": 121,
   "metadata": {},
   "outputs": [],
   "source": [
    "raw_df = raw_df.loc[\n",
    "    (raw_df['WAGE_UNIT_OF_PAY']=='Year') & \n",
    "    (raw_df['CASE_STATUS']=='CERTIFIED') & \n",
    "    (raw_df['WORKSITE_POSTAL_CODE'].notnull()) & \n",
    "    (raw_df['SOC_CODE'].str.len()==7),\n",
    "].reset_index()\n",
    "\n",
    "raw_df['OCC_CODE'] = (\n",
    "    raw_df['SOC_CODE'].str.slice(0,2) + \n",
    "    raw_df['SOC_CODE'].str.slice(3,7)\n",
    ").astype(int)\n",
    "\n",
    "raw_df['NAICS_POWER'] = raw_df['NAICS_CODE'].astype(int).astype(str).str.len()\n",
    "raw_df['IND_CODE'] = (raw_df['NAICS_CODE'] * (10 ** (6-raw_df['NAICS_POWER'])))\n"
   ]
  },
  {
   "cell_type": "markdown",
   "metadata": {},
   "source": [
    "#### Let's start with geography. Let's convert worksite zip codes to latitude and longitude."
   ]
  },
  {
   "cell_type": "code",
   "execution_count": 122,
   "metadata": {},
   "outputs": [
    {
     "name": "stdout",
     "output_type": "stream",
     "text": [
      "10469 257384\n"
     ]
    }
   ],
   "source": [
    "# let's read a file with a list of latitude and longitude for each zip code in the country\n",
    "zip_df = pd.read_csv('https://grantmlong.com/data/ZipsLatLon.txt')\n",
    "\n",
    "# we'll need to clean this file up a bit to play with it\n",
    "zip_df['ZIP'] = zip_df.ZIP.astype(int).astype(str).str.zfill(5)\n",
    "zip_df = zip_df.set_index('ZIP')\n",
    "\n",
    "# having done this, we can add this to our data\n",
    "df = raw_df.merge(\n",
    "    zip_df,\n",
    "    left_on='WORKSITE_POSTAL_CODE',\n",
    "    right_index=True,\n",
    "    how='left'\n",
    ")\n",
    "\n",
    "# finally, let's make sure none of our values are null\n",
    "print(df['LNG'].isnull().sum(), df['LNG'].notnull().sum())"
   ]
  },
  {
   "cell_type": "markdown",
   "metadata": {},
   "source": [
    "Let's just drop the null values so we have a full data set "
   ]
  },
  {
   "cell_type": "code",
   "execution_count": 123,
   "metadata": {},
   "outputs": [
    {
     "data": {
      "text/plain": [
       "(257384, 19)"
      ]
     },
     "execution_count": 123,
     "metadata": {},
     "output_type": "execute_result"
    }
   ],
   "source": [
    "df = df.dropna(subset=['LAT', 'LNG'])\n",
    "\n",
    "df.shape"
   ]
  },
  {
   "cell_type": "markdown",
   "metadata": {},
   "source": [
    "#### Now we have a data set we can have a little fun with!"
   ]
  },
  {
   "cell_type": "code",
   "execution_count": 124,
   "metadata": {},
   "outputs": [
    {
     "data": {
      "text/html": [
       "<div>\n",
       "<style scoped>\n",
       "    .dataframe tbody tr th:only-of-type {\n",
       "        vertical-align: middle;\n",
       "    }\n",
       "\n",
       "    .dataframe tbody tr th {\n",
       "        vertical-align: top;\n",
       "    }\n",
       "\n",
       "    .dataframe thead th {\n",
       "        text-align: right;\n",
       "    }\n",
       "</style>\n",
       "<table border=\"1\" class=\"dataframe\">\n",
       "  <thead>\n",
       "    <tr style=\"text-align: right;\">\n",
       "      <th></th>\n",
       "      <th>index</th>\n",
       "      <th>WORKSITE_CITY</th>\n",
       "      <th>WORKSITE_COUNTY</th>\n",
       "      <th>WORKSITE_STATE</th>\n",
       "      <th>WORKSITE_POSTAL_CODE</th>\n",
       "      <th>EMPLOYER_NAME</th>\n",
       "      <th>EMPLOYER_DBA</th>\n",
       "      <th>WAGE_RATE_OF_PAY_FROM</th>\n",
       "      <th>WAGE_UNIT_OF_PAY</th>\n",
       "      <th>NAICS_CODE</th>\n",
       "      <th>SOC_CODE</th>\n",
       "      <th>JOB_TITLE</th>\n",
       "      <th>CASE_STATUS</th>\n",
       "      <th>CASE_SUBMITTED</th>\n",
       "      <th>OCC_CODE</th>\n",
       "      <th>NAICS_POWER</th>\n",
       "      <th>IND_CODE</th>\n",
       "      <th>LAT</th>\n",
       "      <th>LNG</th>\n",
       "    </tr>\n",
       "  </thead>\n",
       "  <tbody>\n",
       "    <tr>\n",
       "      <th>27407</th>\n",
       "      <td>30523</td>\n",
       "      <td>NEW YORK</td>\n",
       "      <td>NEW YORK</td>\n",
       "      <td>NY</td>\n",
       "      <td>10011</td>\n",
       "      <td>LYFT, INC.</td>\n",
       "      <td>NaN</td>\n",
       "      <td>145500.0</td>\n",
       "      <td>Year</td>\n",
       "      <td>541511.0</td>\n",
       "      <td>15-1132</td>\n",
       "      <td>ANDROID ENGINEER</td>\n",
       "      <td>CERTIFIED</td>\n",
       "      <td>2019-01-26</td>\n",
       "      <td>151132</td>\n",
       "      <td>6</td>\n",
       "      <td>541511.0</td>\n",
       "      <td>40.742039</td>\n",
       "      <td>-74.000620</td>\n",
       "    </tr>\n",
       "    <tr>\n",
       "      <th>35678</th>\n",
       "      <td>39623</td>\n",
       "      <td>JERSEY CITY</td>\n",
       "      <td>HUDSON</td>\n",
       "      <td>NJ</td>\n",
       "      <td>07310</td>\n",
       "      <td>LARSEN &amp; TOUBRO INFOTECH LIMITED</td>\n",
       "      <td>NaN</td>\n",
       "      <td>96366.0</td>\n",
       "      <td>Year</td>\n",
       "      <td>541511.0</td>\n",
       "      <td>15-1132</td>\n",
       "      <td>SOFTWARE DEVELOPERS, APPLICATIONS</td>\n",
       "      <td>CERTIFIED</td>\n",
       "      <td>2019-01-31</td>\n",
       "      <td>151132</td>\n",
       "      <td>6</td>\n",
       "      <td>541511.0</td>\n",
       "      <td>40.730133</td>\n",
       "      <td>-74.036816</td>\n",
       "    </tr>\n",
       "    <tr>\n",
       "      <th>20344</th>\n",
       "      <td>22715</td>\n",
       "      <td>SANTA CLARA</td>\n",
       "      <td>SANTA CLARA</td>\n",
       "      <td>CA</td>\n",
       "      <td>95054</td>\n",
       "      <td>INTELLISWIFT SOFTWARE INC</td>\n",
       "      <td>NaN</td>\n",
       "      <td>109242.0</td>\n",
       "      <td>Year</td>\n",
       "      <td>541511.0</td>\n",
       "      <td>15-1132</td>\n",
       "      <td>SOFTWARE DEVELOPER</td>\n",
       "      <td>CERTIFIED</td>\n",
       "      <td>2019-01-22</td>\n",
       "      <td>151132</td>\n",
       "      <td>6</td>\n",
       "      <td>541511.0</td>\n",
       "      <td>37.393491</td>\n",
       "      <td>-121.964670</td>\n",
       "    </tr>\n",
       "    <tr>\n",
       "      <th>100324</th>\n",
       "      <td>111752</td>\n",
       "      <td>PALO ALTO</td>\n",
       "      <td>SANTA CLARA</td>\n",
       "      <td>CA</td>\n",
       "      <td>94301</td>\n",
       "      <td>AMAZON.COM SERVICES, INC.</td>\n",
       "      <td>NaN</td>\n",
       "      <td>125000.0</td>\n",
       "      <td>Year</td>\n",
       "      <td>454111.0</td>\n",
       "      <td>15-2031</td>\n",
       "      <td>DATA SCIENTIST I</td>\n",
       "      <td>CERTIFIED</td>\n",
       "      <td>2019-02-27</td>\n",
       "      <td>152031</td>\n",
       "      <td>6</td>\n",
       "      <td>454111.0</td>\n",
       "      <td>37.444123</td>\n",
       "      <td>-122.149911</td>\n",
       "    </tr>\n",
       "  </tbody>\n",
       "</table>\n",
       "</div>"
      ],
      "text/plain": [
       "         index WORKSITE_CITY WORKSITE_COUNTY WORKSITE_STATE  \\\n",
       "27407    30523      NEW YORK        NEW YORK             NY   \n",
       "35678    39623   JERSEY CITY          HUDSON             NJ   \n",
       "20344    22715   SANTA CLARA     SANTA CLARA             CA   \n",
       "100324  111752     PALO ALTO     SANTA CLARA             CA   \n",
       "\n",
       "       WORKSITE_POSTAL_CODE                     EMPLOYER_NAME  EMPLOYER_DBA  \\\n",
       "27407                 10011                        LYFT, INC.           NaN   \n",
       "35678                 07310  LARSEN & TOUBRO INFOTECH LIMITED           NaN   \n",
       "20344                 95054         INTELLISWIFT SOFTWARE INC           NaN   \n",
       "100324                94301         AMAZON.COM SERVICES, INC.           NaN   \n",
       "\n",
       "        WAGE_RATE_OF_PAY_FROM WAGE_UNIT_OF_PAY  NAICS_CODE SOC_CODE  \\\n",
       "27407                145500.0             Year    541511.0  15-1132   \n",
       "35678                 96366.0             Year    541511.0  15-1132   \n",
       "20344                109242.0             Year    541511.0  15-1132   \n",
       "100324               125000.0             Year    454111.0  15-2031   \n",
       "\n",
       "                                JOB_TITLE CASE_STATUS CASE_SUBMITTED  \\\n",
       "27407                    ANDROID ENGINEER   CERTIFIED     2019-01-26   \n",
       "35678   SOFTWARE DEVELOPERS, APPLICATIONS   CERTIFIED     2019-01-31   \n",
       "20344                  SOFTWARE DEVELOPER   CERTIFIED     2019-01-22   \n",
       "100324                   DATA SCIENTIST I   CERTIFIED     2019-02-27   \n",
       "\n",
       "        OCC_CODE  NAICS_POWER  IND_CODE        LAT         LNG  \n",
       "27407     151132            6  541511.0  40.742039  -74.000620  \n",
       "35678     151132            6  541511.0  40.730133  -74.036816  \n",
       "20344     151132            6  541511.0  37.393491 -121.964670  \n",
       "100324    152031            6  454111.0  37.444123 -122.149911  "
      ]
     },
     "execution_count": 124,
     "metadata": {},
     "output_type": "execute_result"
    }
   ],
   "source": [
    "df.sample(4)"
   ]
  },
  {
   "cell_type": "code",
   "execution_count": null,
   "metadata": {},
   "outputs": [],
   "source": []
  },
  {
   "cell_type": "markdown",
   "metadata": {},
   "source": [
    "# Nearest Neighbors in a Nutshell\n",
    "\n",
    "The nearest neighbors algorithm will take all our points, and find the closest `k` points in space to our starting point.  \n",
    "![NN](https://media.giphy.com/media/qofOXXchB3EnS/giphy.gif)\n",
    "\n",
    "\n",
    "The `sklearn` package makes building this model a breeze. We'll gloss over what's going on here, but there's plenty of [excellent documentation here](https://scikit-learn.org/stable/modules/neighbors.html). \n",
    "\n",
    "Given that all of our values of numeric, this should be easy! However, we still have a little bit of prep to do. Let's create two different sets of variables, our `vals` that we'll run our algorithm on, and our `cols` that we'll look at to describe our data. "
   ]
  },
  {
   "cell_type": "code",
   "execution_count": 125,
   "metadata": {},
   "outputs": [],
   "source": [
    "# columns we'll use to evaluate our output\n",
    "cols = ['JOB_TITLE', 'EMPLOYER_NAME', 'WORKSITE_CITY', \n",
    "        'WORKSITE_STATE', 'WORKSITE_POSTAL_CODE', 'WAGE_RATE_OF_PAY_FROM']\n",
    "\n",
    "# values we'll use to build our algorithm\n",
    "vals = ['LAT', 'LNG', 'IND_CODE', 'OCC_CODE']\n"
   ]
  },
  {
   "cell_type": "markdown",
   "metadata": {},
   "source": [
    "#### Sampling, Standardization, and Normalization\n",
    "We need to make sure all of our data points are evenly spaced so that they'll all be treated similarly in our algorithm. \n",
    "\n",
    "Let's create a `sample_df` with all of the rows of data we want, and a vector `X` with all the data we need for the model"
   ]
  },
  {
   "cell_type": "code",
   "execution_count": 126,
   "metadata": {},
   "outputs": [
    {
     "data": {
      "text/html": [
       "<div>\n",
       "<style scoped>\n",
       "    .dataframe tbody tr th:only-of-type {\n",
       "        vertical-align: middle;\n",
       "    }\n",
       "\n",
       "    .dataframe tbody tr th {\n",
       "        vertical-align: top;\n",
       "    }\n",
       "\n",
       "    .dataframe thead th {\n",
       "        text-align: right;\n",
       "    }\n",
       "</style>\n",
       "<table border=\"1\" class=\"dataframe\">\n",
       "  <thead>\n",
       "    <tr style=\"text-align: right;\">\n",
       "      <th></th>\n",
       "      <th>0</th>\n",
       "      <th>1</th>\n",
       "      <th>2</th>\n",
       "      <th>3</th>\n",
       "    </tr>\n",
       "  </thead>\n",
       "  <tbody>\n",
       "    <tr>\n",
       "      <th>count</th>\n",
       "      <td>20000.000000</td>\n",
       "      <td>20000.000000</td>\n",
       "      <td>20000.000000</td>\n",
       "      <td>20000.000000</td>\n",
       "    </tr>\n",
       "    <tr>\n",
       "      <th>mean</th>\n",
       "      <td>0.007020</td>\n",
       "      <td>-0.006924</td>\n",
       "      <td>0.006994</td>\n",
       "      <td>0.006911</td>\n",
       "    </tr>\n",
       "    <tr>\n",
       "      <th>std</th>\n",
       "      <td>0.000847</td>\n",
       "      <td>0.001434</td>\n",
       "      <td>0.001043</td>\n",
       "      <td>0.001497</td>\n",
       "    </tr>\n",
       "    <tr>\n",
       "      <th>min</th>\n",
       "      <td>0.002479</td>\n",
       "      <td>-0.011649</td>\n",
       "      <td>0.001504</td>\n",
       "      <td>0.004849</td>\n",
       "    </tr>\n",
       "    <tr>\n",
       "      <th>25%</th>\n",
       "      <td>0.006287</td>\n",
       "      <td>-0.008679</td>\n",
       "      <td>0.007087</td>\n",
       "      <td>0.006601</td>\n",
       "    </tr>\n",
       "    <tr>\n",
       "      <th>50%</th>\n",
       "      <td>0.007157</td>\n",
       "      <td>-0.006476</td>\n",
       "      <td>0.007325</td>\n",
       "      <td>0.006601</td>\n",
       "    </tr>\n",
       "    <tr>\n",
       "      <th>75%</th>\n",
       "      <td>0.007516</td>\n",
       "      <td>-0.005686</td>\n",
       "      <td>0.007325</td>\n",
       "      <td>0.006604</td>\n",
       "    </tr>\n",
       "    <tr>\n",
       "      <th>max</th>\n",
       "      <td>0.011262</td>\n",
       "      <td>0.010744</td>\n",
       "      <td>0.012541</td>\n",
       "      <td>0.022584</td>\n",
       "    </tr>\n",
       "  </tbody>\n",
       "</table>\n",
       "</div>"
      ],
      "text/plain": [
       "                  0             1             2             3\n",
       "count  20000.000000  20000.000000  20000.000000  20000.000000\n",
       "mean       0.007020     -0.006924      0.006994      0.006911\n",
       "std        0.000847      0.001434      0.001043      0.001497\n",
       "min        0.002479     -0.011649      0.001504      0.004849\n",
       "25%        0.006287     -0.008679      0.007087      0.006601\n",
       "50%        0.007157     -0.006476      0.007325      0.006601\n",
       "75%        0.007516     -0.005686      0.007325      0.006604\n",
       "max        0.011262      0.010744      0.012541      0.022584"
      ]
     },
     "execution_count": 126,
     "metadata": {},
     "output_type": "execute_result"
    }
   ],
   "source": [
    "down_sample = True\n",
    "\n",
    "if down_sample:\n",
    "    sample_df = df[vals + cols].sample(20000, random_state=20190905).reset_index()\n",
    "    X_raw = sample_df[vals].values\n",
    "else:\n",
    "    sample_df = df[vals + cols].reset_index()\n",
    "    X_raw = sample_df[vals].values\n",
    "\n",
    "X, norms = normalize(X_raw, axis=0, return_norm=True)\n",
    "pd.DataFrame(X).describe()"
   ]
  },
  {
   "cell_type": "markdown",
   "metadata": {},
   "source": [
    "#### Now we're ready to build our model\n",
    "\n",
    "We can train the model in just two lines of code - it's not the hard part!"
   ]
  },
  {
   "cell_type": "code",
   "execution_count": 127,
   "metadata": {},
   "outputs": [
    {
     "data": {
      "text/plain": [
       "array([[17514,     0, 13827, 10309,  2655],\n",
       "       [18781, 16648,  5584, 18438,  2335],\n",
       "       [    2,  3803, 10663,  9959,  6023],\n",
       "       ...,\n",
       "       [19997, 15803, 16819, 13126,   561],\n",
       "       [17164,  8935,  5650, 11568, 11399],\n",
       "       [14304, 16252, 19999, 17213, 13657]])"
      ]
     },
     "execution_count": 127,
     "metadata": {},
     "output_type": "execute_result"
    }
   ],
   "source": [
    "nbrs = NearestNeighbors(n_neighbors=5, algorithm='ball_tree').fit(X)\n",
    "distances, indices = nbrs.kneighbors(X)\n",
    "indices                                           \n"
   ]
  },
  {
   "cell_type": "markdown",
   "metadata": {},
   "source": [
    "#### Hurray! That was pretty easy, right? \n",
    "\n",
    "Now let's display the nearest neighbors to a randomly selected observation to see what our model is doing."
   ]
  },
  {
   "cell_type": "code",
   "execution_count": 128,
   "metadata": {},
   "outputs": [
    {
     "data": {
      "text/html": [
       "<div>\n",
       "<style scoped>\n",
       "    .dataframe tbody tr th:only-of-type {\n",
       "        vertical-align: middle;\n",
       "    }\n",
       "\n",
       "    .dataframe tbody tr th {\n",
       "        vertical-align: top;\n",
       "    }\n",
       "\n",
       "    .dataframe thead th {\n",
       "        text-align: right;\n",
       "    }\n",
       "</style>\n",
       "<table border=\"1\" class=\"dataframe\">\n",
       "  <thead>\n",
       "    <tr style=\"text-align: right;\">\n",
       "      <th></th>\n",
       "      <th>2485</th>\n",
       "      <th>8978</th>\n",
       "      <th>16241</th>\n",
       "      <th>17523</th>\n",
       "      <th>18804</th>\n",
       "    </tr>\n",
       "  </thead>\n",
       "  <tbody>\n",
       "    <tr>\n",
       "      <th>JOB_TITLE</th>\n",
       "      <td>ENGINEER</td>\n",
       "      <td>ELECTRICAL ENGINEER</td>\n",
       "      <td>DESIGN ENGINEER</td>\n",
       "      <td>RAN TEST ENGINEER</td>\n",
       "      <td>SR. SOFTWARE ENGINEER</td>\n",
       "    </tr>\n",
       "    <tr>\n",
       "      <th>EMPLOYER_NAME</th>\n",
       "      <td>INTERTEK TESTING SERVICES NA, INC.</td>\n",
       "      <td>SYSPLUS TECHNOLOGY SOLUTIONS</td>\n",
       "      <td>VERISILICON, INC.</td>\n",
       "      <td>ADI WORLDLINK LLC</td>\n",
       "      <td>SAMSUNG RESEARCH AMERICA, INC.</td>\n",
       "    </tr>\n",
       "    <tr>\n",
       "      <th>WORKSITE_CITY</th>\n",
       "      <td>PLANO</td>\n",
       "      <td>PLANO</td>\n",
       "      <td>PLANO</td>\n",
       "      <td>PLANO</td>\n",
       "      <td>RICHARDSON</td>\n",
       "    </tr>\n",
       "    <tr>\n",
       "      <th>WORKSITE_STATE</th>\n",
       "      <td>TX</td>\n",
       "      <td>TX</td>\n",
       "      <td>TX</td>\n",
       "      <td>TX</td>\n",
       "      <td>TX</td>\n",
       "    </tr>\n",
       "    <tr>\n",
       "      <th>WORKSITE_POSTAL_CODE</th>\n",
       "      <td>75074</td>\n",
       "      <td>75074</td>\n",
       "      <td>75074</td>\n",
       "      <td>75023</td>\n",
       "      <td>75082</td>\n",
       "    </tr>\n",
       "    <tr>\n",
       "      <th>WAGE_RATE_OF_PAY_FROM</th>\n",
       "      <td>62850</td>\n",
       "      <td>89461</td>\n",
       "      <td>85000</td>\n",
       "      <td>106000</td>\n",
       "      <td>105518</td>\n",
       "    </tr>\n",
       "    <tr>\n",
       "      <th>LAT</th>\n",
       "      <td>33.0316</td>\n",
       "      <td>33.0316</td>\n",
       "      <td>33.0316</td>\n",
       "      <td>33.0568</td>\n",
       "      <td>32.9916</td>\n",
       "    </tr>\n",
       "    <tr>\n",
       "      <th>LNG</th>\n",
       "      <td>-96.6732</td>\n",
       "      <td>-96.6732</td>\n",
       "      <td>-96.6732</td>\n",
       "      <td>-96.7308</td>\n",
       "      <td>-96.6631</td>\n",
       "    </tr>\n",
       "    <tr>\n",
       "      <th>IND_CODE</th>\n",
       "      <td>541380</td>\n",
       "      <td>541511</td>\n",
       "      <td>541330</td>\n",
       "      <td>541511</td>\n",
       "      <td>541710</td>\n",
       "    </tr>\n",
       "    <tr>\n",
       "      <th>OCC_CODE</th>\n",
       "      <td>172111</td>\n",
       "      <td>172071</td>\n",
       "      <td>172072</td>\n",
       "      <td>172071</td>\n",
       "      <td>172071</td>\n",
       "    </tr>\n",
       "  </tbody>\n",
       "</table>\n",
       "</div>"
      ],
      "text/plain": [
       "                                                    2485   \\\n",
       "JOB_TITLE                                        ENGINEER   \n",
       "EMPLOYER_NAME          INTERTEK TESTING SERVICES NA, INC.   \n",
       "WORKSITE_CITY                                       PLANO   \n",
       "WORKSITE_STATE                                         TX   \n",
       "WORKSITE_POSTAL_CODE                                75074   \n",
       "WAGE_RATE_OF_PAY_FROM                               62850   \n",
       "LAT                                               33.0316   \n",
       "LNG                                              -96.6732   \n",
       "IND_CODE                                           541380   \n",
       "OCC_CODE                                           172111   \n",
       "\n",
       "                                              8978               16241  \\\n",
       "JOB_TITLE                       ELECTRICAL ENGINEER    DESIGN ENGINEER   \n",
       "EMPLOYER_NAME          SYSPLUS TECHNOLOGY SOLUTIONS  VERISILICON, INC.   \n",
       "WORKSITE_CITY                                 PLANO              PLANO   \n",
       "WORKSITE_STATE                                   TX                 TX   \n",
       "WORKSITE_POSTAL_CODE                          75074              75074   \n",
       "WAGE_RATE_OF_PAY_FROM                         89461              85000   \n",
       "LAT                                         33.0316            33.0316   \n",
       "LNG                                        -96.6732           -96.6732   \n",
       "IND_CODE                                     541511             541330   \n",
       "OCC_CODE                                     172071             172072   \n",
       "\n",
       "                                   17523                           18804  \n",
       "JOB_TITLE              RAN TEST ENGINEER           SR. SOFTWARE ENGINEER  \n",
       "EMPLOYER_NAME          ADI WORLDLINK LLC  SAMSUNG RESEARCH AMERICA, INC.  \n",
       "WORKSITE_CITY                      PLANO                      RICHARDSON  \n",
       "WORKSITE_STATE                        TX                              TX  \n",
       "WORKSITE_POSTAL_CODE               75023                           75082  \n",
       "WAGE_RATE_OF_PAY_FROM             106000                          105518  \n",
       "LAT                              33.0568                         32.9916  \n",
       "LNG                             -96.7308                        -96.6631  \n",
       "IND_CODE                          541511                          541710  \n",
       "OCC_CODE                          172071                          172071  "
      ]
     },
     "execution_count": 128,
     "metadata": {},
     "output_type": "execute_result"
    }
   ],
   "source": [
    "i = sample_df.sample().index.values[0]\n",
    "sample_df.loc[sample_df.index.isin([i] + list(indices[i,:])), cols + vals].transpose()"
   ]
  },
  {
   "cell_type": "code",
   "execution_count": null,
   "metadata": {},
   "outputs": [],
   "source": []
  },
  {
   "cell_type": "code",
   "execution_count": null,
   "metadata": {},
   "outputs": [],
   "source": []
  },
  {
   "cell_type": "markdown",
   "metadata": {},
   "source": [
    "# Building a Prediction Model\n",
    "\n",
    "It's great to find similar jobs given one that we already know about, but what about predicting the salary for any job we come up with? \n",
    "\n",
    "This will require a prediction model, or a *supervised* machine learning model. We'll talk more about this later in the semester, but for now, let's explore just how simple it is to build on of these models. "
   ]
  },
  {
   "cell_type": "markdown",
   "metadata": {},
   "source": [
    "### First, let's set up a few widgets to make evaluating our work a little easier\n",
    "\n",
    "I've done some work behind the scenes here to make this easier, but essentially we are just making it easier to look up location, occupation code, and industry code for any job we might want to predict. I've created some files with the top codes and locations and their associated labels. "
   ]
  },
  {
   "cell_type": "code",
   "execution_count": 129,
   "metadata": {},
   "outputs": [],
   "source": [
    "occ_names = pd.read_csv('https://grantmlong.com/data/OCC_NAMES2.csv', index_col=0)\n",
    "w = widgets.Dropdown(\n",
    "    options=[name[0] for name in occ_names.values],\n",
    "    value=occ_names.values[0],\n",
    "    description='Occupation:',\n",
    ")\n",
    "\n",
    "ind_names = pd.read_csv('https://grantmlong.com/data/IND_NAMES.csv', index_col=0)\n",
    "y = widgets.Dropdown(\n",
    "    options=[name[0] for name in ind_names.values],\n",
    "    value=ind_names.values[0],\n",
    "    description='Industry:',\n",
    ")\n",
    "\n",
    "loc_names = pd.read_csv('https://grantmlong.com/data/LOC_NAMES.csv', index_col=0)\n",
    "z = widgets.Dropdown(\n",
    "    options=list(loc_names.index.values),\n",
    "    value=list(loc_names.index.values)[0],\n",
    "    description='Location:'\n",
    ")\n",
    "\n"
   ]
  },
  {
   "cell_type": "markdown",
   "metadata": {},
   "source": [
    "### Let's Model!\n",
    "\n",
    "We'll use a `KNeighborsRegressor` regressor to find the five closest observations to what we'd like to predict and then fit the model based on the `sample_df` we created above. \n",
    "\n",
    "Again, while the process includes a lot of math and computation, python makes this super easy for us, and it takes just two lines of code to build our model. "
   ]
  },
  {
   "cell_type": "code",
   "execution_count": 130,
   "metadata": {},
   "outputs": [
    {
     "data": {
      "text/plain": [
       "KNeighborsRegressor(algorithm='auto', leaf_size=30, metric='minkowski',\n",
       "          metric_params=None, n_jobs=None, n_neighbors=5, p=2,\n",
       "          weights='uniform')"
      ]
     },
     "execution_count": 130,
     "metadata": {},
     "output_type": "execute_result"
    }
   ],
   "source": [
    "model = KNeighborsRegressor(n_neighbors=5)\n",
    "model.fit(X, sample_df['WAGE_RATE_OF_PAY_FROM'].values) \n"
   ]
  },
  {
   "cell_type": "markdown",
   "metadata": {},
   "source": [
    "### Tying it all together\n",
    "\n",
    "Finally, we'll need to display our widget and use them to create a prediction. "
   ]
  },
  {
   "cell_type": "code",
   "execution_count": 131,
   "metadata": {},
   "outputs": [
    {
     "data": {
      "application/vnd.jupyter.widget-view+json": {
       "model_id": "e6b57accd36442b0ac2816f1c046e334",
       "version_major": 2,
       "version_minor": 0
      },
      "text/plain": [
       "VBox(children=(Dropdown(description='Occupation:', options=('SOFTWARE DEVELOPERS, APPLICATIONS', 'COMPUTER OCC…"
      ]
     },
     "metadata": {},
     "output_type": "display_data"
    }
   ],
   "source": [
    "def get_prediction(model=model):\n",
    "    obs_raw = [\n",
    "        loc_names.loc[z.value].values[0],\n",
    "        loc_names.loc[z.value].values[1],\n",
    "        ind_names.loc[ind_names.Label==y.value].index.values[0],\n",
    "        (occ_names.loc[occ_names.SOC_NAME==w.value].index.values[0]),\n",
    "    ]\n",
    "\n",
    "    obs = (obs_raw / norms).reshape(1, -1)\n",
    "    \n",
    "    return model.predict(obs)[0]\n",
    "\n",
    "\n",
    "widgets.VBox([w, y, z])"
   ]
  },
  {
   "cell_type": "code",
   "execution_count": 132,
   "metadata": {},
   "outputs": [
    {
     "data": {
      "text/plain": [
       "149400.0"
      ]
     },
     "execution_count": 132,
     "metadata": {},
     "output_type": "execute_result"
    }
   ],
   "source": [
    "get_prediction()"
   ]
  },
  {
   "cell_type": "code",
   "execution_count": null,
   "metadata": {},
   "outputs": [],
   "source": []
  },
  {
   "cell_type": "code",
   "execution_count": null,
   "metadata": {},
   "outputs": [],
   "source": []
  },
  {
   "cell_type": "code",
   "execution_count": null,
   "metadata": {},
   "outputs": [],
   "source": []
  },
  {
   "cell_type": "code",
   "execution_count": null,
   "metadata": {},
   "outputs": [],
   "source": []
  }
 ],
 "metadata": {
  "kernelspec": {
   "display_name": "Python 3",
   "language": "python",
   "name": "python3"
  },
  "language_info": {
   "codemirror_mode": {
    "name": "ipython",
    "version": 3
   },
   "file_extension": ".py",
   "mimetype": "text/x-python",
   "name": "python",
   "nbconvert_exporter": "python",
   "pygments_lexer": "ipython3",
   "version": "3.6.7"
  }
 },
 "nbformat": 4,
 "nbformat_minor": 2
}
